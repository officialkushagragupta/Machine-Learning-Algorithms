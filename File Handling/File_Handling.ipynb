{
 "cells": [
  {
   "cell_type": "code",
   "execution_count": 9,
   "id": "4cedbfcd",
   "metadata": {},
   "outputs": [],
   "source": [
    "file = open('C:/Users/bhatt/OneDrive/Desktop/whisper-main/DS_Live_Oct/Lec18/file.txt', 'r')"
   ]
  },
  {
   "cell_type": "code",
   "execution_count": 10,
   "id": "759912da",
   "metadata": {},
   "outputs": [
    {
     "name": "stdout",
     "output_type": "stream",
     "text": [
      "<_io.TextIOWrapper name='C:/Users/bhatt/OneDrive/Desktop/whisper-main/DS_Live_Oct/Lec18/file.txt' mode='r' encoding='cp1252'>\n"
     ]
    }
   ],
   "source": [
    "print(file)"
   ]
  },
  {
   "cell_type": "code",
   "execution_count": 11,
   "id": "97f7f157",
   "metadata": {},
   "outputs": [],
   "source": [
    "content = file.read()"
   ]
  },
  {
   "cell_type": "code",
   "execution_count": 12,
   "id": "4924cf78",
   "metadata": {},
   "outputs": [
    {
     "name": "stdout",
     "output_type": "stream",
     "text": [
      "Good Morning!\n",
      "Hello World\n",
      "My name is Abhijeet.\n"
     ]
    }
   ],
   "source": [
    "print(content)"
   ]
  },
  {
   "cell_type": "code",
   "execution_count": 13,
   "id": "f42a35ca",
   "metadata": {},
   "outputs": [
    {
     "name": "stdout",
     "output_type": "stream",
     "text": [
      "\n"
     ]
    }
   ],
   "source": [
    "content = file.read()\n",
    "print(content)"
   ]
  },
  {
   "cell_type": "code",
   "execution_count": 14,
   "id": "190c4b1b",
   "metadata": {},
   "outputs": [],
   "source": [
    "file.close()"
   ]
  },
  {
   "cell_type": "code",
   "execution_count": 92,
   "id": "34f779ca",
   "metadata": {},
   "outputs": [],
   "source": [
    "file = open('C:/Users/bhatt/OneDrive/Desktop/whisper-main/DS_Live_Oct/Lec18/file.txt', 'r')"
   ]
  },
  {
   "cell_type": "code",
   "execution_count": 94,
   "id": "f731ce2f",
   "metadata": {},
   "outputs": [
    {
     "name": "stdout",
     "output_type": "stream",
     "text": [
      "ng!\n",
      "Hello World\n",
      "My name is Abhijeet.\n"
     ]
    }
   ],
   "source": [
    "content = file.read()\n",
    "print(content)"
   ]
  },
  {
   "cell_type": "code",
   "execution_count": 95,
   "id": "7b708cb1",
   "metadata": {},
   "outputs": [],
   "source": [
    "file.close()"
   ]
  },
  {
   "cell_type": "code",
   "execution_count": 97,
   "id": "383ef718",
   "metadata": {},
   "outputs": [],
   "source": [
    "file = open('C:/Users/bhatt/OneDrive/Desktop/whisper-main/DS_Live_Oct/Lec18/file.txt', 'r')"
   ]
  },
  {
   "cell_type": "code",
   "execution_count": 99,
   "id": "3a1784ea",
   "metadata": {},
   "outputs": [
    {
     "name": "stdout",
     "output_type": "stream",
     "text": [
      "Hello World\n",
      "\n"
     ]
    }
   ],
   "source": [
    "print(file.readline())"
   ]
  },
  {
   "cell_type": "code",
   "execution_count": 100,
   "id": "8100fc22",
   "metadata": {},
   "outputs": [
    {
     "data": {
      "text/plain": [
       "'My name is Abhijeet.'"
      ]
     },
     "execution_count": 100,
     "metadata": {},
     "output_type": "execute_result"
    }
   ],
   "source": [
    "file.readline()"
   ]
  },
  {
   "cell_type": "code",
   "execution_count": 101,
   "id": "ebe41fb3",
   "metadata": {},
   "outputs": [],
   "source": [
    "file.close()"
   ]
  },
  {
   "cell_type": "code",
   "execution_count": 86,
   "id": "a9bb5fc6",
   "metadata": {},
   "outputs": [],
   "source": [
    "file = open('C:/Users/bhatt/OneDrive/Desktop/whisper-main/DS_Live_Oct/Lec18/file.txt', 'r')"
   ]
  },
  {
   "cell_type": "code",
   "execution_count": 90,
   "id": "ba9bd0de",
   "metadata": {},
   "outputs": [
    {
     "name": "stdout",
     "output_type": "stream",
     "text": [
      "['ng!\\n', 'Hello World\\n', 'My name is Abhijeet.']\n"
     ]
    },
    {
     "data": {
      "text/plain": [
       "10"
      ]
     },
     "execution_count": 90,
     "metadata": {},
     "output_type": "execute_result"
    }
   ],
   "source": [
    "print(file.readlines())\n",
    "file.seek(10)"
   ]
  },
  {
   "cell_type": "code",
   "execution_count": 91,
   "id": "2963ad94",
   "metadata": {},
   "outputs": [],
   "source": [
    "file.close()"
   ]
  },
  {
   "cell_type": "code",
   "execution_count": 122,
   "id": "969ab99b",
   "metadata": {},
   "outputs": [],
   "source": [
    "file = open('C:/Users/bhatt/OneDrive/Desktop/whisper-main/DS_Live_Oct/Lec18/file.txt', 'r')"
   ]
  },
  {
   "cell_type": "code",
   "execution_count": 107,
   "id": "11741675",
   "metadata": {},
   "outputs": [
    {
     "name": "stdout",
     "output_type": "stream",
     "text": [
      "\n",
      "G\n",
      "Go\n",
      "Goo\n",
      "Good\n",
      "Good \n",
      "Good M\n",
      "Good Mo\n",
      "Good Mor\n",
      "Good Morn\n"
     ]
    }
   ],
   "source": [
    "count = 0\n",
    "for i in range(10):\n",
    "    content = file.read(count)\n",
    "    print(content)\n",
    "    count += 1\n",
    "    file.seek(0)"
   ]
  },
  {
   "cell_type": "code",
   "execution_count": 123,
   "id": "c12c62d9",
   "metadata": {},
   "outputs": [
    {
     "data": {
      "text/plain": [
       "'Good Morni'"
      ]
     },
     "execution_count": 123,
     "metadata": {},
     "output_type": "execute_result"
    }
   ],
   "source": [
    "file.read(10)"
   ]
  },
  {
   "cell_type": "code",
   "execution_count": 129,
   "id": "2a5c870d",
   "metadata": {},
   "outputs": [
    {
     "name": "stdout",
     "output_type": "stream",
     "text": [
      "Good Morni\n"
     ]
    }
   ],
   "source": [
    "file.seek(0)\n",
    "print(file.read(10))"
   ]
  },
  {
   "cell_type": "code",
   "execution_count": 130,
   "id": "d7d317d8",
   "metadata": {},
   "outputs": [],
   "source": [
    "file.close()"
   ]
  },
  {
   "cell_type": "code",
   "execution_count": null,
   "id": "de88d63c",
   "metadata": {},
   "outputs": [],
   "source": []
  }
 ],
 "metadata": {
  "kernelspec": {
   "display_name": "Python 3 (ipykernel)",
   "language": "python",
   "name": "python3"
  },
  "language_info": {
   "codemirror_mode": {
    "name": "ipython",
    "version": 3
   },
   "file_extension": ".py",
   "mimetype": "text/x-python",
   "name": "python",
   "nbconvert_exporter": "python",
   "pygments_lexer": "ipython3",
   "version": "3.8.10"
  }
 },
 "nbformat": 4,
 "nbformat_minor": 5
}
