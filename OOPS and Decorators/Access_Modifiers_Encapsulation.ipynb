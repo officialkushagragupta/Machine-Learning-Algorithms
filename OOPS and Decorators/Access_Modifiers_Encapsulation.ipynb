{
 "cells": [
  {
   "cell_type": "code",
   "execution_count": 1,
   "id": "5dd5c4e4",
   "metadata": {},
   "outputs": [],
   "source": [
    "a = 5\n",
    "if a == 5:\n",
    "    pass\n",
    "else:\n",
    "    print('Stop')"
   ]
  },
  {
   "cell_type": "code",
   "execution_count": 74,
   "id": "139656dc",
   "metadata": {},
   "outputs": [],
   "source": [
    "class Person:\n",
    "    \n",
    "    def __init__(self, name, password):\n",
    "        self.name = name\n",
    "        self.height = 5.8\n",
    "        self._email = 'abc@gmail.com'\n",
    "        self.__password = password\n",
    "    \n",
    "    def details(self):\n",
    "        print(f'The name is: {self.name}, password is: {self.__password}, email is: {self._email}')\n",
    "        \n",
    "    def __gen_otp(self):\n",
    "        self.__otp = '8585'\n",
    "    \n",
    "    def change_password(self, new_password, otp):\n",
    "        self.__gen_otp()\n",
    "        if self.__otp == otp:\n",
    "            self.__password = new_password\n",
    "        else:\n",
    "            print('Authentication Failed')"
   ]
  },
  {
   "cell_type": "code",
   "execution_count": 75,
   "id": "f7135d98",
   "metadata": {},
   "outputs": [],
   "source": [
    "abhijeet = Person('Abhijeet', '12345678')"
   ]
  },
  {
   "cell_type": "code",
   "execution_count": 76,
   "id": "43060b82",
   "metadata": {},
   "outputs": [
    {
     "data": {
      "text/plain": [
       "'abc@gmail.com'"
      ]
     },
     "execution_count": 76,
     "metadata": {},
     "output_type": "execute_result"
    }
   ],
   "source": [
    "abhijeet._email"
   ]
  },
  {
   "cell_type": "code",
   "execution_count": 77,
   "id": "5ba45bbf",
   "metadata": {},
   "outputs": [
    {
     "name": "stdout",
     "output_type": "stream",
     "text": [
      "The name is: Abhijeet, password is: 12345678, email is: abc@gmail.com\n"
     ]
    }
   ],
   "source": [
    "abhijeet.details()"
   ]
  },
  {
   "cell_type": "code",
   "execution_count": 78,
   "id": "a74e8c28",
   "metadata": {},
   "outputs": [],
   "source": [
    "abhijeet.change_password('hello world', '8585')"
   ]
  },
  {
   "cell_type": "code",
   "execution_count": 79,
   "id": "8f6013fc",
   "metadata": {},
   "outputs": [
    {
     "name": "stdout",
     "output_type": "stream",
     "text": [
      "The name is: Abhijeet, password is: hello world, email is: abc@gmail.com\n"
     ]
    }
   ],
   "source": [
    "abhijeet.details()"
   ]
  },
  {
   "cell_type": "code",
   "execution_count": 80,
   "id": "1862d5dc",
   "metadata": {},
   "outputs": [
    {
     "ename": "AttributeError",
     "evalue": "'Person' object has no attribute '__gen_otp'",
     "output_type": "error",
     "traceback": [
      "\u001b[1;31m---------------------------------------------------------------------------\u001b[0m",
      "\u001b[1;31mAttributeError\u001b[0m                            Traceback (most recent call last)",
      "Cell \u001b[1;32mIn[80], line 1\u001b[0m\n\u001b[1;32m----> 1\u001b[0m \u001b[43mabhijeet\u001b[49m\u001b[38;5;241;43m.\u001b[39;49m\u001b[43m__gen_otp\u001b[49m()\n",
      "\u001b[1;31mAttributeError\u001b[0m: 'Person' object has no attribute '__gen_otp'"
     ]
    }
   ],
   "source": [
    "abhijeet.__gen_otp()"
   ]
  },
  {
   "cell_type": "code",
   "execution_count": 81,
   "id": "c355d1f6",
   "metadata": {},
   "outputs": [
    {
     "ename": "AttributeError",
     "evalue": "'Person' object has no attribute '__otp'",
     "output_type": "error",
     "traceback": [
      "\u001b[1;31m---------------------------------------------------------------------------\u001b[0m",
      "\u001b[1;31mAttributeError\u001b[0m                            Traceback (most recent call last)",
      "Cell \u001b[1;32mIn[81], line 1\u001b[0m\n\u001b[1;32m----> 1\u001b[0m \u001b[43mabhijeet\u001b[49m\u001b[38;5;241;43m.\u001b[39;49m\u001b[43m__otp\u001b[49m\n",
      "\u001b[1;31mAttributeError\u001b[0m: 'Person' object has no attribute '__otp'"
     ]
    }
   ],
   "source": [
    "abhijeet.__otp"
   ]
  },
  {
   "cell_type": "code",
   "execution_count": 82,
   "id": "16258be9",
   "metadata": {},
   "outputs": [],
   "source": [
    "abhijeet._email = 'xyz@gmail.com'"
   ]
  },
  {
   "cell_type": "code",
   "execution_count": 83,
   "id": "5ee77da4",
   "metadata": {},
   "outputs": [
    {
     "name": "stdout",
     "output_type": "stream",
     "text": [
      "The name is: Abhijeet, password is: hello world, email is: xyz@gmail.com\n"
     ]
    }
   ],
   "source": [
    "abhijeet.details()"
   ]
  },
  {
   "cell_type": "code",
   "execution_count": 84,
   "id": "604fb34d",
   "metadata": {},
   "outputs": [
    {
     "data": {
      "text/plain": [
       "'The attribute doesnt exist'"
      ]
     },
     "execution_count": 84,
     "metadata": {},
     "output_type": "execute_result"
    }
   ],
   "source": [
    "getattr(abhijeet, '__password', 'The attribute doesnt exist')"
   ]
  },
  {
   "cell_type": "code",
   "execution_count": 85,
   "id": "2527e06b",
   "metadata": {},
   "outputs": [],
   "source": [
    "setattr(abhijeet, 'age', 23)"
   ]
  },
  {
   "cell_type": "code",
   "execution_count": 86,
   "id": "14e95e5e",
   "metadata": {},
   "outputs": [
    {
     "data": {
      "text/plain": [
       "23"
      ]
     },
     "execution_count": 86,
     "metadata": {},
     "output_type": "execute_result"
    }
   ],
   "source": [
    "abhijeet.age"
   ]
  },
  {
   "cell_type": "code",
   "execution_count": 87,
   "id": "d2e319f8",
   "metadata": {},
   "outputs": [
    {
     "ename": "AttributeError",
     "evalue": "'Person' object has no attribute '__password'",
     "output_type": "error",
     "traceback": [
      "\u001b[1;31m---------------------------------------------------------------------------\u001b[0m",
      "\u001b[1;31mAttributeError\u001b[0m                            Traceback (most recent call last)",
      "Cell \u001b[1;32mIn[87], line 1\u001b[0m\n\u001b[1;32m----> 1\u001b[0m \u001b[43mabhijeet\u001b[49m\u001b[38;5;241;43m.\u001b[39;49m\u001b[43m__password\u001b[49m\n",
      "\u001b[1;31mAttributeError\u001b[0m: 'Person' object has no attribute '__password'"
     ]
    }
   ],
   "source": [
    "abhijeet.__password"
   ]
  },
  {
   "cell_type": "code",
   "execution_count": 99,
   "id": "3afab042",
   "metadata": {},
   "outputs": [],
   "source": [
    "setattr(abhijeet, '__password', 23)"
   ]
  },
  {
   "cell_type": "code",
   "execution_count": 100,
   "id": "9e07e1c3",
   "metadata": {},
   "outputs": [
    {
     "name": "stdout",
     "output_type": "stream",
     "text": [
      "The name is: Abhijeet, password is: hello world, email is: xyz@gmail.com\n"
     ]
    }
   ],
   "source": [
    "abhijeet.details()"
   ]
  },
  {
   "cell_type": "code",
   "execution_count": 101,
   "id": "38d4b78b",
   "metadata": {},
   "outputs": [
    {
     "name": "stdout",
     "output_type": "stream",
     "text": [
      "23 <class 'int'>\n"
     ]
    }
   ],
   "source": [
    "print(abhijeet.__password, type(abhijeet.__password))"
   ]
  },
  {
   "cell_type": "code",
   "execution_count": 102,
   "id": "c3ccb35b",
   "metadata": {},
   "outputs": [
    {
     "data": {
      "text/plain": [
       "['hello', 'world']"
      ]
     },
     "execution_count": 102,
     "metadata": {},
     "output_type": "execute_result"
    }
   ],
   "source": [
    "'hello world'.split()"
   ]
  },
  {
   "cell_type": "code",
   "execution_count": 117,
   "id": "16d163a6",
   "metadata": {
    "scrolled": true
   },
   "outputs": [
    {
     "name": "stdout",
     "output_type": "stream",
     "text": [
      "[10]\n"
     ]
    }
   ],
   "source": [
    "t = []\n",
    "t.append(10)\n",
    "print(t)"
   ]
  },
  {
   "cell_type": "code",
   "execution_count": 118,
   "id": "64a43daa",
   "metadata": {},
   "outputs": [
    {
     "name": "stdout",
     "output_type": "stream",
     "text": [
      "<class 'list'>\n"
     ]
    }
   ],
   "source": [
    "print(type(t))"
   ]
  },
  {
   "cell_type": "code",
   "execution_count": 119,
   "id": "23a8a091",
   "metadata": {},
   "outputs": [
    {
     "name": "stdout",
     "output_type": "stream",
     "text": [
      "10 []\n"
     ]
    }
   ],
   "source": [
    "print(t.pop(), t)"
   ]
  },
  {
   "cell_type": "code",
   "execution_count": 125,
   "id": "eaadf610",
   "metadata": {},
   "outputs": [
    {
     "name": "stdout",
     "output_type": "stream",
     "text": [
      "<class 'type'>\n"
     ]
    }
   ],
   "source": [
    "print(type(range))"
   ]
  },
  {
   "cell_type": "code",
   "execution_count": 126,
   "id": "1838fd2a",
   "metadata": {},
   "outputs": [],
   "source": [
    "a = range(1, 5)"
   ]
  },
  {
   "cell_type": "code",
   "execution_count": 127,
   "id": "62379863",
   "metadata": {},
   "outputs": [
    {
     "name": "stdout",
     "output_type": "stream",
     "text": [
      "range(1, 5)\n"
     ]
    }
   ],
   "source": [
    "print(a)"
   ]
  },
  {
   "cell_type": "code",
   "execution_count": 128,
   "id": "6a5d663f",
   "metadata": {},
   "outputs": [
    {
     "name": "stdout",
     "output_type": "stream",
     "text": [
      "<class 'type'>\n"
     ]
    }
   ],
   "source": [
    "print(type(type))"
   ]
  },
  {
   "cell_type": "code",
   "execution_count": 129,
   "id": "2ed6c84d",
   "metadata": {},
   "outputs": [],
   "source": [
    "type?"
   ]
  },
  {
   "cell_type": "code",
   "execution_count": 140,
   "id": "0139c4f6",
   "metadata": {},
   "outputs": [],
   "source": [
    "a = 10\n",
    "b = 20\n",
    "def temp(a, b):\n",
    "    var = 100\n",
    "    print(a, b)\n",
    "    a += 1\n",
    "    b += 2\n",
    "    print(a, b, var)"
   ]
  },
  {
   "cell_type": "code",
   "execution_count": 141,
   "id": "b7d6a04e",
   "metadata": {},
   "outputs": [
    {
     "name": "stdout",
     "output_type": "stream",
     "text": [
      "10 20\n",
      "11 22 100\n"
     ]
    }
   ],
   "source": [
    "temp(a, b)"
   ]
  },
  {
   "cell_type": "code",
   "execution_count": 142,
   "id": "89f99e47",
   "metadata": {},
   "outputs": [],
   "source": [
    "def temp2():\n",
    "    print(var)"
   ]
  },
  {
   "cell_type": "code",
   "execution_count": 143,
   "id": "45090c4f",
   "metadata": {},
   "outputs": [
    {
     "ename": "NameError",
     "evalue": "name 'var' is not defined",
     "output_type": "error",
     "traceback": [
      "\u001b[1;31m---------------------------------------------------------------------------\u001b[0m",
      "\u001b[1;31mNameError\u001b[0m                                 Traceback (most recent call last)",
      "Cell \u001b[1;32mIn[143], line 1\u001b[0m\n\u001b[1;32m----> 1\u001b[0m \u001b[43mtemp2\u001b[49m\u001b[43m(\u001b[49m\u001b[43m)\u001b[49m\n",
      "Cell \u001b[1;32mIn[142], line 2\u001b[0m, in \u001b[0;36mtemp2\u001b[1;34m()\u001b[0m\n\u001b[0;32m      1\u001b[0m \u001b[38;5;28;01mdef\u001b[39;00m \u001b[38;5;21mtemp2\u001b[39m():\n\u001b[1;32m----> 2\u001b[0m     \u001b[38;5;28mprint\u001b[39m(\u001b[43mvar\u001b[49m)\n",
      "\u001b[1;31mNameError\u001b[0m: name 'var' is not defined"
     ]
    }
   ],
   "source": [
    "temp2()"
   ]
  },
  {
   "cell_type": "code",
   "execution_count": 157,
   "id": "7c1d2f70",
   "metadata": {},
   "outputs": [],
   "source": [
    "a = 200\n",
    "b = 200"
   ]
  },
  {
   "cell_type": "code",
   "execution_count": 158,
   "id": "050b2f6c",
   "metadata": {},
   "outputs": [
    {
     "name": "stdout",
     "output_type": "stream",
     "text": [
      "140737053536240 140737053536240 200 200\n",
      "140737053530800 140737053536240 30 200\n"
     ]
    }
   ],
   "source": [
    "print(id(a), id(b), a, b)\n",
    "a = 30\n",
    "print(id(a), id(b), a, b)"
   ]
  },
  {
   "cell_type": "code",
   "execution_count": 164,
   "id": "6cfc0ad5",
   "metadata": {},
   "outputs": [],
   "source": [
    "a = 200.0\n",
    "b = 200"
   ]
  },
  {
   "cell_type": "code",
   "execution_count": 165,
   "id": "11ca2d03",
   "metadata": {},
   "outputs": [],
   "source": [
    "c = a + b"
   ]
  },
  {
   "cell_type": "code",
   "execution_count": 167,
   "id": "8586b434",
   "metadata": {},
   "outputs": [
    {
     "name": "stdout",
     "output_type": "stream",
     "text": [
      "400.0\n"
     ]
    }
   ],
   "source": [
    "print(c)"
   ]
  },
  {
   "cell_type": "code",
   "execution_count": 169,
   "id": "7e399194",
   "metadata": {},
   "outputs": [
    {
     "data": {
      "text/plain": [
       "0"
      ]
     },
     "execution_count": 169,
     "metadata": {},
     "output_type": "execute_result"
    }
   ],
   "source": [
    "len(t)"
   ]
  },
  {
   "cell_type": "code",
   "execution_count": null,
   "id": "55463615",
   "metadata": {},
   "outputs": [],
   "source": []
  }
 ],
 "metadata": {
  "kernelspec": {
   "display_name": "Python 3 (ipykernel)",
   "language": "python",
   "name": "python3"
  },
  "language_info": {
   "codemirror_mode": {
    "name": "ipython",
    "version": 3
   },
   "file_extension": ".py",
   "mimetype": "text/x-python",
   "name": "python",
   "nbconvert_exporter": "python",
   "pygments_lexer": "ipython3",
   "version": "3.8.10"
  }
 },
 "nbformat": 4,
 "nbformat_minor": 5
}
