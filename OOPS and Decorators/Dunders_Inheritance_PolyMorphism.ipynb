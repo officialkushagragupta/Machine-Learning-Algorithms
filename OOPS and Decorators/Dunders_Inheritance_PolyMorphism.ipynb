{
 "cells": [
  {
   "cell_type": "code",
   "execution_count": 1,
   "id": "acc44174",
   "metadata": {},
   "outputs": [
    {
     "data": {
      "text/plain": [
       "True"
      ]
     },
     "execution_count": 1,
     "metadata": {},
     "output_type": "execute_result"
    }
   ],
   "source": [
    "isinstance(print, object)"
   ]
  },
  {
   "cell_type": "code",
   "execution_count": 8,
   "id": "c56731db",
   "metadata": {},
   "outputs": [],
   "source": [
    "class Car:\n",
    "    name = 'BMW'"
   ]
  },
  {
   "cell_type": "code",
   "execution_count": 22,
   "id": "5843d6f7",
   "metadata": {},
   "outputs": [
    {
     "name": "stdout",
     "output_type": "stream",
     "text": [
      "False\n"
     ]
    }
   ],
   "source": [
    "a = Car()\n",
    "b = Car()\n",
    "# print(a + b)\n",
    "print(isinstance(a.name, Car))"
   ]
  },
  {
   "cell_type": "code",
   "execution_count": 15,
   "id": "635602bf",
   "metadata": {},
   "outputs": [
    {
     "name": "stdout",
     "output_type": "stream",
     "text": [
      "140721061174256 140721061174256\n"
     ]
    }
   ],
   "source": [
    "a = 40\n",
    "b = 40\n",
    "print(id(a), id(b))"
   ]
  },
  {
   "cell_type": "code",
   "execution_count": 24,
   "id": "4f0c2db8",
   "metadata": {},
   "outputs": [
    {
     "data": {
      "text/plain": [
       "True"
      ]
     },
     "execution_count": 24,
     "metadata": {},
     "output_type": "execute_result"
    }
   ],
   "source": [
    "isinstance(a, object)"
   ]
  },
  {
   "cell_type": "code",
   "execution_count": 19,
   "id": "5d3ca31d",
   "metadata": {},
   "outputs": [],
   "source": [
    "c = a + b"
   ]
  },
  {
   "cell_type": "code",
   "execution_count": 20,
   "id": "6d290853",
   "metadata": {},
   "outputs": [
    {
     "name": "stdout",
     "output_type": "stream",
     "text": [
      "80\n"
     ]
    }
   ],
   "source": [
    "print(c)"
   ]
  },
  {
   "cell_type": "code",
   "execution_count": 38,
   "id": "5b8b2809",
   "metadata": {},
   "outputs": [],
   "source": [
    "class Car:\n",
    "    \n",
    "    def __init__(self, name, drive, top_speed, color):\n",
    "        self.name = name \n",
    "        self.drive = drive\n",
    "        self.top_speed = top_speed\n",
    "        self.color = color\n",
    "    \n",
    "    def __add__(self, other):\n",
    "        print('Adding 2 objects')\n",
    "        return self.top_speed + other.top_speed\n",
    "    \n",
    "    def __eq__(self, other):\n",
    "        print('Comparing 2 objects')\n",
    "        return self.name == other.name\n",
    "    \n",
    "    def __sub__(self, other):\n",
    "        print('Subtracting 2 objects')\n",
    "        return self.top_speed - other.top_speed\n",
    "    \n",
    "    def __str__(self):\n",
    "        print('Returning the string of onject')\n",
    "        return f'{self.top_speed}'"
   ]
  },
  {
   "cell_type": "code",
   "execution_count": 39,
   "id": "89fa34f1",
   "metadata": {},
   "outputs": [],
   "source": [
    "c1 = Car('Honda', 'A', 140, 'White')\n",
    "c2 = Car('Audi', 'A', 240, 'White')\n",
    "c3 = Car('Maruti', 'M', 120, 'Grey')"
   ]
  },
  {
   "cell_type": "code",
   "execution_count": 40,
   "id": "c410a8e2",
   "metadata": {},
   "outputs": [
    {
     "name": "stdout",
     "output_type": "stream",
     "text": [
      "Adding 2 objects\n",
      "380\n"
     ]
    }
   ],
   "source": [
    "print(c1 + c2)"
   ]
  },
  {
   "cell_type": "code",
   "execution_count": 32,
   "id": "da094635",
   "metadata": {},
   "outputs": [
    {
     "name": "stdout",
     "output_type": "stream",
     "text": [
      "Comparing 2 objects\n",
      "False\n"
     ]
    }
   ],
   "source": [
    "print(c3 == c2)"
   ]
  },
  {
   "cell_type": "code",
   "execution_count": 33,
   "id": "88ae05e4",
   "metadata": {},
   "outputs": [
    {
     "name": "stdout",
     "output_type": "stream",
     "text": [
      "Returning the string of object\n",
      "140\n"
     ]
    }
   ],
   "source": [
    "print(str(c1))"
   ]
  },
  {
   "cell_type": "code",
   "execution_count": 34,
   "id": "5bbfe5ed",
   "metadata": {},
   "outputs": [
    {
     "name": "stdout",
     "output_type": "stream",
     "text": [
      "Subtracting 2 objects\n",
      "20\n"
     ]
    }
   ],
   "source": [
    "print(c1 - c3)"
   ]
  },
  {
   "cell_type": "code",
   "execution_count": 41,
   "id": "ecd23ab7",
   "metadata": {},
   "outputs": [],
   "source": [
    "class School_Members:\n",
    "    \n",
    "    def __init__(self, name, age):\n",
    "        self.name = name\n",
    "        self.age = age\n",
    "        print(f'Initialised School Member')\n",
    "    \n",
    "    def detail(self):\n",
    "        print(f'School Members name: {self.name}, age: {self.age}')"
   ]
  },
  {
   "cell_type": "code",
   "execution_count": 44,
   "id": "71a5ab31",
   "metadata": {},
   "outputs": [],
   "source": [
    "class Teachers(School_Members):\n",
    "    \n",
    "    def __init__(self, name, age, sub):\n",
    "        \n",
    "        School_Members.__init__(self, name, age)\n",
    "        self.subject = sub\n",
    "        print(f'Initialised Teacher')\n",
    "        \n",
    "    def detail(self):\n",
    "        \n",
    "        School_Members.detail(self)\n",
    "        print(f'Subject taught is: {self.subject}')"
   ]
  },
  {
   "cell_type": "code",
   "execution_count": 45,
   "id": "1f220f06",
   "metadata": {},
   "outputs": [
    {
     "name": "stdout",
     "output_type": "stream",
     "text": [
      "Initialised School Member\n",
      "Initialised Teacher\n"
     ]
    }
   ],
   "source": [
    "T = Teachers('abhijeet', 23, 'Data Science')"
   ]
  },
  {
   "cell_type": "code",
   "execution_count": 46,
   "id": "61be29db",
   "metadata": {},
   "outputs": [
    {
     "name": "stdout",
     "output_type": "stream",
     "text": [
      "School Members name: abhijeet, age: 23\n",
      "Subject taught is: Data Science\n"
     ]
    }
   ],
   "source": [
    "T.detail()"
   ]
  },
  {
   "cell_type": "code",
   "execution_count": 47,
   "id": "8e145b76",
   "metadata": {},
   "outputs": [
    {
     "data": {
      "text/plain": [
       "23"
      ]
     },
     "execution_count": 47,
     "metadata": {},
     "output_type": "execute_result"
    }
   ],
   "source": [
    "T.age"
   ]
  },
  {
   "cell_type": "code",
   "execution_count": 49,
   "id": "b569a66e",
   "metadata": {},
   "outputs": [],
   "source": [
    "class Teachers(School_Members):\n",
    "    \n",
    "    def __init__(self, name, age, sub):\n",
    "        \n",
    "        super().__init__(name, age)\n",
    "        self.subject = sub\n",
    "        print(f'Initialised Teacher')\n",
    "        \n",
    "    def detail(self):\n",
    "        \n",
    "        super().detail()\n",
    "        print(f'Subject taught is: {self.subject}')"
   ]
  },
  {
   "cell_type": "code",
   "execution_count": 50,
   "id": "074d562e",
   "metadata": {},
   "outputs": [
    {
     "name": "stdout",
     "output_type": "stream",
     "text": [
      "Initialised School Member\n",
      "Initialised Teacher\n"
     ]
    }
   ],
   "source": [
    "T = Teachers('abhijeet', 23, 'Data Science')"
   ]
  },
  {
   "cell_type": "code",
   "execution_count": 51,
   "id": "533b6f7f",
   "metadata": {},
   "outputs": [
    {
     "name": "stdout",
     "output_type": "stream",
     "text": [
      "School Members name: abhijeet, age: 23\n",
      "Subject taught is: Data Science\n"
     ]
    }
   ],
   "source": [
    "T.detail()"
   ]
  },
  {
   "cell_type": "code",
   "execution_count": 52,
   "id": "9ea8f850",
   "metadata": {},
   "outputs": [
    {
     "data": {
      "text/plain": [
       "23"
      ]
     },
     "execution_count": 52,
     "metadata": {},
     "output_type": "execute_result"
    }
   ],
   "source": [
    "T.age"
   ]
  },
  {
   "cell_type": "code",
   "execution_count": 53,
   "id": "11211ca1",
   "metadata": {},
   "outputs": [
    {
     "name": "stdout",
     "output_type": "stream",
     "text": [
      "1\n",
      "2\n",
      "3\n",
      "4\n"
     ]
    }
   ],
   "source": [
    "for i in range(1, 5):\n",
    "    print(i)"
   ]
  },
  {
   "cell_type": "code",
   "execution_count": 54,
   "id": "ecd2d0d1",
   "metadata": {},
   "outputs": [
    {
     "data": {
      "text/plain": [
       "range(2, 10, 2)"
      ]
     },
     "execution_count": 54,
     "metadata": {},
     "output_type": "execute_result"
    }
   ],
   "source": [
    "range(2, 10, 2)"
   ]
  },
  {
   "cell_type": "code",
   "execution_count": 57,
   "id": "6e74c34d",
   "metadata": {},
   "outputs": [
    {
     "name": "stdout",
     "output_type": "stream",
     "text": [
      "1 2\n"
     ]
    }
   ],
   "source": [
    "print(1, 2)"
   ]
  },
  {
   "cell_type": "code",
   "execution_count": 58,
   "id": "42e43a0d",
   "metadata": {},
   "outputs": [],
   "source": [
    "a = 10\n",
    "a = 20\n",
    "a = 30\n",
    "a = 40"
   ]
  },
  {
   "cell_type": "code",
   "execution_count": 59,
   "id": "663b3e66",
   "metadata": {},
   "outputs": [
    {
     "name": "stdout",
     "output_type": "stream",
     "text": [
      "40\n"
     ]
    }
   ],
   "source": [
    "print(a)"
   ]
  },
  {
   "cell_type": "code",
   "execution_count": 76,
   "id": "5d16dada",
   "metadata": {},
   "outputs": [
    {
     "name": "stdout",
     "output_type": "stream",
     "text": [
      "In class 4\n"
     ]
    }
   ],
   "source": [
    "class Best_friend1:\n",
    "    \n",
    "    def detail(self):\n",
    "        print('In class 1')\n",
    "    \n",
    "class Best_friend2(Best_friend1):\n",
    "    \n",
    "    def detail(self):\n",
    "        print('In class 1')\n",
    "\n",
    "class Best_friend3:\n",
    "    \n",
    "    def detail(self):\n",
    "        print('In class 3')\n",
    "        \n",
    "class Me(Best_friend3, Best_friend1):\n",
    "    print('In class 4')\n",
    "#     def detail(self):\n",
    "#         print('In class 4')"
   ]
  },
  {
   "cell_type": "code",
   "execution_count": 77,
   "id": "e8c1c1f8",
   "metadata": {},
   "outputs": [
    {
     "name": "stdout",
     "output_type": "stream",
     "text": [
      "In class 3\n",
      "None\n"
     ]
    }
   ],
   "source": [
    "bf = Me()\n",
    "print(bf.detail())"
   ]
  },
  {
   "cell_type": "code",
   "execution_count": null,
   "id": "fffd7249",
   "metadata": {},
   "outputs": [],
   "source": []
  }
 ],
 "metadata": {
  "kernelspec": {
   "display_name": "Python 3 (ipykernel)",
   "language": "python",
   "name": "python3"
  },
  "language_info": {
   "codemirror_mode": {
    "name": "ipython",
    "version": 3
   },
   "file_extension": ".py",
   "mimetype": "text/x-python",
   "name": "python",
   "nbconvert_exporter": "python",
   "pygments_lexer": "ipython3",
   "version": "3.8.10"
  }
 },
 "nbformat": 4,
 "nbformat_minor": 5
}
