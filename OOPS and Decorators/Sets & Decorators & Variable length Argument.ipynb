{
 "cells": [
  {
   "cell_type": "code",
   "execution_count": 2,
   "id": "6406182e",
   "metadata": {},
   "outputs": [
    {
     "name": "stdout",
     "output_type": "stream",
     "text": [
      "3\n",
      "5\n",
      "16\n",
      "4\n",
      "20\n",
      "50\n",
      "15\n",
      "1\n",
      "100\n",
      "48\n"
     ]
    }
   ],
   "source": [
    "def binary(n):\n",
    "    s=\"\"\n",
    "    while(n>0):\n",
    "        sum=(str)((int)(n%2))\n",
    "        s+=sum\n",
    "        n=(int)(n/2)\n",
    "    return s[::-1]\n",
    "t=int(input())\n",
    "while(t>0):\n",
    "    n=int(input(\"\"))\n",
    "    x=int(input(\"\"))\n",
    "    count=0\n",
    "    for j in range(n,x+1):\n",
    "        s=binary(j)\n",
    "        x=len(s)\n",
    "        for i in range(x):\n",
    "            if(s[i]=='1' and i+2<x and i+1<x and s[i+1]=='1' and s[i+2]=='0'):\n",
    "                count+=1\n",
    "                break\n",
    "    print(count)\n",
    "    t-=1"
   ]
  },
  {
   "cell_type": "code",
   "execution_count": 3,
   "id": "91390a66",
   "metadata": {},
   "outputs": [
    {
     "name": "stdout",
     "output_type": "stream",
     "text": [
      "5 16\n"
     ]
    }
   ],
   "source": [
    "var = input('')"
   ]
  },
  {
   "cell_type": "code",
   "execution_count": 7,
   "id": "d0d831c2",
   "metadata": {},
   "outputs": [],
   "source": [
    "var.split()\n",
    "var1 = var[0]\n",
    "var2 = var[1]"
   ]
  },
  {
   "cell_type": "code",
   "execution_count": 8,
   "id": "02f7d1aa",
   "metadata": {},
   "outputs": [],
   "source": [
    "string = '5 16'"
   ]
  },
  {
   "cell_type": "code",
   "execution_count": 12,
   "id": "5868d4ce",
   "metadata": {},
   "outputs": [],
   "source": [
    "def to_split(string):\n",
    "    ans = []\n",
    "    temp_str = ''\n",
    "    for i in string:\n",
    "        if i == ' ':\n",
    "            ans.append(temp_str)\n",
    "            temp_str = ''\n",
    "        else:\n",
    "            temp_str += i\n",
    "    ans.append(temp_str)\n",
    "    return ans"
   ]
  },
  {
   "cell_type": "code",
   "execution_count": 13,
   "id": "492eb1d6",
   "metadata": {},
   "outputs": [
    {
     "name": "stdout",
     "output_type": "stream",
     "text": [
      "['5', '16']\n"
     ]
    }
   ],
   "source": [
    "print(to_split(string))"
   ]
  },
  {
   "cell_type": "code",
   "execution_count": 14,
   "id": "e481e333",
   "metadata": {},
   "outputs": [],
   "source": [
    "# Sets"
   ]
  },
  {
   "cell_type": "code",
   "execution_count": 19,
   "id": "7af21e28",
   "metadata": {},
   "outputs": [],
   "source": [
    "s = {1, 2, 3}"
   ]
  },
  {
   "cell_type": "code",
   "execution_count": 20,
   "id": "953d71a2",
   "metadata": {},
   "outputs": [
    {
     "data": {
      "text/plain": [
       "set"
      ]
     },
     "execution_count": 20,
     "metadata": {},
     "output_type": "execute_result"
    }
   ],
   "source": [
    "type(s)"
   ]
  },
  {
   "cell_type": "code",
   "execution_count": 21,
   "id": "7bb04b41",
   "metadata": {},
   "outputs": [
    {
     "name": "stdout",
     "output_type": "stream",
     "text": [
      "1\n",
      "2\n",
      "3\n"
     ]
    }
   ],
   "source": [
    "for i in s:\n",
    "    print(i)"
   ]
  },
  {
   "cell_type": "code",
   "execution_count": 23,
   "id": "cd1d1bd0",
   "metadata": {},
   "outputs": [
    {
     "ename": "TypeError",
     "evalue": "'set' object does not support item assignment",
     "output_type": "error",
     "traceback": [
      "\u001b[1;31m---------------------------------------------------------------------------\u001b[0m",
      "\u001b[1;31mTypeError\u001b[0m                                 Traceback (most recent call last)",
      "Cell \u001b[1;32mIn[23], line 1\u001b[0m\n\u001b[1;32m----> 1\u001b[0m \u001b[43ms\u001b[49m\u001b[43m[\u001b[49m\u001b[38;5;241;43m0\u001b[39;49m\u001b[43m]\u001b[49m \u001b[38;5;241m=\u001b[39m \u001b[38;5;241m11\u001b[39m\n",
      "\u001b[1;31mTypeError\u001b[0m: 'set' object does not support item assignment"
     ]
    }
   ],
   "source": [
    "s[0] = 11"
   ]
  },
  {
   "cell_type": "code",
   "execution_count": 28,
   "id": "137cd1e8",
   "metadata": {},
   "outputs": [],
   "source": [
    "s = {1, 1, 2, 3, 4, 5, '5'}"
   ]
  },
  {
   "cell_type": "code",
   "execution_count": 29,
   "id": "603a5dfc",
   "metadata": {},
   "outputs": [
    {
     "data": {
      "text/plain": [
       "{1, 2, 3, 4, 5, '5'}"
      ]
     },
     "execution_count": 29,
     "metadata": {},
     "output_type": "execute_result"
    }
   ],
   "source": [
    "s"
   ]
  },
  {
   "cell_type": "code",
   "execution_count": 30,
   "id": "bec6a946",
   "metadata": {},
   "outputs": [],
   "source": [
    "lst1 = []\n",
    "for i in range(20):\n",
    "    lst1.append(i)\n",
    "    \n",
    "lst2 = []\n",
    "for i in range(10, 30):\n",
    "    lst2.append(i)"
   ]
  },
  {
   "cell_type": "code",
   "execution_count": 31,
   "id": "60886f23",
   "metadata": {},
   "outputs": [
    {
     "name": "stdout",
     "output_type": "stream",
     "text": [
      "0 10\n",
      "1 11\n",
      "2 12\n",
      "3 13\n",
      "4 14\n",
      "5 15\n",
      "6 16\n",
      "7 17\n",
      "8 18\n",
      "9 19\n",
      "10 20\n",
      "11 21\n",
      "12 22\n",
      "13 23\n",
      "14 24\n",
      "15 25\n",
      "16 26\n",
      "17 27\n",
      "18 28\n",
      "19 29\n"
     ]
    }
   ],
   "source": [
    "for i in range(len(lst2)):\n",
    "    print(lst1[i], lst2[i])"
   ]
  },
  {
   "cell_type": "code",
   "execution_count": 33,
   "id": "178a8380",
   "metadata": {},
   "outputs": [
    {
     "name": "stdout",
     "output_type": "stream",
     "text": [
      "{0, 1, 2, 3, 4, 5, 6, 7, 8, 9, 10, 11, 12, 13, 14, 15, 16, 17, 18, 19, 20, 21, 22, 23, 24, 25, 26, 27, 28, 29}\n"
     ]
    }
   ],
   "source": [
    "print(set(lst1).union(set(lst2)))"
   ]
  },
  {
   "cell_type": "code",
   "execution_count": 34,
   "id": "c2404170",
   "metadata": {},
   "outputs": [
    {
     "name": "stdout",
     "output_type": "stream",
     "text": [
      "{10, 11, 12, 13, 14, 15, 16, 17, 18, 19}\n"
     ]
    }
   ],
   "source": [
    "print(set(lst1).intersection(set(lst2)))"
   ]
  },
  {
   "cell_type": "code",
   "execution_count": 35,
   "id": "47528fd0",
   "metadata": {},
   "outputs": [],
   "source": [
    "for i in lst2:\n",
    "    lst1.append(i)"
   ]
  },
  {
   "cell_type": "code",
   "execution_count": 38,
   "id": "6948dc97",
   "metadata": {},
   "outputs": [
    {
     "name": "stdout",
     "output_type": "stream",
     "text": [
      "[0, 1, 2, 3, 4, 5, 6, 7, 8, 9, 10, 11, 12, 13, 14, 15, 16, 17, 18, 19, 20, 21, 22, 23, 24, 25, 26, 27, 28, 29]\n"
     ]
    }
   ],
   "source": [
    "print(list(set(lst1)))"
   ]
  },
  {
   "cell_type": "code",
   "execution_count": 37,
   "id": "3d376c55",
   "metadata": {},
   "outputs": [
    {
     "name": "stdout",
     "output_type": "stream",
     "text": [
      "[0, 1, 2, 3, 4, 5, 6, 7, 8, 9, 10, 11, 12, 13, 14, 15, 16, 17, 18, 19, 10, 11, 12, 13, 14, 15, 16, 17, 18, 19, 20, 21, 22, 23, 24, 25, 26, 27, 28, 29]\n"
     ]
    }
   ],
   "source": [
    "print(lst1)"
   ]
  },
  {
   "cell_type": "code",
   "execution_count": 40,
   "id": "64bc15c6",
   "metadata": {},
   "outputs": [],
   "source": [
    "s = {1, 2, 3}"
   ]
  },
  {
   "cell_type": "code",
   "execution_count": 41,
   "id": "befa5926",
   "metadata": {},
   "outputs": [],
   "source": [
    "s.add(4)"
   ]
  },
  {
   "cell_type": "code",
   "execution_count": 42,
   "id": "4724e690",
   "metadata": {},
   "outputs": [
    {
     "data": {
      "text/plain": [
       "{1, 2, 3, 4}"
      ]
     },
     "execution_count": 42,
     "metadata": {},
     "output_type": "execute_result"
    }
   ],
   "source": [
    "s"
   ]
  },
  {
   "cell_type": "code",
   "execution_count": 43,
   "id": "ff461b6c",
   "metadata": {},
   "outputs": [],
   "source": [
    "s.update([5, 6, 7])"
   ]
  },
  {
   "cell_type": "code",
   "execution_count": 44,
   "id": "393cb83f",
   "metadata": {},
   "outputs": [
    {
     "data": {
      "text/plain": [
       "{1, 2, 3, 4, 5, 6, 7}"
      ]
     },
     "execution_count": 44,
     "metadata": {},
     "output_type": "execute_result"
    }
   ],
   "source": [
    "s"
   ]
  },
  {
   "cell_type": "code",
   "execution_count": 47,
   "id": "b9d010ff",
   "metadata": {},
   "outputs": [
    {
     "ename": "TypeError",
     "evalue": "'set' object does not support item assignment",
     "output_type": "error",
     "traceback": [
      "\u001b[1;31m---------------------------------------------------------------------------\u001b[0m",
      "\u001b[1;31mTypeError\u001b[0m                                 Traceback (most recent call last)",
      "Cell \u001b[1;32mIn[47], line 1\u001b[0m\n\u001b[1;32m----> 1\u001b[0m \u001b[43ms\u001b[49m\u001b[43m[\u001b[49m\u001b[38;5;241;43m0\u001b[39;49m\u001b[43m]\u001b[49m \u001b[38;5;241m=\u001b[39m \u001b[38;5;241m1\u001b[39m\n",
      "\u001b[1;31mTypeError\u001b[0m: 'set' object does not support item assignment"
     ]
    }
   ],
   "source": [
    "s[0] = 1"
   ]
  },
  {
   "cell_type": "code",
   "execution_count": 52,
   "id": "042b7cca",
   "metadata": {},
   "outputs": [
    {
     "name": "stdout",
     "output_type": "stream",
     "text": [
      "{'1', '5', 2.0, '6'}\n"
     ]
    }
   ],
   "source": [
    "set_string = {'1', '5', '6'}\n",
    "set_string.add(2.0)\n",
    "print(set_string)"
   ]
  },
  {
   "cell_type": "code",
   "execution_count": 53,
   "id": "3ada5c12",
   "metadata": {},
   "outputs": [],
   "source": [
    "set_string.remove(2.0)"
   ]
  },
  {
   "cell_type": "code",
   "execution_count": 55,
   "id": "1162b09c",
   "metadata": {},
   "outputs": [],
   "source": [
    "set_string.discard('5')"
   ]
  },
  {
   "cell_type": "code",
   "execution_count": 57,
   "id": "ce7dd337",
   "metadata": {},
   "outputs": [
    {
     "name": "stdout",
     "output_type": "stream",
     "text": [
      "{'1', '6'}\n"
     ]
    }
   ],
   "source": [
    "set_string.discard(100)\n",
    "print(set_string)"
   ]
  },
  {
   "cell_type": "code",
   "execution_count": 58,
   "id": "2a216af8",
   "metadata": {},
   "outputs": [
    {
     "ename": "KeyError",
     "evalue": "100",
     "output_type": "error",
     "traceback": [
      "\u001b[1;31m---------------------------------------------------------------------------\u001b[0m",
      "\u001b[1;31mKeyError\u001b[0m                                  Traceback (most recent call last)",
      "Cell \u001b[1;32mIn[58], line 1\u001b[0m\n\u001b[1;32m----> 1\u001b[0m \u001b[43mset_string\u001b[49m\u001b[38;5;241;43m.\u001b[39;49m\u001b[43mremove\u001b[49m\u001b[43m(\u001b[49m\u001b[38;5;241;43m100\u001b[39;49m\u001b[43m)\u001b[49m\n",
      "\u001b[1;31mKeyError\u001b[0m: 100"
     ]
    }
   ],
   "source": [
    "set_string.remove(100)"
   ]
  },
  {
   "cell_type": "code",
   "execution_count": 60,
   "id": "17a16aa9",
   "metadata": {},
   "outputs": [
    {
     "name": "stdout",
     "output_type": "stream",
     "text": [
      "1 2 3 4 5\n"
     ]
    }
   ],
   "source": [
    "print(1, 2, 3, 4, 5)"
   ]
  },
  {
   "cell_type": "code",
   "execution_count": 61,
   "id": "f965a88d",
   "metadata": {},
   "outputs": [],
   "source": [
    "# Variable length Arguments"
   ]
  },
  {
   "cell_type": "code",
   "execution_count": 66,
   "id": "5f75991f",
   "metadata": {},
   "outputs": [],
   "source": [
    "def adder(a, b, *args):\n",
    "    a += b\n",
    "    for i in args:\n",
    "        a += i\n",
    "    print(a)"
   ]
  },
  {
   "cell_type": "code",
   "execution_count": 73,
   "id": "c6108813",
   "metadata": {},
   "outputs": [
    {
     "name": "stdout",
     "output_type": "stream",
     "text": [
      "3\n",
      "6\n",
      "52\n",
      "None None None\n"
     ]
    }
   ],
   "source": [
    "print(adder(1, 2), adder(1, 2, 3), adder(5, 8, 5, 8, 5, 8, 5, 8))"
   ]
  },
  {
   "cell_type": "code",
   "execution_count": 82,
   "id": "b8c58ee2",
   "metadata": {},
   "outputs": [],
   "source": [
    "def adder(a, b, *abhijeet):\n",
    "    print(a + b)\n",
    "    print(abhijeet)"
   ]
  },
  {
   "cell_type": "code",
   "execution_count": 83,
   "id": "488c8881",
   "metadata": {},
   "outputs": [
    {
     "name": "stdout",
     "output_type": "stream",
     "text": [
      "3\n",
      "()\n",
      "3\n",
      "(3,)\n",
      "13\n",
      "(5, <built-in function id>, [5, 8, 5, 8])\n",
      "None None None\n"
     ]
    }
   ],
   "source": [
    "print(adder(1, 2), adder(1, 2, 3), adder(5, 8, 5, id, [5, 8, 5, 8]))"
   ]
  },
  {
   "cell_type": "code",
   "execution_count": 103,
   "id": "4df5cd2c",
   "metadata": {},
   "outputs": [],
   "source": [
    "def adder(a, b, *args, **kwargs):\n",
    "    print(a + b)\n",
    "    print(args)\n",
    "    print(kwargs)"
   ]
  },
  {
   "cell_type": "code",
   "execution_count": 104,
   "id": "8a2f986c",
   "metadata": {},
   "outputs": [
    {
     "name": "stdout",
     "output_type": "stream",
     "text": [
      "30\n",
      "(2, 56, 2, 2, 8)\n",
      "{'name': 'adder', 'functionality': 'add', 'user': 'Abhijeet'}\n"
     ]
    }
   ],
   "source": [
    "adder(10, 20, 2, 56, 2, 2, 8, name = 'adder', functionality = 'add', user = 'Abhijeet')"
   ]
  },
  {
   "cell_type": "code",
   "execution_count": null,
   "id": "c85a6aed",
   "metadata": {},
   "outputs": [],
   "source": []
  },
  {
   "cell_type": "code",
   "execution_count": 85,
   "id": "fc42d46b",
   "metadata": {},
   "outputs": [],
   "source": [
    "def calc(a, b = 10):\n",
    "    print(a + b)"
   ]
  },
  {
   "cell_type": "code",
   "execution_count": 88,
   "id": "68847e04",
   "metadata": {},
   "outputs": [
    {
     "name": "stdout",
     "output_type": "stream",
     "text": [
      "12\n"
     ]
    }
   ],
   "source": [
    "calc(10, 2)"
   ]
  },
  {
   "cell_type": "code",
   "execution_count": 105,
   "id": "1ac3f59e",
   "metadata": {},
   "outputs": [],
   "source": [
    "# Decorators"
   ]
  },
  {
   "cell_type": "code",
   "execution_count": 144,
   "id": "822f1ad5",
   "metadata": {},
   "outputs": [],
   "source": [
    "users = {\n",
    "    'Abhijeet': '12345678',\n",
    "    'Abhishek': 'password'\n",
    "}"
   ]
  },
  {
   "cell_type": "code",
   "execution_count": 145,
   "id": "55318631",
   "metadata": {},
   "outputs": [
    {
     "data": {
      "text/plain": [
       "'12345678'"
      ]
     },
     "execution_count": 145,
     "metadata": {},
     "output_type": "execute_result"
    }
   ],
   "source": [
    "users['Abhijeet']"
   ]
  },
  {
   "cell_type": "code",
   "execution_count": 146,
   "id": "9aa05c97",
   "metadata": {},
   "outputs": [],
   "source": [
    "def check(username, password):\n",
    "    if username in users and users[username] == password:\n",
    "        print('Aunthenticated')\n",
    "    else:\n",
    "        print('Not Aunthenticated')"
   ]
  },
  {
   "cell_type": "code",
   "execution_count": 147,
   "id": "f7ca561e",
   "metadata": {},
   "outputs": [
    {
     "name": "stdout",
     "output_type": "stream",
     "text": [
      "Aunthenticated\n"
     ]
    }
   ],
   "source": [
    "check('Abhijeet', '12345678')"
   ]
  },
  {
   "cell_type": "code",
   "execution_count": 148,
   "id": "baddb53a",
   "metadata": {},
   "outputs": [],
   "source": [
    "def add(a, b, c):\n",
    "    if c:\n",
    "        print(a + b)\n",
    "    else:\n",
    "        print('Not authenticated')"
   ]
  },
  {
   "cell_type": "code",
   "execution_count": 149,
   "id": "c60f10a9",
   "metadata": {},
   "outputs": [],
   "source": [
    "def check(username, password):\n",
    "    if username in users and users[username] == password:\n",
    "        print('Aunthenticated')\n",
    "#         add(10, 20)\n",
    "        return True\n",
    "    else:\n",
    "        print('Not Aunthenticated')\n",
    "        return False"
   ]
  },
  {
   "cell_type": "code",
   "execution_count": 150,
   "id": "22b8b8a0",
   "metadata": {},
   "outputs": [
    {
     "name": "stdout",
     "output_type": "stream",
     "text": [
      "Aunthenticated\n",
      "60\n"
     ]
    }
   ],
   "source": [
    "add(20, 40, c = check('Abhijeet', '12345678'))"
   ]
  },
  {
   "cell_type": "code",
   "execution_count": 151,
   "id": "7da628f9",
   "metadata": {},
   "outputs": [],
   "source": [
    "def add(a, b):\n",
    "    print(a + b)"
   ]
  },
  {
   "cell_type": "code",
   "execution_count": null,
   "id": "e96707fc",
   "metadata": {},
   "outputs": [],
   "source": []
  },
  {
   "cell_type": "code",
   "execution_count": 152,
   "id": "823225b2",
   "metadata": {},
   "outputs": [],
   "source": [
    "def login_requ(abc):\n",
    "    \n",
    "    def wrapper(username, password, *args, **kwargs):\n",
    "        if username in users and users[username] == password:\n",
    "            \n",
    "            abc(*args, **kwargs)\n",
    "        else:\n",
    "            print('Not Authenticated')\n",
    "    print(wrapper)\n",
    "    return wrapper"
   ]
  },
  {
   "cell_type": "code",
   "execution_count": 153,
   "id": "5da7023b",
   "metadata": {},
   "outputs": [
    {
     "name": "stdout",
     "output_type": "stream",
     "text": [
      "<function login_requ at 0x000001E54AFAB040>\n"
     ]
    }
   ],
   "source": [
    "print(login_requ)"
   ]
  },
  {
   "cell_type": "code",
   "execution_count": 154,
   "id": "fc8fdc0c",
   "metadata": {},
   "outputs": [
    {
     "name": "stdout",
     "output_type": "stream",
     "text": [
      "<function login_requ.<locals>.wrapper at 0x000001E54B0D3A60>\n",
      "<function login_requ.<locals>.wrapper at 0x000001E54B0D3A60>\n"
     ]
    }
   ],
   "source": [
    "prot_add = login_requ(add)\n",
    "print(prot_add)"
   ]
  },
  {
   "cell_type": "code",
   "execution_count": 155,
   "id": "22988144",
   "metadata": {},
   "outputs": [
    {
     "name": "stdout",
     "output_type": "stream",
     "text": [
      "50\n"
     ]
    }
   ],
   "source": [
    "prot_add('Abhijeet', '12345678', 20, 30)"
   ]
  },
  {
   "cell_type": "code",
   "execution_count": 156,
   "id": "2840df43",
   "metadata": {},
   "outputs": [],
   "source": [
    "a, b = (20, 30)"
   ]
  },
  {
   "cell_type": "code",
   "execution_count": 157,
   "id": "ff26b8e5",
   "metadata": {},
   "outputs": [
    {
     "name": "stdout",
     "output_type": "stream",
     "text": [
      "20 30\n"
     ]
    }
   ],
   "source": [
    "print(a, b)"
   ]
  },
  {
   "cell_type": "code",
   "execution_count": 158,
   "id": "88156551",
   "metadata": {},
   "outputs": [
    {
     "name": "stdout",
     "output_type": "stream",
     "text": [
      "Not Authenticated\n"
     ]
    }
   ],
   "source": [
    "prot_add('Abhijeet', 'password', 20, 30)"
   ]
  },
  {
   "cell_type": "code",
   "execution_count": 159,
   "id": "3b0c3acf",
   "metadata": {},
   "outputs": [
    {
     "name": "stdout",
     "output_type": "stream",
     "text": [
      "70\n"
     ]
    }
   ],
   "source": [
    "add(20, 50)"
   ]
  },
  {
   "cell_type": "code",
   "execution_count": null,
   "id": "3f796973",
   "metadata": {},
   "outputs": [],
   "source": []
  },
  {
   "cell_type": "code",
   "execution_count": 160,
   "id": "29aed612",
   "metadata": {},
   "outputs": [
    {
     "name": "stdout",
     "output_type": "stream",
     "text": [
      "<function login_requ.<locals>.wrapper at 0x000001E54AFAB9D0>\n"
     ]
    }
   ],
   "source": [
    "add = login_requ(add)"
   ]
  },
  {
   "cell_type": "code",
   "execution_count": 164,
   "id": "8ac39106",
   "metadata": {},
   "outputs": [
    {
     "name": "stdout",
     "output_type": "stream",
     "text": [
      "50\n"
     ]
    }
   ],
   "source": [
    "add('Abhijeet', '12345678', 20, 30)"
   ]
  },
  {
   "cell_type": "code",
   "execution_count": 163,
   "id": "c03a393b",
   "metadata": {},
   "outputs": [
    {
     "name": "stdout",
     "output_type": "stream",
     "text": [
      "Not Authenticated\n"
     ]
    }
   ],
   "source": [
    "add(10, 20)"
   ]
  },
  {
   "cell_type": "code",
   "execution_count": null,
   "id": "2e80abb9",
   "metadata": {},
   "outputs": [],
   "source": []
  },
  {
   "cell_type": "code",
   "execution_count": 168,
   "id": "342f4664",
   "metadata": {},
   "outputs": [],
   "source": [
    "# RESULTING Code"
   ]
  },
  {
   "cell_type": "code",
   "execution_count": 166,
   "id": "f796a77c",
   "metadata": {},
   "outputs": [],
   "source": [
    "def login_requ(abc):\n",
    "    \n",
    "    def wrapper(username, password, *args, **kwargs):\n",
    "        if username in users and users[username] == password:\n",
    "            \n",
    "            abc(*args, **kwargs)\n",
    "        else:\n",
    "            print('Not Authenticated')\n",
    "    print(wrapper)\n",
    "    return wrapper"
   ]
  },
  {
   "cell_type": "code",
   "execution_count": 167,
   "id": "bd912f4b",
   "metadata": {},
   "outputs": [
    {
     "name": "stdout",
     "output_type": "stream",
     "text": [
      "<function login_requ.<locals>.wrapper at 0x000001E54B2AFDC0>\n"
     ]
    }
   ],
   "source": [
    "def add(a, b):\n",
    "    print(a + b)\n",
    "add = login_requ(add)"
   ]
  },
  {
   "cell_type": "code",
   "execution_count": 169,
   "id": "6ad807f3",
   "metadata": {},
   "outputs": [],
   "source": [
    "# Equivalent Code"
   ]
  },
  {
   "cell_type": "code",
   "execution_count": 170,
   "id": "9dd79c6f",
   "metadata": {},
   "outputs": [
    {
     "name": "stdout",
     "output_type": "stream",
     "text": [
      "<function login_requ.<locals>.wrapper at 0x000001E54B2AFCA0>\n"
     ]
    }
   ],
   "source": [
    "@login_requ\n",
    "def add(a, b):\n",
    "    print(a + b)"
   ]
  },
  {
   "cell_type": "code",
   "execution_count": 171,
   "id": "ea73b3d6",
   "metadata": {},
   "outputs": [
    {
     "name": "stdout",
     "output_type": "stream",
     "text": [
      "50\n"
     ]
    }
   ],
   "source": [
    "add('Abhijeet', '12345678', 20, 30)"
   ]
  },
  {
   "cell_type": "code",
   "execution_count": 172,
   "id": "22e7c07d",
   "metadata": {},
   "outputs": [
    {
     "name": "stdout",
     "output_type": "stream",
     "text": [
      "Not Authenticated\n"
     ]
    }
   ],
   "source": [
    "add(20, 50)"
   ]
  },
  {
   "cell_type": "code",
   "execution_count": null,
   "id": "057692c1",
   "metadata": {},
   "outputs": [],
   "source": []
  }
 ],
 "metadata": {
  "kernelspec": {
   "display_name": "Python 3 (ipykernel)",
   "language": "python",
   "name": "python3"
  },
  "language_info": {
   "codemirror_mode": {
    "name": "ipython",
    "version": 3
   },
   "file_extension": ".py",
   "mimetype": "text/x-python",
   "name": "python",
   "nbconvert_exporter": "python",
   "pygments_lexer": "ipython3",
   "version": "3.8.10"
  }
 },
 "nbformat": 4,
 "nbformat_minor": 5
}
