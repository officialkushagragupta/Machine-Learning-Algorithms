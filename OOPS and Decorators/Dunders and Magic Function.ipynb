{
  "nbformat": 4,
  "nbformat_minor": 0,
  "metadata": {
    "colab": {
      "provenance": []
    },
    "kernelspec": {
      "name": "python3",
      "display_name": "Python 3"
    },
    "language_info": {
      "name": "python"
    }
  },
  "cells": [
    {
      "cell_type": "code",
      "execution_count": 5,
      "metadata": {
        "id": "2UhchJUNkz-P"
      },
      "outputs": [],
      "source": [
        "list1 = [1,2,3]\n",
        "\n",
        "tuple1 = (list1,4,5)\n",
        "\n",
        "list1[2] = 4"
      ]
    },
    {
      "cell_type": "code",
      "source": [
        "tuple1"
      ],
      "metadata": {
        "colab": {
          "base_uri": "https://localhost:8080/"
        },
        "id": "ES1iGjxhlW8D",
        "outputId": "1e3f76cf-0224-4e3a-9d8d-5193ac039843"
      },
      "execution_count": 6,
      "outputs": [
        {
          "output_type": "execute_result",
          "data": {
            "text/plain": [
              "([1, 2, 4], 4, 5)"
            ]
          },
          "metadata": {},
          "execution_count": 6
        }
      ]
    },
    {
      "cell_type": "code",
      "source": [
        "# Dunders or Magic functions\n",
        "\n",
        "class Car:\n",
        "  def __init__(self, model , company):\n",
        "    self.model = model\n",
        "    self.company = company\n",
        "\n",
        "  def __str__(self):\n",
        "    print(f\"The car model is {self.model} and company name is {self.company}\")\n",
        "\n",
        "  def display(self):\n",
        "    print(\"i like cars!!\")"
      ],
      "metadata": {
        "id": "QO6vFHeAlaLM"
      },
      "execution_count": 13,
      "outputs": []
    },
    {
      "cell_type": "code",
      "source": [
        "Car1 = Car(\"A4\",\"Audi\")"
      ],
      "metadata": {
        "id": "LEiFN_nfnVd4"
      },
      "execution_count": 14,
      "outputs": []
    },
    {
      "cell_type": "code",
      "source": [
        "Car1.display()"
      ],
      "metadata": {
        "colab": {
          "base_uri": "https://localhost:8080/"
        },
        "id": "HZzvbdq3ng6e",
        "outputId": "340e0b2f-a839-4f49-ab20-2d33123b9e79"
      },
      "execution_count": 15,
      "outputs": [
        {
          "output_type": "stream",
          "name": "stdout",
          "text": [
            "i like cars!!\n"
          ]
        }
      ]
    },
    {
      "cell_type": "code",
      "source": [
        "Car1.__str__()"
      ],
      "metadata": {
        "colab": {
          "base_uri": "https://localhost:8080/"
        },
        "id": "YOyMqSmYnkCr",
        "outputId": "0c3c4bbf-5cf2-48a9-b8ac-14a5af46601c"
      },
      "execution_count": 18,
      "outputs": [
        {
          "output_type": "stream",
          "name": "stdout",
          "text": [
            "The car model is A4 and company name is Audi\n"
          ]
        }
      ]
    },
    {
      "cell_type": "code",
      "source": [
        "class Car:\n",
        "    def __init__(self, model, milage):\n",
        "        self.model = model\n",
        "        print(\"INIT running\")\n",
        "        self.milage = milage\n",
        "\n",
        "    def __add__(self, other):\n",
        "        return self.milage + other.milage\n",
        "\n",
        "    def __eq__(self, other):\n",
        "        return self.milage == other.milage"
      ],
      "metadata": {
        "id": "t_q8KuZoo16f"
      },
      "execution_count": 32,
      "outputs": []
    },
    {
      "cell_type": "code",
      "source": [
        "a = Car(\"m5\",10)\n",
        "b = Car(\"a4\",13)"
      ],
      "metadata": {
        "colab": {
          "base_uri": "https://localhost:8080/"
        },
        "id": "QkbKxUjDqsgC",
        "outputId": "264895b6-0a9e-4d7d-f723-db590ba98fa1"
      },
      "execution_count": 38,
      "outputs": [
        {
          "output_type": "stream",
          "name": "stdout",
          "text": [
            "INIT running\n",
            "INIT running\n"
          ]
        }
      ]
    },
    {
      "cell_type": "code",
      "source": [
        "a.__add__(b)"
      ],
      "metadata": {
        "colab": {
          "base_uri": "https://localhost:8080/"
        },
        "id": "IBFz8LP_q21V",
        "outputId": "4eafedaa-ccb2-402f-a459-7071d82de772"
      },
      "execution_count": 39,
      "outputs": [
        {
          "output_type": "execute_result",
          "data": {
            "text/plain": [
              "23"
            ]
          },
          "metadata": {},
          "execution_count": 39
        }
      ]
    },
    {
      "cell_type": "code",
      "source": [
        "a.__eq__(b)"
      ],
      "metadata": {
        "colab": {
          "base_uri": "https://localhost:8080/"
        },
        "id": "Wj2ps3uqrgMX",
        "outputId": "a60b80b3-1555-4d7f-d591-fc0be76dbde1"
      },
      "execution_count": 40,
      "outputs": [
        {
          "output_type": "execute_result",
          "data": {
            "text/plain": [
              "False"
            ]
          },
          "metadata": {},
          "execution_count": 40
        }
      ]
    },
    {
      "cell_type": "code",
      "source": [
        "class Person:\n",
        "    def __init__(self, name):\n",
        "        print(\"Ran\")\n",
        "        self.name = name\n",
        "\n",
        "    def __str__(self):\n",
        "        return 'Object: {}'.format(self.name)\n",
        "\n",
        "    def __repr__(self):\n",
        "        return 'Object: {}'.format(self.name)\n",
        "\n",
        "    def __add__(self):\n",
        "\n",
        "    def say_hi(self):\n",
        "        print(\"Name of person is:\", self.name)"
      ],
      "metadata": {
        "id": "-xWfEHHYo-FY"
      },
      "execution_count": 26,
      "outputs": []
    },
    {
      "cell_type": "code",
      "source": [
        "person1 = Person(\"Sarvesh\")"
      ],
      "metadata": {
        "colab": {
          "base_uri": "https://localhost:8080/"
        },
        "id": "i49viu3BpGBY",
        "outputId": "72915672-3794-46e3-82cd-63616fb32ea5"
      },
      "execution_count": 27,
      "outputs": [
        {
          "output_type": "stream",
          "name": "stdout",
          "text": [
            "Ran\n"
          ]
        }
      ]
    },
    {
      "cell_type": "code",
      "source": [
        "person1.__str__()\n",
        "person1.__repr__()"
      ],
      "metadata": {
        "colab": {
          "base_uri": "https://localhost:8080/",
          "height": 35
        },
        "id": "TpgspCQqpRGi",
        "outputId": "6bdc0043-3c52-4d03-debc-7fe14b0175e7"
      },
      "execution_count": 31,
      "outputs": [
        {
          "output_type": "execute_result",
          "data": {
            "text/plain": [
              "'Object: Sarvesh'"
            ],
            "application/vnd.google.colaboratory.intrinsic+json": {
              "type": "string"
            }
          },
          "metadata": {},
          "execution_count": 31
        }
      ]
    },
    {
      "cell_type": "code",
      "source": [
        "#Inheritence"
      ],
      "metadata": {
        "id": "r6dX75HhpYhe"
      },
      "execution_count": null,
      "outputs": []
    }
  ]
}