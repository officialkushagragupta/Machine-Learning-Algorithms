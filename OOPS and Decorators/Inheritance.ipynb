{
  "nbformat": 4,
  "nbformat_minor": 0,
  "metadata": {
    "colab": {
      "provenance": []
    },
    "kernelspec": {
      "name": "python3",
      "display_name": "Python 3"
    },
    "language_info": {
      "name": "python"
    }
  },
  "cells": [
    {
      "cell_type": "code",
      "execution_count": 3,
      "metadata": {
        "id": "XkVbluuqcJRr"
      },
      "outputs": [],
      "source": [
        "class Car:\n",
        "    def __init__(self,windows,doors,enginetype):\n",
        "        self.windows=windows\n",
        "        self.doors=doors\n",
        "        self.enginetype=enginetype\n",
        "\n",
        "    def driving(self):\n",
        "        print(\"Car is ued for driving\")\n",
        "\n",
        "##Audi car is inherting from Car class\n",
        "class Audi(Car):\n",
        "    def __init__(self,windows,doors,enginetype,horsepower):\n",
        "        super().__init__(windows,doors,enginetype)\n",
        "        self.horsepower=horsepower\n",
        "\n",
        "    def selfdriving(self):\n",
        "        print(\"IT is a self driving car\")\n",
        "\n",
        "\n",
        "class A4(Audi):\n",
        "    def __init__(self, windows, doors, enginetype, horsepower, color , topspeed):\n",
        "      super().__init__(windows,doors,enginetype,horsepower)\n",
        "      self.color= color\n",
        "      self.topspeed = topspeed\n",
        "\n",
        "\n"
      ]
    },
    {
      "cell_type": "code",
      "source": [
        "audiq7=Audi(4,5,\"Diesel\",200)\n",
        "\n",
        "print(audiq7.horsepower)\n",
        "print(audiq7.windows)\n",
        "audiq7.driving()\n",
        "audiq7.selfdriving()\n",
        "\n",
        "car1=Car(4,5,\"Diesel\")\n",
        "print(car1)\n",
        "print(audiq7)\n",
        "\n",
        "print(dir(audiq7))\n",
        "print(dir(car1))\n"
      ],
      "metadata": {
        "id": "MI6cxb72cMEs",
        "colab": {
          "base_uri": "https://localhost:8080/"
        },
        "outputId": "43052f97-291c-42c7-848e-7391347fbca5"
      },
      "execution_count": 4,
      "outputs": [
        {
          "output_type": "stream",
          "name": "stdout",
          "text": [
            "200\n",
            "4\n",
            "Car is ued for driving\n",
            "IT is a self driving car\n",
            "<__main__.Car object at 0x7bc350d220b0>\n",
            "<__main__.Audi object at 0x7bc350d5f2b0>\n",
            "['__class__', '__delattr__', '__dict__', '__dir__', '__doc__', '__eq__', '__format__', '__ge__', '__getattribute__', '__gt__', '__hash__', '__init__', '__init_subclass__', '__le__', '__lt__', '__module__', '__ne__', '__new__', '__reduce__', '__reduce_ex__', '__repr__', '__setattr__', '__sizeof__', '__str__', '__subclasshook__', '__weakref__', 'doors', 'driving', 'enginetype', 'horsepower', 'selfdriving', 'windows']\n",
            "['__class__', '__delattr__', '__dict__', '__dir__', '__doc__', '__eq__', '__format__', '__ge__', '__getattribute__', '__gt__', '__hash__', '__init__', '__init_subclass__', '__le__', '__lt__', '__module__', '__ne__', '__new__', '__reduce__', '__reduce_ex__', '__repr__', '__setattr__', '__sizeof__', '__str__', '__subclasshook__', '__weakref__', 'doors', 'driving', 'enginetype', 'windows']\n"
          ]
        }
      ]
    },
    {
      "cell_type": "code",
      "source": [
        "A4car = A4(4 , 5 , \"petrol\", 300 , \"Red\" , 250)"
      ],
      "metadata": {
        "id": "SI8_Dqp4u6jM"
      },
      "execution_count": 5,
      "outputs": []
    },
    {
      "cell_type": "code",
      "source": [
        "print(dir(A4car))"
      ],
      "metadata": {
        "colab": {
          "base_uri": "https://localhost:8080/"
        },
        "id": "7MjsRwvPvJGt",
        "outputId": "92953a47-9f31-4656-d1b1-cd940be4ba98"
      },
      "execution_count": 6,
      "outputs": [
        {
          "output_type": "stream",
          "name": "stdout",
          "text": [
            "['__class__', '__delattr__', '__dict__', '__dir__', '__doc__', '__eq__', '__format__', '__ge__', '__getattribute__', '__gt__', '__hash__', '__init__', '__init_subclass__', '__le__', '__lt__', '__module__', '__ne__', '__new__', '__reduce__', '__reduce_ex__', '__repr__', '__setattr__', '__sizeof__', '__str__', '__subclasshook__', '__weakref__', 'color', 'doors', 'driving', 'enginetype', 'horsepower', 'selfdriving', 'topspeed', 'windows']\n"
          ]
        }
      ]
    },
    {
      "cell_type": "markdown",
      "source": [],
      "metadata": {
        "id": "94sesAcyvX2R"
      }
    },
    {
      "cell_type": "code",
      "source": [
        "class School_Members:\n",
        "\n",
        "    def __init__(self, name, age):\n",
        "        self.name = name\n",
        "        self.age = age\n",
        "        print(f\"Initialised School Member: {self.name}\")\n",
        "\n",
        "    def tell(self):\n",
        "        print(f\"Name: {self.name}, Age: {self.age}\")\n",
        "\n",
        "\n",
        "class Teachers(School_Members):\n",
        "\n",
        "    def __init__(self, teacher_name, teacher_age, teacher_salary):\n",
        "        School_Members.__init__(self, teacher_name, teacher_age)\n",
        "        self.salary = teacher_salary\n",
        "        print(f\"Initialised Teacher: {self.name}\")\n",
        "\n",
        "    def tell(self):\n",
        "        School_Members.tell(self)\n",
        "        print(f\"Salary: {self.salary}\")\n",
        "\n",
        "class Students(School_Members):\n",
        "\n",
        "    def __init__(self, student_name, student_age, student_marks):\n",
        "        School_Members.__init__(self, student_name, student_age)\n",
        "        self.marks = student_marks\n",
        "        print(f\"Initialised Student: {self.name}\")\n",
        "\n",
        "    def tell(self):\n",
        "        School_Members.tell(self)\n",
        "        print(f\"Marks: {self.marks}\")"
      ],
      "metadata": {
        "id": "XJhEsjt_vW4T"
      },
      "execution_count": 7,
      "outputs": []
    },
    {
      "cell_type": "code",
      "source": [
        "t = Teachers('Abhijeet', 22, 1000)\n",
        "s = Students('Aamir', 19, 75)"
      ],
      "metadata": {
        "colab": {
          "base_uri": "https://localhost:8080/"
        },
        "id": "hiV3spRg3Ktm",
        "outputId": "06bb7a8f-8734-40d6-f0bc-951df1445b1d"
      },
      "execution_count": 8,
      "outputs": [
        {
          "output_type": "stream",
          "name": "stdout",
          "text": [
            "Initialised School Member: Abhijeet\n",
            "Initialised Teacher: Abhijeet\n",
            "Initialised School Member: Aamir\n",
            "Initialised Student: Aamir\n"
          ]
        }
      ]
    },
    {
      "cell_type": "code",
      "source": [
        "t.tell()\n",
        "s.tell()"
      ],
      "metadata": {
        "colab": {
          "base_uri": "https://localhost:8080/"
        },
        "id": "jOaIbGJB3LLS",
        "outputId": "4c1a6f0b-dffd-4fea-8f95-8f17fbac0e6f"
      },
      "execution_count": 9,
      "outputs": [
        {
          "output_type": "stream",
          "name": "stdout",
          "text": [
            "Name: Abhijeet, Age: 22\n",
            "Salary: 1000\n",
            "Name: Aamir, Age: 19\n",
            "Marks: 75\n"
          ]
        }
      ]
    },
    {
      "cell_type": "code",
      "source": [],
      "metadata": {
        "id": "1Zkr9ki840V4"
      },
      "execution_count": null,
      "outputs": []
    }
  ]
}