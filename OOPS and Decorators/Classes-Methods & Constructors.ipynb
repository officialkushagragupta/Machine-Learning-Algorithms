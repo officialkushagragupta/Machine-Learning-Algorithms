{
 "cells": [
  {
   "cell_type": "code",
   "execution_count": 2,
   "id": "91a1e3ce",
   "metadata": {},
   "outputs": [],
   "source": [
    "lst = [1, 2, 3, 4, 5, 6, 7, 8, 9]"
   ]
  },
  {
   "cell_type": "code",
   "execution_count": 23,
   "id": "1ecce4a2",
   "metadata": {},
   "outputs": [],
   "source": [
    "target = 9"
   ]
  },
  {
   "cell_type": "code",
   "execution_count": 4,
   "id": "01201c99",
   "metadata": {},
   "outputs": [],
   "source": [
    "left = 0\n",
    "right = len(lst) - 1"
   ]
  },
  {
   "cell_type": "code",
   "execution_count": 13,
   "id": "fcde3fcd",
   "metadata": {},
   "outputs": [
    {
     "name": "stdout",
     "output_type": "stream",
     "text": [
      "[3, 4, 5]\n"
     ]
    }
   ],
   "source": [
    "print(lst[2:5])"
   ]
  },
  {
   "cell_type": "code",
   "execution_count": 25,
   "id": "405626fd",
   "metadata": {},
   "outputs": [
    {
     "name": "stdout",
     "output_type": "stream",
     "text": [
      "The pair is 1 and 8\n",
      "The pair is 2 and 7\n",
      "The pair is 3 and 6\n",
      "The pair is 4 and 5\n"
     ]
    }
   ],
   "source": [
    "for i in range(len(lst)):\n",
    "    for j in range(i + 1, len(lst)):\n",
    "        if (lst[i] + lst[j]) == target:\n",
    "            print(f'The pair is {lst[i]} and {lst[j]}')"
   ]
  },
  {
   "cell_type": "code",
   "execution_count": 27,
   "id": "5a2796bb",
   "metadata": {},
   "outputs": [
    {
     "name": "stdout",
     "output_type": "stream",
     "text": [
      "The pair is 1 and 8\n",
      "The pair is 2 and 7\n",
      "The pair is 3 and 6\n",
      "The pair is 4 and 5\n"
     ]
    }
   ],
   "source": [
    "lst = [1, 2, 3, 4, 5, 6, 7, 8, 9]\n",
    "target = 9\n",
    "\n",
    "left = 0\n",
    "right = len(lst) - 1\n",
    "\n",
    "while (left < right):\n",
    "    if (lst[left] + lst[right]) == target:\n",
    "        print(f'The pair is {lst[left]} and {lst[right]}')\n",
    "        right -= 1\n",
    "        left += 1\n",
    "    elif (lst[left] + lst[right]) > target:\n",
    "        right -= 1\n",
    "    else:\n",
    "        left += 1"
   ]
  },
  {
   "cell_type": "code",
   "execution_count": 35,
   "id": "d62cc025",
   "metadata": {},
   "outputs": [
    {
     "name": "stdout",
     "output_type": "stream",
     "text": [
      "9\n",
      "1 2 3 4 5 6 7 8 9\n",
      "9\n",
      "[1, 2, 3, 4, 5, 6, 7, 8, 9] <class 'list'>\n",
      "9 <class 'int'>\n",
      "1 8\n",
      "2 7\n",
      "3 6\n",
      "4 5\n"
     ]
    }
   ],
   "source": [
    "n=int(input())\n",
    "lst=[]\n",
    "s=input()\n",
    "s=s.split()\n",
    "for i in range(n):\n",
    "    lst.append(int(s[i]))\n",
    "target=int(input())\n",
    "start =0\n",
    "end=n-1\n",
    "print(lst, type(lst))\n",
    "print(target, type(target))\n",
    "while(start<end):\n",
    "    sum=lst[start]+lst[end]\n",
    "    if(sum>target):\n",
    "        end-=1\n",
    "    elif(sum<target):\n",
    "        start+=1\n",
    "    else:\n",
    "        print(start+1,end+1)\n",
    "        start+=1\n",
    "        end-=1"
   ]
  },
  {
   "cell_type": "code",
   "execution_count": 31,
   "id": "505c3a23",
   "metadata": {},
   "outputs": [
    {
     "name": "stdout",
     "output_type": "stream",
     "text": [
      "['1', '2', '3', '4', '56', '7', '88']\n"
     ]
    }
   ],
   "source": [
    "print('1 2 3 4 56  7 88'.split())"
   ]
  },
  {
   "cell_type": "code",
   "execution_count": 85,
   "id": "6367a941",
   "metadata": {},
   "outputs": [],
   "source": [
    "class Person:\n",
    "    age = 1\n",
    "    height = 1.0\n",
    "    fav_col = ('Red')\n",
    "    name = None\n",
    "    \n",
    "    def greet(self, name):                           # Greet is a method of Person class\n",
    "        print('Hello World!', name)\n",
    "        print(f'Age: {self.age}, height: {self.height}, fav_col: {self.fav_col}')\n",
    "#         print(self)"
   ]
  },
  {
   "cell_type": "code",
   "execution_count": 86,
   "id": "1c6eab3a",
   "metadata": {},
   "outputs": [],
   "source": [
    "abhijeet = Person()"
   ]
  },
  {
   "cell_type": "code",
   "execution_count": 87,
   "id": "49b6c2f3",
   "metadata": {},
   "outputs": [
    {
     "data": {
      "text/plain": [
       "1"
      ]
     },
     "execution_count": 87,
     "metadata": {},
     "output_type": "execute_result"
    }
   ],
   "source": [
    "abhijeet.age"
   ]
  },
  {
   "cell_type": "code",
   "execution_count": 88,
   "id": "110cadcd",
   "metadata": {},
   "outputs": [
    {
     "name": "stdout",
     "output_type": "stream",
     "text": [
      "Hello World! Abhijeet\n",
      "Age: 1, height: 1.0, fav_col: Red\n"
     ]
    }
   ],
   "source": [
    "abhijeet.greet('Abhijeet')"
   ]
  },
  {
   "cell_type": "code",
   "execution_count": 89,
   "id": "554e7162",
   "metadata": {},
   "outputs": [],
   "source": [
    "mamta = Person()"
   ]
  },
  {
   "cell_type": "code",
   "execution_count": 90,
   "id": "50e925e9",
   "metadata": {},
   "outputs": [
    {
     "name": "stdout",
     "output_type": "stream",
     "text": [
      "Hello World! Mamta\n",
      "Age: 1, height: 1.0, fav_col: Red\n"
     ]
    }
   ],
   "source": [
    "mamta.greet('Mamta')"
   ]
  },
  {
   "cell_type": "code",
   "execution_count": 91,
   "id": "8a6d8326",
   "metadata": {},
   "outputs": [
    {
     "name": "stdout",
     "output_type": "stream",
     "text": [
      "hello 10\n"
     ]
    }
   ],
   "source": [
    "a = 10\n",
    "string = f'hello {a}'\n",
    "print(string)"
   ]
  },
  {
   "cell_type": "code",
   "execution_count": 113,
   "id": "d8532d5e",
   "metadata": {},
   "outputs": [],
   "source": [
    "class Person:\n",
    "    age = 1\n",
    "    height = 1.0\n",
    "#     fav_col = ('Red')\n",
    "    name = None\n",
    "    \n",
    "    def greet(self, name):            # Greet is a method of Person class\n",
    "        self.name = name\n",
    "        print('Hello World!', name)\n",
    "        print(f'Age: {self.age}, height: {self.height}')\n",
    "#         print(self)"
   ]
  },
  {
   "cell_type": "code",
   "execution_count": 114,
   "id": "3f2f5925",
   "metadata": {},
   "outputs": [],
   "source": [
    "# Attributes: \n",
    "#     Class Attribute\n",
    "#     Instance/Object Attribute"
   ]
  },
  {
   "cell_type": "code",
   "execution_count": 115,
   "id": "3f77330f",
   "metadata": {},
   "outputs": [],
   "source": [
    "abhijeet = Person()"
   ]
  },
  {
   "cell_type": "code",
   "execution_count": 116,
   "id": "1eb11bc2",
   "metadata": {},
   "outputs": [],
   "source": [
    "abhijeet.age = 23"
   ]
  },
  {
   "cell_type": "code",
   "execution_count": 117,
   "id": "762c86fa",
   "metadata": {},
   "outputs": [
    {
     "data": {
      "text/plain": [
       "23"
      ]
     },
     "execution_count": 117,
     "metadata": {},
     "output_type": "execute_result"
    }
   ],
   "source": [
    "abhijeet.age"
   ]
  },
  {
   "cell_type": "code",
   "execution_count": 118,
   "id": "c478eb5b",
   "metadata": {},
   "outputs": [],
   "source": [
    "abhijeet.gender = 'M'"
   ]
  },
  {
   "cell_type": "code",
   "execution_count": 119,
   "id": "885316a0",
   "metadata": {},
   "outputs": [
    {
     "data": {
      "text/plain": [
       "'M'"
      ]
     },
     "execution_count": 119,
     "metadata": {},
     "output_type": "execute_result"
    }
   ],
   "source": [
    "abhijeet.gender"
   ]
  },
  {
   "cell_type": "code",
   "execution_count": 120,
   "id": "6888331e",
   "metadata": {},
   "outputs": [
    {
     "name": "stdout",
     "output_type": "stream",
     "text": [
      "Hello World! Abhijeet\n",
      "Age: 23, height: 1.0\n"
     ]
    }
   ],
   "source": [
    "abhijeet.greet('Abhijeet')"
   ]
  },
  {
   "cell_type": "code",
   "execution_count": 124,
   "id": "f58982dc",
   "metadata": {},
   "outputs": [
    {
     "data": {
      "text/plain": [
       "'Abhijeet'"
      ]
     },
     "execution_count": 124,
     "metadata": {},
     "output_type": "execute_result"
    }
   ],
   "source": [
    "abhijeet.name"
   ]
  },
  {
   "cell_type": "code",
   "execution_count": 123,
   "id": "831cf3b2",
   "metadata": {},
   "outputs": [
    {
     "name": "stdout",
     "output_type": "stream",
     "text": [
      "None\n"
     ]
    }
   ],
   "source": [
    "print(Person.name)"
   ]
  },
  {
   "cell_type": "code",
   "execution_count": 126,
   "id": "be433444",
   "metadata": {},
   "outputs": [
    {
     "data": {
      "text/plain": [
       "True"
      ]
     },
     "execution_count": 126,
     "metadata": {},
     "output_type": "execute_result"
    }
   ],
   "source": [
    "id(Person.height) == id(abhijeet.height)"
   ]
  },
  {
   "cell_type": "code",
   "execution_count": 136,
   "id": "5b657c71",
   "metadata": {},
   "outputs": [],
   "source": [
    "class Person:\n",
    "    age = 0\n",
    "    \n",
    "    def __init__(self, name, height):\n",
    "        self.name = name\n",
    "        self.height = height\n",
    "        print('Chal gaya')\n",
    "    \n",
    "    def greet(self):            # Greet is a method of Person class\n",
    "        print('Hello World!', self.name)\n",
    "        print(f'Age: {self.age}, height: {self.height}, name: {self.name}')\n",
    "#         print(self)"
   ]
  },
  {
   "cell_type": "code",
   "execution_count": 137,
   "id": "e0f7ab75",
   "metadata": {},
   "outputs": [
    {
     "name": "stdout",
     "output_type": "stream",
     "text": [
      "Chal gaya\n"
     ]
    }
   ],
   "source": [
    "abhijeet = Person('Abhijeet', 5.8)"
   ]
  },
  {
   "cell_type": "code",
   "execution_count": 138,
   "id": "932c9757",
   "metadata": {},
   "outputs": [
    {
     "name": "stdout",
     "output_type": "stream",
     "text": [
      "Hello World! Abhijeet\n",
      "Age: 0, height: 5.8, name: Abhijeet\n"
     ]
    }
   ],
   "source": [
    "abhijeet.greet()"
   ]
  },
  {
   "cell_type": "code",
   "execution_count": 186,
   "id": "89777d24",
   "metadata": {},
   "outputs": [],
   "source": [
    "class Dog:\n",
    "    \n",
    "#     def __init__(self, name, breed, trick = []):\n",
    "    def __init__(self, name, breed):\n",
    "        self.name = name\n",
    "        self.breed = breed\n",
    "        self.total_trick = []\n",
    "    \n",
    "    def update_trick(self, trick):\n",
    "        self.total_trick.append(trick)\n",
    "        \n",
    "    def detail_tricks(self):\n",
    "        print(f'Dog name: {self.name} tricks: {self.total_trick}')"
   ]
  },
  {
   "cell_type": "code",
   "execution_count": 187,
   "id": "545133ea",
   "metadata": {},
   "outputs": [],
   "source": [
    "dog1 = Dog('Sheru', 'GS')\n",
    "# dog1 = Dog('Sheru', 'GS')\n",
    "dog2 = Dog('Shera', 'labra')"
   ]
  },
  {
   "cell_type": "code",
   "execution_count": 188,
   "id": "24b0c935",
   "metadata": {},
   "outputs": [],
   "source": [
    "dog1.update_trick('fetch')"
   ]
  },
  {
   "cell_type": "code",
   "execution_count": 189,
   "id": "280859d9",
   "metadata": {},
   "outputs": [
    {
     "name": "stdout",
     "output_type": "stream",
     "text": [
      "Dog name: Sheru tricks: ['fetch']\n",
      "Dog name: Shera tricks: []\n",
      "None None\n"
     ]
    }
   ],
   "source": [
    "print(dog1.detail_tricks(), dog2.detail_tricks())"
   ]
  },
  {
   "cell_type": "code",
   "execution_count": null,
   "id": "c0510778",
   "metadata": {},
   "outputs": [],
   "source": []
  }
 ],
 "metadata": {
  "kernelspec": {
   "display_name": "Python 3 (ipykernel)",
   "language": "python",
   "name": "python3"
  },
  "language_info": {
   "codemirror_mode": {
    "name": "ipython",
    "version": 3
   },
   "file_extension": ".py",
   "mimetype": "text/x-python",
   "name": "python",
   "nbconvert_exporter": "python",
   "pygments_lexer": "ipython3",
   "version": "3.8.10"
  }
 },
 "nbformat": 4,
 "nbformat_minor": 5
}
