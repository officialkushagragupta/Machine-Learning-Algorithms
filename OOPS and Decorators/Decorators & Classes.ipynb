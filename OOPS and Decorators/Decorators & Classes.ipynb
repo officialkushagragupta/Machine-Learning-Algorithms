{
 "cells": [
  {
   "cell_type": "code",
   "execution_count": 2,
   "id": "24fceaaf",
   "metadata": {},
   "outputs": [
    {
     "name": "stdout",
     "output_type": "stream",
     "text": [
      "racecar\n",
      "True\n"
     ]
    }
   ],
   "source": [
    "def isPalindrome(str):\n",
    " \n",
    "    # Run loop from 0 to len/2\n",
    "    for i in range(0, int(len(str)/2)):\n",
    "        if str[i] != str[len(str)-i-1]:\n",
    "            return False\n",
    "    return True\n",
    "\n",
    "N= input()\n",
    "print(isPalindrome(N))"
   ]
  },
  {
   "cell_type": "code",
   "execution_count": 3,
   "id": "2a153a49",
   "metadata": {},
   "outputs": [
    {
     "name": "stdout",
     "output_type": "stream",
     "text": [
      "126\n",
      "True\n"
     ]
    }
   ],
   "source": [
    "def even_checker(num):\n",
    "    return (num%2==0)\n",
    "num=int(input())\n",
    "result = even_checker(num)\n",
    "print(result)"
   ]
  },
  {
   "cell_type": "code",
   "execution_count": 4,
   "id": "a1e2ed1a",
   "metadata": {},
   "outputs": [],
   "source": [
    "# Print nth Fibonacci Number"
   ]
  },
  {
   "cell_type": "code",
   "execution_count": 13,
   "id": "72bff6b8",
   "metadata": {},
   "outputs": [],
   "source": [
    "def fibonacci(n):\n",
    "    prev = 0\n",
    "    nxt = 1\n",
    "    for i in range(n):\n",
    "        temp = nxt\n",
    "        nxt += prev\n",
    "        prev = temp\n",
    "    return prev"
   ]
  },
  {
   "cell_type": "code",
   "execution_count": 15,
   "id": "f32b6a45",
   "metadata": {},
   "outputs": [
    {
     "data": {
      "text/plain": [
       "55"
      ]
     },
     "execution_count": 15,
     "metadata": {},
     "output_type": "execute_result"
    }
   ],
   "source": [
    "fibonacci(10)"
   ]
  },
  {
   "cell_type": "code",
   "execution_count": 16,
   "id": "3ffa681b",
   "metadata": {},
   "outputs": [
    {
     "data": {
      "text/plain": [
       "55"
      ]
     },
     "execution_count": 16,
     "metadata": {},
     "output_type": "execute_result"
    }
   ],
   "source": [
    "fibonacci(10)"
   ]
  },
  {
   "cell_type": "code",
   "execution_count": 21,
   "id": "19d558dc",
   "metadata": {},
   "outputs": [],
   "source": [
    "def memory(func):\n",
    "    cache = {}\n",
    "    \n",
    "    def wrapper(num):\n",
    "        if num in cache:\n",
    "            print('No Computation')\n",
    "            return cache[num]\n",
    "        ans = func(num)\n",
    "        cache[num] = ans\n",
    "        return ans\n",
    "    return wrapper"
   ]
  },
  {
   "cell_type": "code",
   "execution_count": 22,
   "id": "2fda84e6",
   "metadata": {},
   "outputs": [],
   "source": [
    "def fibonacci(n):\n",
    "    prev = 0\n",
    "    nxt = 1\n",
    "    for i in range(n):\n",
    "        temp = nxt\n",
    "        nxt += prev\n",
    "        prev = temp\n",
    "    return prev\n",
    "fibonacci = memory(fibonacci)"
   ]
  },
  {
   "cell_type": "code",
   "execution_count": 23,
   "id": "8cd38a58",
   "metadata": {},
   "outputs": [
    {
     "data": {
      "text/plain": [
       "55"
      ]
     },
     "execution_count": 23,
     "metadata": {},
     "output_type": "execute_result"
    }
   ],
   "source": [
    "fibonacci(10)"
   ]
  },
  {
   "cell_type": "code",
   "execution_count": 24,
   "id": "522affeb",
   "metadata": {},
   "outputs": [
    {
     "name": "stdout",
     "output_type": "stream",
     "text": [
      "No Computation\n"
     ]
    },
    {
     "data": {
      "text/plain": [
       "55"
      ]
     },
     "execution_count": 24,
     "metadata": {},
     "output_type": "execute_result"
    }
   ],
   "source": [
    "fibonacci(10)"
   ]
  },
  {
   "cell_type": "code",
   "execution_count": 26,
   "id": "a69b8ca3",
   "metadata": {},
   "outputs": [],
   "source": [
    "@memory\n",
    "def fibonacci(n):\n",
    "    prev = 0\n",
    "    nxt = 1\n",
    "    for i in range(n):\n",
    "        temp = nxt\n",
    "        nxt += prev\n",
    "        prev = temp\n",
    "    return prev\n",
    "# fibonacci = memory(fibonacci)"
   ]
  },
  {
   "cell_type": "code",
   "execution_count": 27,
   "id": "fd3be572",
   "metadata": {},
   "outputs": [
    {
     "data": {
      "text/plain": [
       "55"
      ]
     },
     "execution_count": 27,
     "metadata": {},
     "output_type": "execute_result"
    }
   ],
   "source": [
    "fibonacci(10)"
   ]
  },
  {
   "cell_type": "code",
   "execution_count": 28,
   "id": "e1caca43",
   "metadata": {},
   "outputs": [
    {
     "name": "stdout",
     "output_type": "stream",
     "text": [
      "No Computation\n"
     ]
    },
    {
     "data": {
      "text/plain": [
       "55"
      ]
     },
     "execution_count": 28,
     "metadata": {},
     "output_type": "execute_result"
    }
   ],
   "source": [
    "fibonacci(10)"
   ]
  },
  {
   "cell_type": "markdown",
   "id": "da360d59",
   "metadata": {},
   "source": [
    "# Classes"
   ]
  },
  {
   "cell_type": "code",
   "execution_count": 33,
   "id": "ab511b63",
   "metadata": {},
   "outputs": [
    {
     "name": "stdout",
     "output_type": "stream",
     "text": [
      "<class 'int'>\n"
     ]
    }
   ],
   "source": [
    "print(type(-10))"
   ]
  },
  {
   "cell_type": "code",
   "execution_count": 37,
   "id": "3d93c726",
   "metadata": {},
   "outputs": [
    {
     "data": {
      "text/plain": [
       "True"
      ]
     },
     "execution_count": 37,
     "metadata": {},
     "output_type": "execute_result"
    }
   ],
   "source": [
    "isinstance(fibonacci, object)"
   ]
  },
  {
   "cell_type": "code",
   "execution_count": 43,
   "id": "a110e51d",
   "metadata": {},
   "outputs": [],
   "source": [
    "class Web:\n",
    "    mentor = 'Abhijeet'   # mentor is an attribute\n",
    "    lang = 'Python'       # lang is also an attribute"
   ]
  },
  {
   "cell_type": "code",
   "execution_count": 42,
   "id": "e18b64da",
   "metadata": {},
   "outputs": [],
   "source": [
    "class Datascience:\n",
    "    mentor = 'Abhijeet'   # mentor is an attribute\n",
    "    lang = 'Python'       # lang is also an attribute"
   ]
  },
  {
   "cell_type": "code",
   "execution_count": 44,
   "id": "3252c04b",
   "metadata": {},
   "outputs": [],
   "source": [
    "roopali = Datascience()   # Roopali is an object"
   ]
  },
  {
   "cell_type": "code",
   "execution_count": 45,
   "id": "edbb533f",
   "metadata": {},
   "outputs": [],
   "source": [
    "dhruv = Datascience()     # Dhruv is an object"
   ]
  },
  {
   "cell_type": "code",
   "execution_count": 46,
   "id": "c4a54e61",
   "metadata": {},
   "outputs": [
    {
     "name": "stdout",
     "output_type": "stream",
     "text": [
      "Abhijeet\n"
     ]
    }
   ],
   "source": [
    "print(roopali.mentor)"
   ]
  },
  {
   "cell_type": "code",
   "execution_count": 47,
   "id": "d8be5608",
   "metadata": {},
   "outputs": [
    {
     "name": "stdout",
     "output_type": "stream",
     "text": [
      "Abhijeet\n"
     ]
    }
   ],
   "source": [
    "print(Datascience.mentor)"
   ]
  },
  {
   "cell_type": "code",
   "execution_count": 49,
   "id": "e03ae38c",
   "metadata": {},
   "outputs": [
    {
     "name": "stdout",
     "output_type": "stream",
     "text": [
      "2150650468976 2150650468976 2150650468976\n"
     ]
    }
   ],
   "source": [
    "print(id(roopali.mentor), id(dhruv.mentor), id(Datascience.mentor))"
   ]
  },
  {
   "cell_type": "code",
   "execution_count": 50,
   "id": "5e3639d7",
   "metadata": {},
   "outputs": [
    {
     "name": "stdout",
     "output_type": "stream",
     "text": [
      "2150656510512 2150622319264\n"
     ]
    }
   ],
   "source": [
    "print(id(roopali), id(Datascience))"
   ]
  },
  {
   "cell_type": "code",
   "execution_count": 55,
   "id": "1cfc9266",
   "metadata": {},
   "outputs": [],
   "source": [
    "roopali.age = 20\n",
    "dhruv.height = 5.8"
   ]
  },
  {
   "cell_type": "code",
   "execution_count": 56,
   "id": "5ae08b1d",
   "metadata": {},
   "outputs": [
    {
     "name": "stdout",
     "output_type": "stream",
     "text": [
      "20 5.8\n"
     ]
    }
   ],
   "source": [
    "print(roopali.age, dhruv.height)"
   ]
  },
  {
   "cell_type": "code",
   "execution_count": 57,
   "id": "d95acddf",
   "metadata": {},
   "outputs": [],
   "source": [
    "Datascience.time = 7.5"
   ]
  },
  {
   "cell_type": "code",
   "execution_count": 58,
   "id": "34438b42",
   "metadata": {},
   "outputs": [
    {
     "name": "stdout",
     "output_type": "stream",
     "text": [
      "7.5 7.5 7.5\n"
     ]
    }
   ],
   "source": [
    "print(Datascience.time, roopali.time, dhruv.time)"
   ]
  },
  {
   "cell_type": "code",
   "execution_count": 62,
   "id": "7eba83bd",
   "metadata": {},
   "outputs": [
    {
     "name": "stdout",
     "output_type": "stream",
     "text": [
      "['__class__', '__delattr__', '__dict__', '__dir__', '__doc__', '__eq__', '__format__', '__ge__', '__getattribute__', '__gt__', '__hash__', '__init__', '__init_subclass__', '__le__', '__lt__', '__module__', '__ne__', '__new__', '__reduce__', '__reduce_ex__', '__repr__', '__setattr__', '__sizeof__', '__str__', '__subclasshook__', '__weakref__', 'age', 'height', 'lang', 'mentor', 'time']\n"
     ]
    }
   ],
   "source": [
    "print(dir(dhruv))"
   ]
  },
  {
   "cell_type": "code",
   "execution_count": 65,
   "id": "5766625b",
   "metadata": {},
   "outputs": [],
   "source": [
    "roopali.time = 8"
   ]
  },
  {
   "cell_type": "code",
   "execution_count": 66,
   "id": "70e96f69",
   "metadata": {},
   "outputs": [
    {
     "name": "stdout",
     "output_type": "stream",
     "text": [
      "7.5 7.5 8\n",
      "2150642486160 2150642486160 140737053530096\n"
     ]
    }
   ],
   "source": [
    "print(Datascience.time, dhruv.time, roopali.time)\n",
    "print(id(Datascience.time), id(dhruv.time), id(roopali.time))"
   ]
  },
  {
   "cell_type": "code",
   "execution_count": 69,
   "id": "35d2efa1",
   "metadata": {},
   "outputs": [
    {
     "name": "stdout",
     "output_type": "stream",
     "text": [
      "140737053530160 140737053530160 10 10\n",
      "140737053530480 140737053530160 20 10\n"
     ]
    }
   ],
   "source": [
    "a = 10\n",
    "b = a\n",
    "print(id(a), id(b), a, b)\n",
    "a = 20\n",
    "print(id(a), id(b), a, b)"
   ]
  },
  {
   "cell_type": "code",
   "execution_count": 70,
   "id": "e8b81102",
   "metadata": {},
   "outputs": [],
   "source": [
    "Datascience.time = 2"
   ]
  },
  {
   "cell_type": "code",
   "execution_count": 71,
   "id": "a1975f58",
   "metadata": {
    "scrolled": true
   },
   "outputs": [
    {
     "name": "stdout",
     "output_type": "stream",
     "text": [
      "2 2 8\n"
     ]
    }
   ],
   "source": [
    "print(Datascience.time, dhruv.time, roopali.time)"
   ]
  },
  {
   "cell_type": "code",
   "execution_count": 72,
   "id": "0eccd96a",
   "metadata": {},
   "outputs": [
    {
     "data": {
      "text/plain": [
       "'XYZ'"
      ]
     },
     "execution_count": 72,
     "metadata": {},
     "output_type": "execute_result"
    }
   ],
   "source": [
    "roopali.mentor"
   ]
  },
  {
   "cell_type": "code",
   "execution_count": 73,
   "id": "2122856f",
   "metadata": {},
   "outputs": [],
   "source": [
    "var = 100\n",
    "def temp():\n",
    "    print(var)"
   ]
  },
  {
   "cell_type": "code",
   "execution_count": 74,
   "id": "1813e707",
   "metadata": {},
   "outputs": [
    {
     "name": "stdout",
     "output_type": "stream",
     "text": [
      "100\n"
     ]
    }
   ],
   "source": [
    "temp()"
   ]
  },
  {
   "cell_type": "code",
   "execution_count": 75,
   "id": "2a104fb8",
   "metadata": {},
   "outputs": [
    {
     "name": "stdout",
     "output_type": "stream",
     "text": [
      "<class 'function'>\n"
     ]
    }
   ],
   "source": [
    "print(type(temp))"
   ]
  },
  {
   "cell_type": "code",
   "execution_count": 90,
   "id": "860e959f",
   "metadata": {},
   "outputs": [
    {
     "data": {
      "text/plain": [
       "True"
      ]
     },
     "execution_count": 90,
     "metadata": {},
     "output_type": "execute_result"
    }
   ],
   "source": [
    "isinstance(roopali, Datascience)"
   ]
  },
  {
   "cell_type": "code",
   "execution_count": 97,
   "id": "134aee63",
   "metadata": {},
   "outputs": [
    {
     "data": {
      "text/plain": [
       "True"
      ]
     },
     "execution_count": 97,
     "metadata": {},
     "output_type": "execute_result"
    }
   ],
   "source": [
    "var = 20\n",
    "isinstance(var, object)"
   ]
  },
  {
   "cell_type": "code",
   "execution_count": 98,
   "id": "ca7611f6",
   "metadata": {},
   "outputs": [
    {
     "name": "stdout",
     "output_type": "stream",
     "text": [
      "<class 'int'>\n"
     ]
    }
   ],
   "source": [
    "print(type(var))"
   ]
  },
  {
   "cell_type": "code",
   "execution_count": 140,
   "id": "4f3dd122",
   "metadata": {},
   "outputs": [],
   "source": [
    "class Person:\n",
    "    age = 1\n",
    "    height = 1.0\n",
    "    fav_col = ('Red')\n",
    "    \n",
    "    def greet(a):                           # Greet is a method of Person class\n",
    "        print('Hello World!')"
   ]
  },
  {
   "cell_type": "code",
   "execution_count": 141,
   "id": "6e20a2c2",
   "metadata": {},
   "outputs": [],
   "source": [
    "abhijeet = Person()\n",
    "mamta = Person()"
   ]
  },
  {
   "cell_type": "code",
   "execution_count": 142,
   "id": "a50060ff",
   "metadata": {},
   "outputs": [
    {
     "name": "stdout",
     "output_type": "stream",
     "text": [
      "140737053529872 140737053529872 140737053529872\n"
     ]
    }
   ],
   "source": [
    "print(id(mamta.age), id(abhijeet.age), id(Person.age))"
   ]
  },
  {
   "cell_type": "code",
   "execution_count": 143,
   "id": "7867ae0c",
   "metadata": {},
   "outputs": [],
   "source": [
    "abhijeet.age = 23"
   ]
  },
  {
   "cell_type": "code",
   "execution_count": 144,
   "id": "5e0e072a",
   "metadata": {},
   "outputs": [
    {
     "name": "stdout",
     "output_type": "stream",
     "text": [
      "140737053529872 140737053530576 140737053529872\n"
     ]
    }
   ],
   "source": [
    "print(id(mamta.age), id(abhijeet.age), id(Person.age))"
   ]
  },
  {
   "cell_type": "code",
   "execution_count": 145,
   "id": "fed822f0",
   "metadata": {},
   "outputs": [],
   "source": [
    "abhijeet.fav_col = ('White')\n",
    "mamta.fav_col = ('Purple')"
   ]
  },
  {
   "cell_type": "code",
   "execution_count": 146,
   "id": "68b6c02e",
   "metadata": {},
   "outputs": [
    {
     "name": "stdout",
     "output_type": "stream",
     "text": [
      "2150605394224 2150605395120 2150605333936\n"
     ]
    }
   ],
   "source": [
    "print(id(mamta.fav_col), id(abhijeet.fav_col), id(Person.fav_col))"
   ]
  },
  {
   "cell_type": "code",
   "execution_count": 147,
   "id": "64613813",
   "metadata": {},
   "outputs": [
    {
     "name": "stdout",
     "output_type": "stream",
     "text": [
      "Red White Purple\n"
     ]
    }
   ],
   "source": [
    "print(Person.fav_col, abhijeet.fav_col, mamta.fav_col)"
   ]
  },
  {
   "cell_type": "code",
   "execution_count": 150,
   "id": "4cb0c6e8",
   "metadata": {},
   "outputs": [
    {
     "name": "stdout",
     "output_type": "stream",
     "text": [
      "Hello World!\n",
      "Hello World!\n"
     ]
    }
   ],
   "source": [
    "abhijeet.greet()\n",
    "Person.greet(20)"
   ]
  },
  {
   "cell_type": "code",
   "execution_count": null,
   "id": "74e740f1",
   "metadata": {},
   "outputs": [],
   "source": []
  }
 ],
 "metadata": {
  "kernelspec": {
   "display_name": "Python 3 (ipykernel)",
   "language": "python",
   "name": "python3"
  },
  "language_info": {
   "codemirror_mode": {
    "name": "ipython",
    "version": 3
   },
   "file_extension": ".py",
   "mimetype": "text/x-python",
   "name": "python",
   "nbconvert_exporter": "python",
   "pygments_lexer": "ipython3",
   "version": "3.8.10"
  }
 },
 "nbformat": 4,
 "nbformat_minor": 5
}
