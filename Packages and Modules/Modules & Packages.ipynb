{
 "cells": [
  {
   "cell_type": "code",
   "execution_count": 15,
   "id": "9b681312",
   "metadata": {},
   "outputs": [],
   "source": [
    "from Modules.calculator import *"
   ]
  },
  {
   "cell_type": "code",
   "execution_count": 16,
   "id": "457f60e4",
   "metadata": {},
   "outputs": [
    {
     "name": "stdout",
     "output_type": "stream",
     "text": [
      "3\n"
     ]
    }
   ],
   "source": [
    "print(add(1, 2))"
   ]
  },
  {
   "cell_type": "code",
   "execution_count": 17,
   "id": "de856f2b",
   "metadata": {},
   "outputs": [
    {
     "name": "stdout",
     "output_type": "stream",
     "text": [
      "200\n"
     ]
    }
   ],
   "source": [
    "print(mult(10, 20))"
   ]
  },
  {
   "cell_type": "code",
   "execution_count": 18,
   "id": "27f174b6",
   "metadata": {},
   "outputs": [
    {
     "name": "stdout",
     "output_type": "stream",
     "text": [
      "0.5\n"
     ]
    }
   ],
   "source": [
    "print(div(10, 20))"
   ]
  },
  {
   "cell_type": "code",
   "execution_count": 19,
   "id": "556c965a",
   "metadata": {},
   "outputs": [
    {
     "name": "stdout",
     "output_type": "stream",
     "text": [
      "4\n"
     ]
    }
   ],
   "source": [
    "print(sub(10, 6))"
   ]
  },
  {
   "cell_type": "code",
   "execution_count": 1,
   "id": "6fe1e172",
   "metadata": {},
   "outputs": [],
   "source": [
    "from Modules import calculator"
   ]
  },
  {
   "cell_type": "code",
   "execution_count": 4,
   "id": "5c68a161",
   "metadata": {},
   "outputs": [
    {
     "name": "stdout",
     "output_type": "stream",
     "text": [
      "2\n"
     ]
    }
   ],
   "source": [
    "print(calculator.mult(1, 2))"
   ]
  },
  {
   "cell_type": "code",
   "execution_count": 5,
   "id": "9f394328",
   "metadata": {},
   "outputs": [],
   "source": [
    "from Modules import vowel_checker"
   ]
  },
  {
   "cell_type": "code",
   "execution_count": 6,
   "id": "105dc60d",
   "metadata": {},
   "outputs": [
    {
     "name": "stdout",
     "output_type": "stream",
     "text": [
      "3\n"
     ]
    }
   ],
   "source": [
    "print(vowel_checker.checker('Abhijeet'))"
   ]
  },
  {
   "cell_type": "code",
   "execution_count": 13,
   "id": "f6fdac7e",
   "metadata": {},
   "outputs": [
    {
     "name": "stdout",
     "output_type": "stream",
     "text": [
      "<class 'module'>\n"
     ]
    }
   ],
   "source": [
    "print(type(calculator))"
   ]
  },
  {
   "cell_type": "code",
   "execution_count": 1,
   "id": "529f9bc6",
   "metadata": {},
   "outputs": [],
   "source": [
    "import numpy as np"
   ]
  },
  {
   "cell_type": "code",
   "execution_count": 2,
   "id": "aaffb294",
   "metadata": {},
   "outputs": [
    {
     "data": {
      "text/plain": [
       "array([0, 1, 2])"
      ]
     },
     "execution_count": 2,
     "metadata": {},
     "output_type": "execute_result"
    }
   ],
   "source": [
    "np.arange(3)"
   ]
  },
  {
   "cell_type": "code",
   "execution_count": null,
   "id": "138e082a",
   "metadata": {},
   "outputs": [],
   "source": []
  }
 ],
 "metadata": {
  "kernelspec": {
   "display_name": "Python 3 (ipykernel)",
   "language": "python",
   "name": "python3"
  },
  "language_info": {
   "codemirror_mode": {
    "name": "ipython",
    "version": 3
   },
   "file_extension": ".py",
   "mimetype": "text/x-python",
   "name": "python",
   "nbconvert_exporter": "python",
   "pygments_lexer": "ipython3",
   "version": "3.8.10"
  }
 },
 "nbformat": 4,
 "nbformat_minor": 5
}
