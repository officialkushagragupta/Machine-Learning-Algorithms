{
 "cells": [
  {
   "cell_type": "code",
   "execution_count": 1,
   "id": "7fe2d1a3",
   "metadata": {},
   "outputs": [],
   "source": [
    "l = []\n",
    "for i in range(10):\n",
    "    l.append(i**2)"
   ]
  },
  {
   "cell_type": "code",
   "execution_count": 2,
   "id": "88b6c979",
   "metadata": {},
   "outputs": [
    {
     "data": {
      "text/plain": [
       "[0, 1, 4, 9, 16, 25, 36, 49, 64, 81]"
      ]
     },
     "execution_count": 2,
     "metadata": {},
     "output_type": "execute_result"
    }
   ],
   "source": [
    "l"
   ]
  },
  {
   "cell_type": "code",
   "execution_count": 4,
   "id": "48936f0e",
   "metadata": {},
   "outputs": [],
   "source": [
    "l = [i**2 for i in range(10)]"
   ]
  },
  {
   "cell_type": "code",
   "execution_count": 5,
   "id": "e3602ed5",
   "metadata": {},
   "outputs": [
    {
     "data": {
      "text/plain": [
       "[0, 1, 4, 9, 16, 25, 36, 49, 64, 81]"
      ]
     },
     "execution_count": 5,
     "metadata": {},
     "output_type": "execute_result"
    }
   ],
   "source": [
    "l"
   ]
  },
  {
   "cell_type": "code",
   "execution_count": 6,
   "id": "0817b06f",
   "metadata": {},
   "outputs": [
    {
     "name": "stdout",
     "output_type": "stream",
     "text": [
      "[0, 1, 2, 3, 4, 5, 6, 7, 8, 9]\n"
     ]
    }
   ],
   "source": [
    "print([i for i in range(10)])"
   ]
  },
  {
   "cell_type": "code",
   "execution_count": 8,
   "id": "e4ea3e62",
   "metadata": {},
   "outputs": [],
   "source": [
    "even = [i**2 for i in range(10) if i%2 == 0]"
   ]
  },
  {
   "cell_type": "code",
   "execution_count": 9,
   "id": "88e23b2f",
   "metadata": {},
   "outputs": [
    {
     "data": {
      "text/plain": [
       "[0, 4, 16, 36, 64]"
      ]
     },
     "execution_count": 9,
     "metadata": {},
     "output_type": "execute_result"
    }
   ],
   "source": [
    "even"
   ]
  },
  {
   "cell_type": "code",
   "execution_count": 30,
   "id": "40792a21",
   "metadata": {},
   "outputs": [],
   "source": [
    "rows = 3\n",
    "cols = 3\n",
    "matrix =  [[j for j in range((i) * cols, (i + 1) * cols)] for i in range(rows)]"
   ]
  },
  {
   "cell_type": "code",
   "execution_count": 31,
   "id": "a02492f6",
   "metadata": {},
   "outputs": [
    {
     "data": {
      "text/plain": [
       "[[0, 1, 2], [3, 4, 5], [6, 7, 8]]"
      ]
     },
     "execution_count": 31,
     "metadata": {},
     "output_type": "execute_result"
    }
   ],
   "source": [
    "matrix"
   ]
  },
  {
   "cell_type": "code",
   "execution_count": 36,
   "id": "c75d9dc1",
   "metadata": {},
   "outputs": [
    {
     "name": "stdout",
     "output_type": "stream",
     "text": [
      "[0, 1, 4, 9, 16, 25, 36, 49, 64, 81]\n"
     ]
    }
   ],
   "source": [
    "l = [i**2 for i in range(10)]\n",
    "print(l)"
   ]
  },
  {
   "cell_type": "code",
   "execution_count": 38,
   "id": "1fb1b66c",
   "metadata": {},
   "outputs": [
    {
     "name": "stdout",
     "output_type": "stream",
     "text": [
      "<generator object <genexpr> at 0x0000019F3B1D9AC0>\n"
     ]
    }
   ],
   "source": [
    "g = (i**2 for i in range(10))\n",
    "print(g)"
   ]
  },
  {
   "cell_type": "code",
   "execution_count": 40,
   "id": "fc72c6ab",
   "metadata": {},
   "outputs": [],
   "source": [
    "g_iter = iter(g)"
   ]
  },
  {
   "cell_type": "code",
   "execution_count": 48,
   "id": "eced1362",
   "metadata": {},
   "outputs": [
    {
     "name": "stdout",
     "output_type": "stream",
     "text": [
      "64\n"
     ]
    }
   ],
   "source": [
    "print(next(g_iter))"
   ]
  },
  {
   "cell_type": "code",
   "execution_count": 50,
   "id": "55088463",
   "metadata": {},
   "outputs": [
    {
     "data": {
      "text/plain": [
       "<generator object <genexpr> at 0x0000019F3B1D9AC0>"
      ]
     },
     "execution_count": 50,
     "metadata": {},
     "output_type": "execute_result"
    }
   ],
   "source": [
    "g"
   ]
  },
  {
   "cell_type": "code",
   "execution_count": 51,
   "id": "aadca25a",
   "metadata": {},
   "outputs": [],
   "source": [
    "def temp():\n",
    "    print('Hello')"
   ]
  },
  {
   "cell_type": "code",
   "execution_count": 52,
   "id": "e08515ed",
   "metadata": {},
   "outputs": [
    {
     "name": "stdout",
     "output_type": "stream",
     "text": [
      "Hello\n"
     ]
    }
   ],
   "source": [
    "temp()"
   ]
  },
  {
   "cell_type": "code",
   "execution_count": 53,
   "id": "cc159230",
   "metadata": {},
   "outputs": [],
   "source": [
    "add = lambda a, b: a+b"
   ]
  },
  {
   "cell_type": "code",
   "execution_count": 54,
   "id": "3381ce32",
   "metadata": {},
   "outputs": [
    {
     "data": {
      "text/plain": [
       "function"
      ]
     },
     "execution_count": 54,
     "metadata": {},
     "output_type": "execute_result"
    }
   ],
   "source": [
    "type(add)"
   ]
  },
  {
   "cell_type": "code",
   "execution_count": 57,
   "id": "21d05345",
   "metadata": {},
   "outputs": [
    {
     "data": {
      "text/plain": [
       "3"
      ]
     },
     "execution_count": 57,
     "metadata": {},
     "output_type": "execute_result"
    }
   ],
   "source": [
    "add(1, 2)"
   ]
  },
  {
   "cell_type": "code",
   "execution_count": 83,
   "id": "29a5605a",
   "metadata": {},
   "outputs": [],
   "source": [
    "temp = lambda a, b: a + b"
   ]
  },
  {
   "cell_type": "code",
   "execution_count": 84,
   "id": "a7724cb0",
   "metadata": {},
   "outputs": [],
   "source": [
    "temp2 = lambda m, n: m(n, 10)"
   ]
  },
  {
   "cell_type": "code",
   "execution_count": 86,
   "id": "239420f4",
   "metadata": {},
   "outputs": [
    {
     "data": {
      "text/plain": [
       "22"
      ]
     },
     "execution_count": 86,
     "metadata": {},
     "output_type": "execute_result"
    }
   ],
   "source": [
    "temp2(temp, 12)"
   ]
  },
  {
   "cell_type": "code",
   "execution_count": 80,
   "id": "2dabdbcc",
   "metadata": {},
   "outputs": [],
   "source": [
    "def temp(a, b):\n",
    "    return a + b"
   ]
  },
  {
   "cell_type": "code",
   "execution_count": 81,
   "id": "1d87f9a0",
   "metadata": {},
   "outputs": [],
   "source": [
    "def temp2(m, n):\n",
    "    return m(n, 10)"
   ]
  },
  {
   "cell_type": "code",
   "execution_count": 82,
   "id": "0f8dd6d7",
   "metadata": {},
   "outputs": [
    {
     "data": {
      "text/plain": [
       "22"
      ]
     },
     "execution_count": 82,
     "metadata": {},
     "output_type": "execute_result"
    }
   ],
   "source": [
    "temp2(temp, 12)"
   ]
  },
  {
   "cell_type": "code",
   "execution_count": 87,
   "id": "74d0c64e",
   "metadata": {},
   "outputs": [],
   "source": [
    "class Person:\n",
    "    pass\n",
    "class Human(Person):\n",
    "    pass"
   ]
  },
  {
   "cell_type": "code",
   "execution_count": null,
   "id": "ff686f2f",
   "metadata": {},
   "outputs": [],
   "source": [
    "file = open('abcd.txt', 'a')"
   ]
  },
  {
   "cell_type": "code",
   "execution_count": null,
   "id": "35463787",
   "metadata": {},
   "outputs": [],
   "source": [
    "file.close()"
   ]
  },
  {
   "cell_type": "code",
   "execution_count": null,
   "id": "0e32d3c3",
   "metadata": {},
   "outputs": [],
   "source": [
    "with open('abcd', 'a') as file:\n",
    "    file.write()\n",
    "    file.read()\n",
    "    file.readline()"
   ]
  },
  {
   "cell_type": "code",
   "execution_count": 134,
   "id": "dbb9c625",
   "metadata": {},
   "outputs": [],
   "source": [
    "def div(a, b):\n",
    "    try:\n",
    "        return a/b\n",
    "    except ZeroDivisionError:\n",
    "        return \"Zero Divison is not allowed\"\n",
    "    except TypeError:\n",
    "        return 'There is a data type mis match'\n",
    "    except NameError:\n",
    "        return 'Name error'\n",
    "    finally:\n",
    "        print('Chalega hi chalega')"
   ]
  },
  {
   "cell_type": "code",
   "execution_count": 133,
   "id": "a0aaf774",
   "metadata": {},
   "outputs": [
    {
     "name": "stdout",
     "output_type": "stream",
     "text": [
      "Chalega hi chalega\n",
      "There is a data type mis match\n"
     ]
    }
   ],
   "source": [
    "print(div(30, '10'))"
   ]
  },
  {
   "cell_type": "code",
   "execution_count": 106,
   "id": "93e99cd8",
   "metadata": {},
   "outputs": [
    {
     "name": "stdout",
     "output_type": "stream",
     "text": [
      "Chalega hi chalega\n",
      "Zero Divison is not allowed\n"
     ]
    }
   ],
   "source": [
    "print(div(30, 0))"
   ]
  },
  {
   "cell_type": "code",
   "execution_count": 135,
   "id": "e1629e77",
   "metadata": {},
   "outputs": [],
   "source": [
    "def square(n):\n",
    "    count = 0\n",
    "    while (count < n):\n",
    "        yield (count**2)\n",
    "        count += 1"
   ]
  },
  {
   "cell_type": "code",
   "execution_count": 136,
   "id": "2c94cfaa",
   "metadata": {},
   "outputs": [],
   "source": [
    "s = square(10)"
   ]
  },
  {
   "cell_type": "code",
   "execution_count": 137,
   "id": "90e6d838",
   "metadata": {},
   "outputs": [],
   "source": [
    "s_iter = iter(s)"
   ]
  },
  {
   "cell_type": "code",
   "execution_count": 143,
   "id": "073f4d80",
   "metadata": {},
   "outputs": [
    {
     "data": {
      "text/plain": [
       "25"
      ]
     },
     "execution_count": 143,
     "metadata": {},
     "output_type": "execute_result"
    }
   ],
   "source": [
    "next(s_iter)"
   ]
  },
  {
   "cell_type": "code",
   "execution_count": null,
   "id": "83f9d288",
   "metadata": {},
   "outputs": [],
   "source": []
  },
  {
   "cell_type": "code",
   "execution_count": null,
   "id": "2d90b720",
   "metadata": {},
   "outputs": [],
   "source": []
  }
 ],
 "metadata": {
  "kernelspec": {
   "display_name": "Python 3 (ipykernel)",
   "language": "python",
   "name": "python3"
  },
  "language_info": {
   "codemirror_mode": {
    "name": "ipython",
    "version": 3
   },
   "file_extension": ".py",
   "mimetype": "text/x-python",
   "name": "python",
   "nbconvert_exporter": "python",
   "pygments_lexer": "ipython3",
   "version": "3.8.10"
  }
 },
 "nbformat": 4,
 "nbformat_minor": 5
}
