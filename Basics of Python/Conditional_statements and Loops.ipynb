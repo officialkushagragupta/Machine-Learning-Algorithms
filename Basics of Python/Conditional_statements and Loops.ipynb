{
 "cells": [
  {
   "cell_type": "code",
   "execution_count": 1,
   "id": "9b7ee9fa",
   "metadata": {},
   "outputs": [],
   "source": [
    "a = 10"
   ]
  },
  {
   "cell_type": "code",
   "execution_count": 6,
   "id": "372b667f",
   "metadata": {},
   "outputs": [
    {
     "data": {
      "text/plain": [
       "False"
      ]
     },
     "execution_count": 6,
     "metadata": {},
     "output_type": "execute_result"
    }
   ],
   "source": [
    "a == 5"
   ]
  },
  {
   "cell_type": "code",
   "execution_count": 7,
   "id": "7f38a568",
   "metadata": {},
   "outputs": [
    {
     "data": {
      "text/plain": [
       "True"
      ]
     },
     "execution_count": 7,
     "metadata": {},
     "output_type": "execute_result"
    }
   ],
   "source": [
    "a > 1"
   ]
  },
  {
   "cell_type": "code",
   "execution_count": 8,
   "id": "e731c44d",
   "metadata": {},
   "outputs": [
    {
     "data": {
      "text/plain": [
       "True"
      ]
     },
     "execution_count": 8,
     "metadata": {},
     "output_type": "execute_result"
    }
   ],
   "source": [
    "a < 20"
   ]
  },
  {
   "cell_type": "code",
   "execution_count": 11,
   "id": "8d8c348c",
   "metadata": {},
   "outputs": [
    {
     "data": {
      "text/plain": [
       "False"
      ]
     },
     "execution_count": 11,
     "metadata": {},
     "output_type": "execute_result"
    }
   ],
   "source": [
    "a <= 1"
   ]
  },
  {
   "cell_type": "code",
   "execution_count": 14,
   "id": "23bb5c6c",
   "metadata": {},
   "outputs": [
    {
     "data": {
      "text/plain": [
       "True"
      ]
     },
     "execution_count": 14,
     "metadata": {},
     "output_type": "execute_result"
    }
   ],
   "source": [
    "a != 1"
   ]
  },
  {
   "cell_type": "code",
   "execution_count": 16,
   "id": "20b492ce",
   "metadata": {},
   "outputs": [],
   "source": [
    "# Conditional statement\n",
    "\n",
    "# If\n",
    "# Else\n",
    "# Elif"
   ]
  },
  {
   "cell_type": "code",
   "execution_count": 38,
   "id": "4c6dde69",
   "metadata": {},
   "outputs": [],
   "source": [
    "a = 10\n",
    "b = 9"
   ]
  },
  {
   "cell_type": "code",
   "execution_count": 39,
   "id": "a6cec772",
   "metadata": {},
   "outputs": [
    {
     "name": "stdout",
     "output_type": "stream",
     "text": [
      "A > B\n"
     ]
    }
   ],
   "source": [
    "if (a < b):\n",
    "    print(\"A < B\")\n",
    "elif (a > b):\n",
    "    print(\"A > B\")\n",
    "elif (a == b):\n",
    "    print('A == B')\n",
    "else:\n",
    "    print(\"Else Was printed\")"
   ]
  },
  {
   "cell_type": "code",
   "execution_count": 58,
   "id": "e8a703d8",
   "metadata": {},
   "outputs": [],
   "source": [
    "def calculator(a, b, button):\n",
    "    if button == 1:\n",
    "        add = a + b\n",
    "#         print(add)\n",
    "        return add\n",
    "    elif button == 2:\n",
    "        sub = a - b\n",
    "#         print(sub)\n",
    "        return sub\n",
    "    elif button == 3:\n",
    "        mult = a * b\n",
    "#         print(mult)\n",
    "        return mult\n",
    "    elif button == 4:\n",
    "        div = a / b\n",
    "#         print(div)\n",
    "        return div"
   ]
  },
  {
   "cell_type": "code",
   "execution_count": 59,
   "id": "07c7697f",
   "metadata": {},
   "outputs": [
    {
     "data": {
      "text/plain": [
       "0.5"
      ]
     },
     "execution_count": 59,
     "metadata": {},
     "output_type": "execute_result"
    }
   ],
   "source": [
    "calculator(1, 2, 4)"
   ]
  },
  {
   "cell_type": "code",
   "execution_count": 60,
   "id": "f4268265",
   "metadata": {},
   "outputs": [],
   "source": [
    "# input from user"
   ]
  },
  {
   "cell_type": "code",
   "execution_count": 61,
   "id": "f7a91583",
   "metadata": {},
   "outputs": [
    {
     "name": "stdout",
     "output_type": "stream",
     "text": [
      "Enter your name?Abhijeet\n"
     ]
    }
   ],
   "source": [
    "var = input(\"Enter your name?\")"
   ]
  },
  {
   "cell_type": "code",
   "execution_count": 62,
   "id": "84dcf2ff",
   "metadata": {},
   "outputs": [
    {
     "name": "stdout",
     "output_type": "stream",
     "text": [
      "Abhijeet\n"
     ]
    }
   ],
   "source": [
    "print(var)"
   ]
  },
  {
   "cell_type": "code",
   "execution_count": 63,
   "id": "80c130ef",
   "metadata": {},
   "outputs": [
    {
     "name": "stdout",
     "output_type": "stream",
     "text": [
      "Enter your age?23\n"
     ]
    }
   ],
   "source": [
    "var = input(\"Enter your age?\")"
   ]
  },
  {
   "cell_type": "code",
   "execution_count": 66,
   "id": "0bef1fa1",
   "metadata": {},
   "outputs": [
    {
     "data": {
      "text/plain": [
       "str"
      ]
     },
     "execution_count": 66,
     "metadata": {},
     "output_type": "execute_result"
    }
   ],
   "source": [
    "type(var)"
   ]
  },
  {
   "cell_type": "code",
   "execution_count": 76,
   "id": "110badb5",
   "metadata": {},
   "outputs": [
    {
     "name": "stdout",
     "output_type": "stream",
     "text": [
      "2.0\n"
     ]
    }
   ],
   "source": [
    "print(2 / 1)"
   ]
  },
  {
   "cell_type": "code",
   "execution_count": 69,
   "id": "03d8ad15",
   "metadata": {},
   "outputs": [
    {
     "data": {
      "text/plain": [
       "int"
      ]
     },
     "execution_count": 69,
     "metadata": {},
     "output_type": "execute_result"
    }
   ],
   "source": [
    "type(int(var))"
   ]
  },
  {
   "cell_type": "code",
   "execution_count": 70,
   "id": "4e71c4c4",
   "metadata": {},
   "outputs": [
    {
     "name": "stdout",
     "output_type": "stream",
     "text": [
      "Enter your age23\n"
     ]
    }
   ],
   "source": [
    "var = int(input(\"Enter your age\"))"
   ]
  },
  {
   "cell_type": "code",
   "execution_count": 72,
   "id": "3ad868f4",
   "metadata": {},
   "outputs": [
    {
     "name": "stdout",
     "output_type": "stream",
     "text": [
      "33\n"
     ]
    }
   ],
   "source": [
    "print(var + 10)"
   ]
  },
  {
   "cell_type": "code",
   "execution_count": 73,
   "id": "ee7eda40",
   "metadata": {},
   "outputs": [
    {
     "name": "stdout",
     "output_type": "stream",
     "text": [
      "Enter your age23\n",
      "23.0\n"
     ]
    }
   ],
   "source": [
    "var = float(input(\"Enter your age\"))\n",
    "print(var)"
   ]
  },
  {
   "cell_type": "code",
   "execution_count": 77,
   "id": "a3f76165",
   "metadata": {},
   "outputs": [],
   "source": [
    "# Loops \n",
    "\n",
    "# For Loops\n",
    "# While Loops"
   ]
  },
  {
   "cell_type": "code",
   "execution_count": 83,
   "id": "3f3ea746",
   "metadata": {},
   "outputs": [
    {
     "name": "stdout",
     "output_type": "stream",
     "text": [
      "0 0\n",
      "0 1\n",
      "0 2\n",
      "0 3\n",
      "0 4\n",
      "1 0\n",
      "1 1\n",
      "1 2\n",
      "1 3\n",
      "1 4\n"
     ]
    }
   ],
   "source": [
    "for i in range(2):\n",
    "    for j in range(5):\n",
    "        print(i, j)"
   ]
  },
  {
   "cell_type": "code",
   "execution_count": 92,
   "id": "fb39fdef",
   "metadata": {},
   "outputs": [
    {
     "name": "stdout",
     "output_type": "stream",
     "text": [
      "* * * * * * * \n",
      "* * * * * * * \n",
      "* * * * * * * \n",
      "* * * * * * * \n",
      "* * * * * * * \n",
      "* * * * * * * \n",
      "* * * * * * * \n"
     ]
    }
   ],
   "source": [
    "# * * * * * * *\n",
    "# * * * * * * *\n",
    "# * * * * * * *\n",
    "# * * * * * * *\n",
    "# * * * * * * *\n",
    "# * * * * * * *\n",
    "# * * * * * * *\n",
    "n = 7\n",
    "\n",
    "for i in range(n):\n",
    "    for j in range(n):\n",
    "        print(\"*\", end = \" \")\n",
    "    print()"
   ]
  },
  {
   "cell_type": "code",
   "execution_count": 110,
   "id": "fe68e775",
   "metadata": {},
   "outputs": [
    {
     "name": "stdout",
     "output_type": "stream",
     "text": [
      "* \n",
      "* * \n",
      "* * * \n",
      "* * * * \n",
      "* * * * * \n"
     ]
    }
   ],
   "source": [
    "# * \n",
    "# * * \n",
    "# * * * \n",
    "# * * * * \n",
    "# * * * * *\n",
    "\n",
    "n = 5\n",
    "\n",
    "for i in range(1, n + 1):\n",
    "    for j in range(0, i):\n",
    "        print(\"*\", end=\" \")\n",
    "    print()"
   ]
  },
  {
   "cell_type": "code",
   "execution_count": 117,
   "id": "ea128675",
   "metadata": {},
   "outputs": [
    {
     "name": "stdout",
     "output_type": "stream",
     "text": [
      "* * * * * \n",
      "* * * * \n",
      "* * * \n",
      "* * \n",
      "* \n"
     ]
    }
   ],
   "source": [
    "# * * * * * \n",
    "# * * * * \n",
    "# * * * \n",
    "# * * \n",
    "# * \n",
    "\n",
    "n = 5\n",
    "\n",
    "for i in range(5, 0, -1):\n",
    "    for j in range(i):\n",
    "        print('*', end=\" \")\n",
    "    print()"
   ]
  },
  {
   "cell_type": "code",
   "execution_count": 119,
   "id": "56e1b3b4",
   "metadata": {},
   "outputs": [
    {
     "name": "stdout",
     "output_type": "stream",
     "text": [
      "        * \n",
      "      * * \n",
      "    * * * \n",
      "  * * * * \n",
      "* * * * * \n"
     ]
    }
   ],
   "source": [
    "#         * \n",
    "#       * * \n",
    "#     * * * \n",
    "#   * * * * \n",
    "# * * * * * \n",
    "\n",
    "n = 5\n",
    "\n",
    "for i in range(1, n + 1):\n",
    "    # print spaces\n",
    "    for j in range(n - i):\n",
    "        print(\"  \", end='')\n",
    "    \n",
    "    # print star\n",
    "    for k in range(i):\n",
    "        print('* ', end='')\n",
    "    print()"
   ]
  },
  {
   "cell_type": "code",
   "execution_count": 126,
   "id": "0f978e55",
   "metadata": {},
   "outputs": [
    {
     "name": "stdout",
     "output_type": "stream",
     "text": [
      "* * * * * \n",
      "  * * * * \n",
      "    * * * \n",
      "      * * \n",
      "        * \n"
     ]
    }
   ],
   "source": [
    "# * * * * * \n",
    "#   * * * * \n",
    "#     * * * \n",
    "#       * * \n",
    "#         * \n",
    "\n",
    "n = 5\n",
    "\n",
    "for i in range(n):\n",
    "#     print space\n",
    "    for j in range(i):\n",
    "        print('  ', end='')\n",
    "#     print star\n",
    "    for k in range(n - i):\n",
    "        print(\"* \", end='')\n",
    "    print()"
   ]
  },
  {
   "cell_type": "code",
   "execution_count": 132,
   "id": "09c53fcd",
   "metadata": {},
   "outputs": [
    {
     "name": "stdout",
     "output_type": "stream",
     "text": [
      "* * * * * \n",
      "    * * * * \n",
      "        * * * \n",
      "            * * \n",
      "                * \n"
     ]
    }
   ],
   "source": [
    "# * * * * * \n",
    "#     * * * * \n",
    "#         * * * \n",
    "#             * * \n",
    "#                 * \n",
    "\n",
    "n = 5\n",
    "\n",
    "for i in range(n):\n",
    "#     print space\n",
    "    for j in range(2*i):\n",
    "        print('  ', end='')\n",
    "#     print star\n",
    "    for k in range(n - i):\n",
    "        print(\"* \", end='')\n",
    "    print()"
   ]
  },
  {
   "cell_type": "code",
   "execution_count": 134,
   "id": "be106cb4",
   "metadata": {},
   "outputs": [],
   "source": [
    "# * * * * * \n",
    "# *       * \n",
    "# *       * \n",
    "# *       * \n",
    "# * * * * *\n",
    "\n",
    "row = 5\n",
    "col = 5"
   ]
  },
  {
   "cell_type": "code",
   "execution_count": 135,
   "id": "00b4f31c",
   "metadata": {},
   "outputs": [],
   "source": [
    "# *       * \n",
    "#   *   *   \n",
    "#     *     \n",
    "#   *   *   \n",
    "# *       *\n",
    "\n",
    "n = 5"
   ]
  },
  {
   "cell_type": "code",
   "execution_count": null,
   "id": "3ef58785",
   "metadata": {},
   "outputs": [],
   "source": []
  }
 ],
 "metadata": {
  "kernelspec": {
   "display_name": "Python 3 (ipykernel)",
   "language": "python",
   "name": "python3"
  },
  "language_info": {
   "codemirror_mode": {
    "name": "ipython",
    "version": 3
   },
   "file_extension": ".py",
   "mimetype": "text/x-python",
   "name": "python",
   "nbconvert_exporter": "python",
   "pygments_lexer": "ipython3",
   "version": "3.8.10"
  }
 },
 "nbformat": 4,
 "nbformat_minor": 5
}
