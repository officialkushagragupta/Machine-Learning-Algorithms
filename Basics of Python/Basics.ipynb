{
 "cells": [
  {
   "cell_type": "code",
   "execution_count": 1,
   "id": "30ea2beb",
   "metadata": {},
   "outputs": [],
   "source": [
    "var = 0"
   ]
  },
  {
   "cell_type": "code",
   "execution_count": 2,
   "id": "c58c5dc8",
   "metadata": {},
   "outputs": [
    {
     "name": "stdout",
     "output_type": "stream",
     "text": [
      "0\n"
     ]
    }
   ],
   "source": [
    "print(var)"
   ]
  },
  {
   "cell_type": "code",
   "execution_count": 3,
   "id": "c1300abd",
   "metadata": {},
   "outputs": [
    {
     "data": {
      "text/plain": [
       "140713602062064"
      ]
     },
     "execution_count": 3,
     "metadata": {},
     "output_type": "execute_result"
    }
   ],
   "source": [
    "id(var)"
   ]
  },
  {
   "cell_type": "code",
   "execution_count": 4,
   "id": "1e4d4a0d",
   "metadata": {},
   "outputs": [],
   "source": [
    "var = 2"
   ]
  },
  {
   "cell_type": "code",
   "execution_count": 5,
   "id": "9f134f8b",
   "metadata": {},
   "outputs": [
    {
     "name": "stdout",
     "output_type": "stream",
     "text": [
      "2\n",
      "140713602062128\n"
     ]
    }
   ],
   "source": [
    "print(var)\n",
    "print(id(var))"
   ]
  },
  {
   "cell_type": "code",
   "execution_count": 24,
   "id": "49aaa622",
   "metadata": {},
   "outputs": [
    {
     "name": "stdout",
     "output_type": "stream",
     "text": [
      "1---2---3---Hello0 World!\n"
     ]
    }
   ],
   "source": [
    "print(1, 2, 3, \"Hello\", sep = '---', end='0')\n",
    "print(\" World!\")"
   ]
  },
  {
   "cell_type": "code",
   "execution_count": 97,
   "id": "355d41cf",
   "metadata": {},
   "outputs": [],
   "source": [
    "print?"
   ]
  },
  {
   "cell_type": "code",
   "execution_count": 30,
   "id": "bb197cd8",
   "metadata": {},
   "outputs": [
    {
     "data": {
      "text/plain": [
       "str"
      ]
     },
     "execution_count": 30,
     "metadata": {},
     "output_type": "execute_result"
    }
   ],
   "source": [
    "type(\"3.5\")"
   ]
  },
  {
   "cell_type": "code",
   "execution_count": 31,
   "id": "c71313b7",
   "metadata": {},
   "outputs": [],
   "source": [
    "boolean = True"
   ]
  },
  {
   "cell_type": "code",
   "execution_count": 32,
   "id": "d92cdd7f",
   "metadata": {},
   "outputs": [
    {
     "data": {
      "text/plain": [
       "bool"
      ]
     },
     "execution_count": 32,
     "metadata": {},
     "output_type": "execute_result"
    }
   ],
   "source": [
    "type(boolean)"
   ]
  },
  {
   "cell_type": "code",
   "execution_count": 33,
   "id": "a389c241",
   "metadata": {},
   "outputs": [],
   "source": [
    "name = \"Abhijeet\""
   ]
  },
  {
   "cell_type": "code",
   "execution_count": 34,
   "id": "a8cb27ce",
   "metadata": {},
   "outputs": [
    {
     "name": "stdout",
     "output_type": "stream",
     "text": [
      "Abhijeet\n"
     ]
    }
   ],
   "source": [
    "print(name)"
   ]
  },
  {
   "cell_type": "code",
   "execution_count": 35,
   "id": "44c25451",
   "metadata": {},
   "outputs": [
    {
     "name": "stdout",
     "output_type": "stream",
     "text": [
      "xyz\n"
     ]
    }
   ],
   "source": [
    "name = 'xyz'\n",
    "print(name)"
   ]
  },
  {
   "cell_type": "code",
   "execution_count": 36,
   "id": "ad1f9a0d",
   "metadata": {},
   "outputs": [],
   "source": [
    "# Functions"
   ]
  },
  {
   "cell_type": "code",
   "execution_count": 74,
   "id": "e0cb1c3d",
   "metadata": {},
   "outputs": [],
   "source": [
    "def name_printer(hello, hi):\n",
    "    var = 19\n",
    "    print(var, hello, hi)\n",
    "    print(10+20)"
   ]
  },
  {
   "cell_type": "code",
   "execution_count": 75,
   "id": "376d024e",
   "metadata": {},
   "outputs": [
    {
     "name": "stdout",
     "output_type": "stream",
     "text": [
      "<function name_printer at 0x0000014A8B8CB430>\n"
     ]
    }
   ],
   "source": [
    "print(name_printer)"
   ]
  },
  {
   "cell_type": "code",
   "execution_count": 83,
   "id": "01a210e2",
   "metadata": {},
   "outputs": [
    {
     "name": "stdout",
     "output_type": "stream",
     "text": [
      "19 30 100\n",
      "30\n"
     ]
    }
   ],
   "source": [
    "a = 30\n",
    "b = 100\n",
    "name_printer(a, b)"
   ]
  },
  {
   "cell_type": "code",
   "execution_count": 95,
   "id": "3fd065c3",
   "metadata": {},
   "outputs": [],
   "source": [
    "def name_printer(hello, hi, var = 19):\n",
    "    print(var, hello, hi)\n",
    "    print(10+20)\n",
    "    return 999"
   ]
  },
  {
   "cell_type": "code",
   "execution_count": 96,
   "id": "109074f9",
   "metadata": {},
   "outputs": [
    {
     "name": "stdout",
     "output_type": "stream",
     "text": [
      "Hello 10 20\n",
      "30\n",
      "999\n"
     ]
    }
   ],
   "source": [
    "print(name_printer(10, 20, 'Hello'))"
   ]
  },
  {
   "cell_type": "code",
   "execution_count": 98,
   "id": "1f793494",
   "metadata": {},
   "outputs": [],
   "source": [
    "a = \"a\""
   ]
  },
  {
   "cell_type": "code",
   "execution_count": 100,
   "id": "c3d48143",
   "metadata": {},
   "outputs": [
    {
     "data": {
      "text/plain": [
       "97"
      ]
     },
     "execution_count": 100,
     "metadata": {},
     "output_type": "execute_result"
    }
   ],
   "source": [
    "ord(a)"
   ]
  },
  {
   "cell_type": "code",
   "execution_count": 102,
   "id": "a672d5de",
   "metadata": {},
   "outputs": [
    {
     "data": {
      "text/plain": [
       "'A'"
      ]
     },
     "execution_count": 102,
     "metadata": {},
     "output_type": "execute_result"
    }
   ],
   "source": [
    "chr(65)"
   ]
  },
  {
   "cell_type": "code",
   "execution_count": 104,
   "id": "7030cf0b",
   "metadata": {},
   "outputs": [],
   "source": [
    "def change_char(char):\n",
    "    char=ord(char)-32\n",
    "    print(chr(char))"
   ]
  },
  {
   "cell_type": "code",
   "execution_count": 106,
   "id": "5fe75daf",
   "metadata": {},
   "outputs": [
    {
     "name": "stdout",
     "output_type": "stream",
     "text": [
      "Z\n"
     ]
    }
   ],
   "source": [
    "change_char('z')"
   ]
  },
  {
   "cell_type": "code",
   "execution_count": null,
   "id": "a0576ee3",
   "metadata": {},
   "outputs": [],
   "source": []
  }
 ],
 "metadata": {
  "kernelspec": {
   "display_name": "Python 3 (ipykernel)",
   "language": "python",
   "name": "python3"
  },
  "language_info": {
   "codemirror_mode": {
    "name": "ipython",
    "version": 3
   },
   "file_extension": ".py",
   "mimetype": "text/x-python",
   "name": "python",
   "nbconvert_exporter": "python",
   "pygments_lexer": "ipython3",
   "version": "3.8.10"
  }
 },
 "nbformat": 4,
 "nbformat_minor": 5
}
