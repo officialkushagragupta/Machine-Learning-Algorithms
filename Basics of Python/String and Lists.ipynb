{
 "cells": [
  {
   "cell_type": "code",
   "execution_count": 1,
   "id": "ccfe7d6a",
   "metadata": {},
   "outputs": [],
   "source": [
    "name = 'Abhijeet'"
   ]
  },
  {
   "cell_type": "code",
   "execution_count": 2,
   "id": "9fa3d851",
   "metadata": {},
   "outputs": [
    {
     "name": "stdout",
     "output_type": "stream",
     "text": [
      "A\n",
      "b\n",
      "h\n",
      "i\n",
      "j\n",
      "e\n",
      "e\n",
      "t\n"
     ]
    }
   ],
   "source": [
    "for i in name:\n",
    "    print(i)"
   ]
  },
  {
   "cell_type": "code",
   "execution_count": 3,
   "id": "b197478e",
   "metadata": {},
   "outputs": [],
   "source": [
    "var = 1234"
   ]
  },
  {
   "cell_type": "code",
   "execution_count": 9,
   "id": "2b4d8aaa",
   "metadata": {},
   "outputs": [
    {
     "data": {
      "text/plain": [
       "'e'"
      ]
     },
     "execution_count": 9,
     "metadata": {},
     "output_type": "execute_result"
    }
   ],
   "source": [
    "name[-2]"
   ]
  },
  {
   "cell_type": "code",
   "execution_count": 13,
   "id": "85916f10",
   "metadata": {},
   "outputs": [
    {
     "name": "stdout",
     "output_type": "stream",
     "text": [
      "Enter Yes/Noyes \n",
      "Wrong input\n"
     ]
    }
   ],
   "source": [
    "if input('Enter Yes/No') == 'yes':\n",
    "    print('Go ahead')\n",
    "else:\n",
    "    print('Wrong input')"
   ]
  },
  {
   "cell_type": "code",
   "execution_count": 26,
   "id": "dc12422f",
   "metadata": {},
   "outputs": [
    {
     "name": "stdout",
     "output_type": "stream",
     "text": [
      "Enter somethinghellohhh\n",
      "hellohhh\n",
      "ello\n"
     ]
    }
   ],
   "source": [
    "inp = input('Enter something')\n",
    "print(inp)\n",
    "print(inp.strip('h'))"
   ]
  },
  {
   "cell_type": "code",
   "execution_count": 28,
   "id": "9c325822",
   "metadata": {},
   "outputs": [
    {
     "name": "stdout",
     "output_type": "stream",
     "text": [
      "Enter Yes/No   y  es  \n",
      "Wrong input\n"
     ]
    }
   ],
   "source": [
    "if input('Enter Yes/No').strip() == 'yes':\n",
    "    print('Go ahead')\n",
    "else:\n",
    "    print('Wrong input')"
   ]
  },
  {
   "cell_type": "code",
   "execution_count": 29,
   "id": "b00623ab",
   "metadata": {},
   "outputs": [
    {
     "name": "stdout",
     "output_type": "stream",
     "text": [
      "Enter Yes/Noh\n",
      "Wrong input\n",
      "Enter Yes/Nojsdgfn\n",
      "Wrong input\n",
      "Enter Yes/No  yes  \n",
      "Go ahead\n"
     ]
    }
   ],
   "source": [
    "while (True):\n",
    "    if input('Enter Yes/No').strip() == 'yes':\n",
    "        print('Go ahead')\n",
    "        break\n",
    "    else:\n",
    "        print('Wrong input')"
   ]
  },
  {
   "cell_type": "code",
   "execution_count": 37,
   "id": "6a2dd1c5",
   "metadata": {},
   "outputs": [],
   "source": [
    "name = 'Abhijeet Bhattacharya'"
   ]
  },
  {
   "cell_type": "code",
   "execution_count": 38,
   "id": "b7c20650",
   "metadata": {
    "scrolled": true
   },
   "outputs": [
    {
     "name": "stdout",
     "output_type": "stream",
     "text": [
      "['Abhijee', ' Bha', '', 'acharya']\n"
     ]
    }
   ],
   "source": [
    "print(name.split(sep = 't'))"
   ]
  },
  {
   "cell_type": "code",
   "execution_count": 40,
   "id": "6c66c0fe",
   "metadata": {},
   "outputs": [
    {
     "data": {
      "text/plain": [
       "4"
      ]
     },
     "execution_count": 40,
     "metadata": {},
     "output_type": "execute_result"
    }
   ],
   "source": [
    "name.count('a')"
   ]
  },
  {
   "cell_type": "code",
   "execution_count": 41,
   "id": "6e48d9a0",
   "metadata": {},
   "outputs": [
    {
     "data": {
      "text/plain": [
       "'Abhijeet Bhettecherye'"
      ]
     },
     "execution_count": 41,
     "metadata": {},
     "output_type": "execute_result"
    }
   ],
   "source": [
    "name.replace('a', 'e')"
   ]
  },
  {
   "cell_type": "code",
   "execution_count": 42,
   "id": "40e4703c",
   "metadata": {},
   "outputs": [],
   "source": [
    "# Lists"
   ]
  },
  {
   "cell_type": "code",
   "execution_count": 81,
   "id": "8427e102",
   "metadata": {},
   "outputs": [],
   "source": [
    "a = ['Abhijeet', 'Bhattacharya', 23, 90, 5.9, True, [1, 2, 3], range(10)]"
   ]
  },
  {
   "cell_type": "code",
   "execution_count": 82,
   "id": "f036ed7c",
   "metadata": {},
   "outputs": [
    {
     "data": {
      "text/plain": [
       "['Abhijeet', 'Bhattacharya', 23, 90, 5.9, True, [1, 2, 3], range(0, 10)]"
      ]
     },
     "execution_count": 82,
     "metadata": {},
     "output_type": "execute_result"
    }
   ],
   "source": [
    "a"
   ]
  },
  {
   "cell_type": "code",
   "execution_count": 83,
   "id": "52aa04bf",
   "metadata": {},
   "outputs": [
    {
     "name": "stdout",
     "output_type": "stream",
     "text": [
      "Abhijeet\n",
      "Bhattacharya\n",
      "23\n",
      "90\n",
      "5.9\n",
      "True\n",
      "[1, 2, 3]\n",
      "range(0, 10)\n"
     ]
    }
   ],
   "source": [
    "for i in a:\n",
    "    print(i)"
   ]
  },
  {
   "cell_type": "code",
   "execution_count": 86,
   "id": "812f3637",
   "metadata": {},
   "outputs": [
    {
     "data": {
      "text/plain": [
       "range(0, 10)"
      ]
     },
     "execution_count": 86,
     "metadata": {},
     "output_type": "execute_result"
    }
   ],
   "source": [
    "a[-1]"
   ]
  },
  {
   "cell_type": "code",
   "execution_count": 85,
   "id": "7b363aff",
   "metadata": {},
   "outputs": [
    {
     "name": "stdout",
     "output_type": "stream",
     "text": [
      "Entercghhjkjvgk \n",
      "cghhjkjvgk\n"
     ]
    }
   ],
   "source": [
    "inp = input('Enter')\n",
    "ans = ''\n",
    "for i in inp:\n",
    "    if i != ' ':\n",
    "        ans += i\n",
    "print(ans)"
   ]
  },
  {
   "cell_type": "code",
   "execution_count": 87,
   "id": "7c12f7de",
   "metadata": {},
   "outputs": [
    {
     "data": {
      "text/plain": [
       "['Abhijeet', 'Bhattacharya', 23, 90, 5.9, True, [1, 2, 3], range(0, 10)]"
      ]
     },
     "execution_count": 87,
     "metadata": {},
     "output_type": "execute_result"
    }
   ],
   "source": [
    "a"
   ]
  },
  {
   "cell_type": "code",
   "execution_count": 90,
   "id": "df06c0e9",
   "metadata": {},
   "outputs": [],
   "source": [
    "a.append(100)"
   ]
  },
  {
   "cell_type": "code",
   "execution_count": 91,
   "id": "0795c94f",
   "metadata": {},
   "outputs": [
    {
     "data": {
      "text/plain": [
       "['Abhijeet',\n",
       " 'Bhattacharya',\n",
       " 23,\n",
       " 90,\n",
       " 5.9,\n",
       " True,\n",
       " [1, 2, 3],\n",
       " range(0, 10),\n",
       " 0,\n",
       " 100]"
      ]
     },
     "execution_count": 91,
     "metadata": {},
     "output_type": "execute_result"
    }
   ],
   "source": [
    "a"
   ]
  },
  {
   "cell_type": "code",
   "execution_count": 99,
   "id": "56d679be",
   "metadata": {},
   "outputs": [],
   "source": [
    "def to_split(string):\n",
    "    string = string.strip()\n",
    "    temp_str = ''\n",
    "    ans = []\n",
    "    \n",
    "    for i in string:\n",
    "        if i == ' ':\n",
    "            ans.append(temp_str)\n",
    "            temp_str = ''\n",
    "        else:\n",
    "            temp_str += i\n",
    "    ans.append(temp_str)\n",
    "    return ans"
   ]
  },
  {
   "cell_type": "code",
   "execution_count": 104,
   "id": "a05d8410",
   "metadata": {},
   "outputs": [
    {
     "name": "stdout",
     "output_type": "stream",
     "text": [
      "['Hello', 'my', 'name', 'is', 'Abhijeet']\n"
     ]
    }
   ],
   "source": [
    "print(to_split('Hello my name is Abhijeet'))"
   ]
  },
  {
   "cell_type": "code",
   "execution_count": 105,
   "id": "92700f9c",
   "metadata": {},
   "outputs": [],
   "source": [
    "def to_count(string):\n",
    "    count = 0\n",
    "    for i in string:\n",
    "        if i == 'a':\n",
    "            count += 1\n",
    "    return count"
   ]
  },
  {
   "cell_type": "code",
   "execution_count": 106,
   "id": "c90979d0",
   "metadata": {},
   "outputs": [
    {
     "data": {
      "text/plain": [
       "4"
      ]
     },
     "execution_count": 106,
     "metadata": {},
     "output_type": "execute_result"
    }
   ],
   "source": [
    "to_count('Abhijeet Bhattacharya')"
   ]
  },
  {
   "cell_type": "code",
   "execution_count": 108,
   "id": "6107de2b",
   "metadata": {},
   "outputs": [
    {
     "name": "stdout",
     "output_type": "stream",
     "text": [
      "['my', 'name', 'is', 'pradeep']\n"
     ]
    }
   ],
   "source": [
    "string = \"my name is pradeep\"\n",
    "lst = []\n",
    "temp = \"\"\n",
    "for i in string:\n",
    "    if i!=\" \":\n",
    "        temp+=i\n",
    "    else:\n",
    "        lst.append(temp)\n",
    "        temp=\"\"\n",
    "lst.append(temp)\n",
    "print(lst)"
   ]
  },
  {
   "cell_type": "code",
   "execution_count": 109,
   "id": "05a9d839",
   "metadata": {},
   "outputs": [],
   "source": [
    "def to_replace(string):\n",
    "    ans = ''\n",
    "    for i in string:\n",
    "        if i == 'a':\n",
    "            ans += 'e'\n",
    "        else:\n",
    "            ans += i\n",
    "    return ans"
   ]
  },
  {
   "cell_type": "code",
   "execution_count": 110,
   "id": "f480682c",
   "metadata": {},
   "outputs": [
    {
     "name": "stdout",
     "output_type": "stream",
     "text": [
      "Abhijeet Bhettecherye\n"
     ]
    }
   ],
   "source": [
    "print(to_replace('Abhijeet Bhattacharya'))"
   ]
  },
  {
   "cell_type": "code",
   "execution_count": 112,
   "id": "ec954dfe",
   "metadata": {},
   "outputs": [
    {
     "data": {
      "text/plain": [
       "['Abhijeet',\n",
       " 'Bhattacharya',\n",
       " 23,\n",
       " 90,\n",
       " 5.9,\n",
       " True,\n",
       " [1, 2, 3],\n",
       " range(0, 10),\n",
       " 0,\n",
       " 100]"
      ]
     },
     "execution_count": 112,
     "metadata": {},
     "output_type": "execute_result"
    }
   ],
   "source": [
    "a"
   ]
  },
  {
   "cell_type": "code",
   "execution_count": 113,
   "id": "9bb4bdfc",
   "metadata": {},
   "outputs": [
    {
     "name": "stdout",
     "output_type": "stream",
     "text": [
      "['Abhijeet', 'Bhattacharya', 7, 23, 90, 5.9, True, [1, 2, 3], range(0, 10), 0, 100]\n"
     ]
    }
   ],
   "source": [
    "a.insert(2, 7)\n",
    "print(a)"
   ]
  },
  {
   "cell_type": "code",
   "execution_count": 114,
   "id": "e885bc25",
   "metadata": {},
   "outputs": [
    {
     "name": "stdout",
     "output_type": "stream",
     "text": [
      "['Abhijeet', 'Bhattacharya', 7, 23, 90, 5.9, True, [1, 2, 3], range(0, 10), 0] 100\n"
     ]
    }
   ],
   "source": [
    "var = a.pop()\n",
    "print(a, var)"
   ]
  },
  {
   "cell_type": "code",
   "execution_count": 117,
   "id": "f3babe63",
   "metadata": {},
   "outputs": [
    {
     "name": "stdout",
     "output_type": "stream",
     "text": [
      "['Abhijeet', 'Bhattacharya', 90, 5.9, True, [1, 2, 3], range(0, 10), 0] 23\n"
     ]
    }
   ],
   "source": [
    "var = a.pop(2)\n",
    "print(a, var)"
   ]
  },
  {
   "cell_type": "code",
   "execution_count": 118,
   "id": "28ec6b77",
   "metadata": {},
   "outputs": [],
   "source": [
    "a.remove(5.9)"
   ]
  },
  {
   "cell_type": "code",
   "execution_count": 119,
   "id": "9a252f29",
   "metadata": {},
   "outputs": [
    {
     "data": {
      "text/plain": [
       "['Abhijeet', 'Bhattacharya', 90, True, [1, 2, 3], range(0, 10), 0]"
      ]
     },
     "execution_count": 119,
     "metadata": {},
     "output_type": "execute_result"
    }
   ],
   "source": [
    "a"
   ]
  },
  {
   "cell_type": "code",
   "execution_count": 120,
   "id": "75a01bf7",
   "metadata": {},
   "outputs": [
    {
     "name": "stdout",
     "output_type": "stream",
     "text": [
      "[0, range(0, 10), [1, 2, 3], True, 90, 'Bhattacharya', 'Abhijeet']\n"
     ]
    }
   ],
   "source": [
    "a.reverse()\n",
    "print(a)"
   ]
  },
  {
   "cell_type": "code",
   "execution_count": 121,
   "id": "5f304f3f",
   "metadata": {},
   "outputs": [],
   "source": [
    "def to_reverse(input_list):\n",
    "    ans = []\n",
    "    for i in input_list:\n",
    "        ans.insert(0, i)\n",
    "    print(ans)"
   ]
  },
  {
   "cell_type": "code",
   "execution_count": 122,
   "id": "f94cdc13",
   "metadata": {},
   "outputs": [
    {
     "name": "stdout",
     "output_type": "stream",
     "text": [
      "['Abhijeet', 'Bhattacharya', 90, True, [1, 2, 3], range(0, 10), 0]\n"
     ]
    }
   ],
   "source": [
    "to_reverse(a)"
   ]
  },
  {
   "cell_type": "code",
   "execution_count": 123,
   "id": "a4a88f31",
   "metadata": {},
   "outputs": [],
   "source": [
    "string = 'the lazy fox jumped over the brown dog.'\n",
    "\n",
    "def occurances(string):\n",
    "    unique_alphabets = []\n",
    "    for i in string:\n",
    "        if (i not in unique_alphabets):\n",
    "            unique_alphabets.append(i)\n",
    "            occur = string.count(i)\n",
    "            print(f'Occurance of {i}: {occur}')"
   ]
  },
  {
   "cell_type": "code",
   "execution_count": 124,
   "id": "48ccbc3a",
   "metadata": {},
   "outputs": [
    {
     "name": "stdout",
     "output_type": "stream",
     "text": [
      "Occurance of t: 2\n",
      "Occurance of h: 2\n",
      "Occurance of e: 4\n",
      "Occurance of  : 7\n",
      "Occurance of l: 1\n",
      "Occurance of a: 1\n",
      "Occurance of z: 1\n",
      "Occurance of y: 1\n",
      "Occurance of f: 1\n",
      "Occurance of o: 4\n",
      "Occurance of x: 1\n",
      "Occurance of j: 1\n",
      "Occurance of u: 1\n",
      "Occurance of m: 1\n",
      "Occurance of p: 1\n",
      "Occurance of d: 2\n",
      "Occurance of v: 1\n",
      "Occurance of r: 2\n",
      "Occurance of b: 1\n",
      "Occurance of w: 1\n",
      "Occurance of n: 1\n",
      "Occurance of g: 1\n",
      "Occurance of .: 1\n"
     ]
    }
   ],
   "source": [
    "occurances(string)"
   ]
  },
  {
   "cell_type": "code",
   "execution_count": 143,
   "id": "e376dfb0",
   "metadata": {},
   "outputs": [],
   "source": [
    "a = [-2, 0, 1, 20, 22, 25, 45, 66, 100]"
   ]
  },
  {
   "cell_type": "code",
   "execution_count": 144,
   "id": "6cf7207d",
   "metadata": {
    "scrolled": true
   },
   "outputs": [
    {
     "data": {
      "text/plain": [
       "[-2, 0, 1, 20, 22, 25, 45, 66, 100]"
      ]
     },
     "execution_count": 144,
     "metadata": {},
     "output_type": "execute_result"
    }
   ],
   "source": [
    "sorted(a, reverse = False)"
   ]
  },
  {
   "cell_type": "code",
   "execution_count": 145,
   "id": "aab56b73",
   "metadata": {},
   "outputs": [
    {
     "name": "stdout",
     "output_type": "stream",
     "text": [
      "Got it\n"
     ]
    }
   ],
   "source": [
    "flag = 0\n",
    "for i in a:\n",
    "    if i == 66:\n",
    "        flag = 1\n",
    "if (flag):\n",
    "    print('Got it')\n",
    "else:\n",
    "    print('Nahi mila')"
   ]
  },
  {
   "cell_type": "code",
   "execution_count": 146,
   "id": "b059aa9c",
   "metadata": {},
   "outputs": [
    {
     "data": {
      "text/plain": [
       "9"
      ]
     },
     "execution_count": 146,
     "metadata": {},
     "output_type": "execute_result"
    }
   ],
   "source": [
    "len(a)"
   ]
  },
  {
   "cell_type": "code",
   "execution_count": 149,
   "id": "9d54087a",
   "metadata": {},
   "outputs": [],
   "source": [
    "# a = [-2, 0, 1, 20, 22, 25, 45, 66, 100]"
   ]
  },
  {
   "cell_type": "code",
   "execution_count": 147,
   "id": "2341ae05",
   "metadata": {},
   "outputs": [],
   "source": [
    "start = 0\n",
    "end = len(a) - 1\n",
    "mid = int((start + end)/2)"
   ]
  },
  {
   "cell_type": "code",
   "execution_count": 148,
   "id": "8445ec81",
   "metadata": {},
   "outputs": [
    {
     "data": {
      "text/plain": [
       "4"
      ]
     },
     "execution_count": 148,
     "metadata": {},
     "output_type": "execute_result"
    }
   ],
   "source": [
    "mid"
   ]
  },
  {
   "cell_type": "code",
   "execution_count": 150,
   "id": "f2617f57",
   "metadata": {},
   "outputs": [
    {
     "name": "stdout",
     "output_type": "stream",
     "text": [
      "mil gya 6\n"
     ]
    }
   ],
   "source": [
    "while (start <= end):\n",
    "    mid = int((start + end)/2)\n",
    "    if (a[mid] < 45):\n",
    "        start = mid + 1\n",
    "    elif (a[mid] > 45):\n",
    "        end = mid - 1\n",
    "    elif (a[mid] == 45):\n",
    "        print('mil gya', mid)\n",
    "        break"
   ]
  },
  {
   "cell_type": "code",
   "execution_count": null,
   "id": "bb92b276",
   "metadata": {},
   "outputs": [],
   "source": []
  }
 ],
 "metadata": {
  "kernelspec": {
   "display_name": "Python 3 (ipykernel)",
   "language": "python",
   "name": "python3"
  },
  "language_info": {
   "codemirror_mode": {
    "name": "ipython",
    "version": 3
   },
   "file_extension": ".py",
   "mimetype": "text/x-python",
   "name": "python",
   "nbconvert_exporter": "python",
   "pygments_lexer": "ipython3",
   "version": "3.8.10"
  }
 },
 "nbformat": 4,
 "nbformat_minor": 5
}
