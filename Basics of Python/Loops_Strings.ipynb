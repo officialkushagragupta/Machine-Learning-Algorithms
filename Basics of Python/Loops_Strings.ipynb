{
 "cells": [
  {
   "cell_type": "code",
   "execution_count": 7,
   "id": "caf87c2e",
   "metadata": {},
   "outputs": [
    {
     "name": "stdout",
     "output_type": "stream",
     "text": [
      "* * * * * \n",
      "*       * \n",
      "*       * \n",
      "*       * \n",
      "* * * * * \n"
     ]
    }
   ],
   "source": [
    "# * * * * * \n",
    "# *       * \n",
    "# *       * \n",
    "# *       * \n",
    "# * * * * *\n",
    "\n",
    "n = 5\n",
    "\n",
    "for i in range(n):\n",
    "    for j in range(n):\n",
    "        if i == 0 or i == (n - 1) or j == 0 or j == n-1:\n",
    "            print(\"* \", end='')\n",
    "        else:\n",
    "            print('  ', end='')\n",
    "    print()"
   ]
  },
  {
   "cell_type": "code",
   "execution_count": 10,
   "id": "b5a3b0ed",
   "metadata": {},
   "outputs": [
    {
     "name": "stdout",
     "output_type": "stream",
     "text": [
      "*       * \n",
      "  *   *   \n",
      "    *     \n",
      "  *   *   \n",
      "*       * \n"
     ]
    }
   ],
   "source": [
    "# *       * \n",
    "#   *   *   \n",
    "#     *     \n",
    "#   *   *   \n",
    "# *       *\n",
    "\n",
    "n = 5\n",
    "\n",
    "for i in range(n):\n",
    "    for j in range(n):\n",
    "        if j == i or (i + j) == n - 1:\n",
    "            print('* ', end='')\n",
    "        else:\n",
    "            print(\"  \", end='')\n",
    "    print()"
   ]
  },
  {
   "cell_type": "code",
   "execution_count": 14,
   "id": "7e600639",
   "metadata": {},
   "outputs": [
    {
     "name": "stdout",
     "output_type": "stream",
     "text": [
      "*           * \n",
      "  *       *   \n",
      "    *   *     \n",
      "      *       \n",
      "    *   *     \n",
      "  *       *   \n",
      "*           * \n"
     ]
    }
   ],
   "source": [
    "n=7\n",
    "\n",
    "for i in range(n):\n",
    "    for j in range(n):\n",
    "        if j==i or i+j==(n-1):\n",
    "            print(\"* \", end=\"\")\n",
    "        else:\n",
    "            print(\"  \", end=\"\")\n",
    "    print()\n",
    "\n",
    "#Problem in Output pattern\n"
   ]
  },
  {
   "cell_type": "code",
   "execution_count": 15,
   "id": "31408e93",
   "metadata": {},
   "outputs": [
    {
     "name": "stdout",
     "output_type": "stream",
     "text": [
      "        * \n",
      "      * * * \n",
      "    * * * * * \n",
      "  * * * * * * * \n",
      "* * * * * * * * * \n"
     ]
    }
   ],
   "source": [
    "#         *\n",
    "#       * * *\n",
    "#     * * * * *\n",
    "#   * * * * * * *\n",
    "# * * * * * * * * *\n",
    "\n",
    "n = 5\n",
    "\n",
    "for i in range(n):\n",
    "#     Print Spaces\n",
    "    for j in range(n - i - 1):\n",
    "        print(\"  \", end='')\n",
    "        \n",
    "#     Print Stars\n",
    "    for k in range(2*i + 1):\n",
    "        print('* ', end='')\n",
    "    print()"
   ]
  },
  {
   "cell_type": "code",
   "execution_count": 17,
   "id": "9c4a2493",
   "metadata": {},
   "outputs": [
    {
     "name": "stdout",
     "output_type": "stream",
     "text": [
      "* * * * * * * * * \n",
      "  * * * * * * * \n",
      "    * * * * * \n",
      "      * * * \n",
      "        * \n"
     ]
    }
   ],
   "source": [
    "# * * * * * * * * * \n",
    "#   * * * * * * * \n",
    "#     * * * * * \n",
    "#       * * * \n",
    "#         * \n",
    "\n",
    "n = 5\n",
    "\n",
    "for i in range(n):\n",
    "#     Print Spaces\n",
    "    for j in range(i):\n",
    "        print(\"  \", end='')\n",
    "        \n",
    "#     Print Stars\n",
    "    for k in range(2*(n - i) - 1):\n",
    "        print('* ', end='')\n",
    "    print()"
   ]
  },
  {
   "cell_type": "code",
   "execution_count": 27,
   "id": "fa3112e9",
   "metadata": {},
   "outputs": [
    {
     "name": "stdout",
     "output_type": "stream",
     "text": [
      "* \n",
      "* * \n",
      "* * * \n",
      "* * * * \n",
      "* * * * * \n",
      "* * * * \n",
      "* * * \n",
      "* * \n",
      "* \n"
     ]
    }
   ],
   "source": [
    "# * \n",
    "# * * \n",
    "# * * * \n",
    "# * * * * \n",
    "# * * * * * \n",
    "# * * * * \n",
    "# * * * \n",
    "# * * \n",
    "# *\n",
    "\n",
    "n = 5\n",
    "# Upper triangle\n",
    "for i in range(n):\n",
    "    for j in range(i + 1):\n",
    "        print('* ', end='')\n",
    "    print()\n",
    "    \n",
    "# Lower triangle\n",
    "for i in range(n - 1):\n",
    "    for j in range(n - i - 1):\n",
    "        print('* ', end='')\n",
    "    print()    "
   ]
  },
  {
   "cell_type": "code",
   "execution_count": 29,
   "id": "eba49e8a",
   "metadata": {},
   "outputs": [],
   "source": [
    "# While Loops"
   ]
  },
  {
   "cell_type": "code",
   "execution_count": 35,
   "id": "c3d42055",
   "metadata": {},
   "outputs": [
    {
     "name": "stdout",
     "output_type": "stream",
     "text": [
      "15\n",
      "16\n",
      "17\n",
      "18\n",
      "19\n"
     ]
    }
   ],
   "source": [
    "a = 15\n",
    "while (a < 20):\n",
    "    print(a)\n",
    "    a += 1"
   ]
  },
  {
   "cell_type": "code",
   "execution_count": 36,
   "id": "10b0f398",
   "metadata": {},
   "outputs": [
    {
     "name": "stdout",
     "output_type": "stream",
     "text": [
      "20\n"
     ]
    }
   ],
   "source": [
    "print(a)"
   ]
  },
  {
   "cell_type": "code",
   "execution_count": 40,
   "id": "49b5b552",
   "metadata": {},
   "outputs": [],
   "source": [
    "def no_factors(number):\n",
    "    factors = 0\n",
    "    for i in range(1, number + 1):\n",
    "        if number%i == 0:\n",
    "            factors += 1\n",
    "    return factors"
   ]
  },
  {
   "cell_type": "code",
   "execution_count": 44,
   "id": "7c131726",
   "metadata": {},
   "outputs": [
    {
     "name": "stdout",
     "output_type": "stream",
     "text": [
      "Enter number1\n",
      "Not prime\n"
     ]
    }
   ],
   "source": [
    "num = int(input(\"Enter number\"))\n",
    "if (no_factors(num) == 2):\n",
    "    print('Prime')\n",
    "else:\n",
    "    print(\"Not prime\")"
   ]
  },
  {
   "cell_type": "code",
   "execution_count": 54,
   "id": "ab41b6cf",
   "metadata": {},
   "outputs": [
    {
     "name": "stdout",
     "output_type": "stream",
     "text": [
      "Enter number99\n",
      "Not a prime\n"
     ]
    }
   ],
   "source": [
    "num = int(input(\"Enter number\"))\n",
    "\n",
    "flag = False\n",
    "\n",
    "for i in range(2, int(num/2) + 1):\n",
    "    if (num % i == 0):\n",
    "        flag = True\n",
    "        break\n",
    "        \n",
    "if flag == True:\n",
    "    print('Not a prime')\n",
    "else:\n",
    "    print('prime')"
   ]
  },
  {
   "cell_type": "code",
   "execution_count": 51,
   "id": "a3837029",
   "metadata": {},
   "outputs": [],
   "source": [
    "# Break\n",
    "# Continue"
   ]
  },
  {
   "cell_type": "code",
   "execution_count": 59,
   "id": "73b6e441",
   "metadata": {},
   "outputs": [
    {
     "name": "stdout",
     "output_type": "stream",
     "text": [
      "0\n",
      "1\n",
      "2\n",
      "0\n",
      "1\n",
      "2\n"
     ]
    }
   ],
   "source": [
    "for j in range(2):\n",
    "    for i in range(100):\n",
    "        print(i)\n",
    "        if i == 2:\n",
    "            break"
   ]
  },
  {
   "cell_type": "code",
   "execution_count": 58,
   "id": "cf3a2f15",
   "metadata": {
    "scrolled": true
   },
   "outputs": [
    {
     "name": "stdout",
     "output_type": "stream",
     "text": [
      "0\n",
      "1\n",
      "2\n",
      "3\n",
      "5\n",
      "6\n",
      "7\n",
      "8\n",
      "9\n"
     ]
    }
   ],
   "source": [
    "for i in range(10):\n",
    "    if i == 4:\n",
    "        continue\n",
    "    print(i)"
   ]
  },
  {
   "cell_type": "code",
   "execution_count": 62,
   "id": "67ec9be3",
   "metadata": {},
   "outputs": [
    {
     "name": "stdout",
     "output_type": "stream",
     "text": [
      "1\n",
      "2\n",
      "3\n",
      "4\n",
      "5\n",
      "6\n",
      "7\n",
      "8\n",
      "9\n"
     ]
    }
   ],
   "source": [
    "a = 1\n",
    "while (a < 10):\n",
    "    print(a)\n",
    "#     continue\n",
    "    a+=1"
   ]
  },
  {
   "cell_type": "code",
   "execution_count": 87,
   "id": "26873ada",
   "metadata": {},
   "outputs": [],
   "source": [
    "integer1 = 256\n",
    "integer2 = 256\n",
    "integer3 = 257"
   ]
  },
  {
   "cell_type": "code",
   "execution_count": 88,
   "id": "b353aad3",
   "metadata": {},
   "outputs": [
    {
     "name": "stdout",
     "output_type": "stream",
     "text": [
      "140721787647728 140721787647728 2234745314448\n"
     ]
    }
   ],
   "source": [
    "print(id(integer1), id(integer2), id(integer3))"
   ]
  },
  {
   "cell_type": "code",
   "execution_count": 89,
   "id": "87e89f77",
   "metadata": {},
   "outputs": [
    {
     "name": "stdout",
     "output_type": "stream",
     "text": [
      "True False False\n"
     ]
    }
   ],
   "source": [
    "print(id(integer1)== id(integer2), id(integer3)== id(integer2), id(integer3)== id(integer1))"
   ]
  },
  {
   "cell_type": "code",
   "execution_count": 93,
   "id": "2c6471dd",
   "metadata": {},
   "outputs": [],
   "source": [
    "integer1 = '256'\n",
    "integer2 = '256'\n",
    "integer3 = '256'"
   ]
  },
  {
   "cell_type": "code",
   "execution_count": 94,
   "id": "6724213d",
   "metadata": {},
   "outputs": [
    {
     "name": "stdout",
     "output_type": "stream",
     "text": [
      "2234680742896 2234680742896 2234680742896\n"
     ]
    }
   ],
   "source": [
    "print(id(integer1), id(integer2), id(integer3))"
   ]
  },
  {
   "cell_type": "code",
   "execution_count": 95,
   "id": "964d6276",
   "metadata": {},
   "outputs": [
    {
     "name": "stdout",
     "output_type": "stream",
     "text": [
      "True True True\n"
     ]
    }
   ],
   "source": [
    "print(id(integer1) == id(integer2), id(integer3) == id(integer2), id(integer3) == id(integer1))"
   ]
  },
  {
   "cell_type": "code",
   "execution_count": 96,
   "id": "5e6a3bb1",
   "metadata": {},
   "outputs": [],
   "source": [
    "# In built Data-types/Structures in Python\n",
    "\n",
    "# String\n",
    "# Lists\n",
    "# Tuple\n",
    "# Dictionary\n",
    "# Sets"
   ]
  },
  {
   "cell_type": "code",
   "execution_count": 97,
   "id": "3b547a46",
   "metadata": {},
   "outputs": [],
   "source": [
    "name = 'Abhijeet'"
   ]
  },
  {
   "cell_type": "code",
   "execution_count": 105,
   "id": "38e2c1a6",
   "metadata": {},
   "outputs": [
    {
     "name": "stdout",
     "output_type": "stream",
     "text": [
      "Hello World! Abhijeet\n"
     ]
    }
   ],
   "source": [
    "print(\"Hello World!\" + ' ' + name)"
   ]
  },
  {
   "cell_type": "code",
   "execution_count": 106,
   "id": "249e4a16",
   "metadata": {},
   "outputs": [
    {
     "name": "stdout",
     "output_type": "stream",
     "text": [
      "AbhijeetAbhijeetAbhijeetAbhijeetAbhijeetAbhijeetAbhijeetAbhijeetAbhijeetAbhijeet\n"
     ]
    }
   ],
   "source": [
    "print(name*10)"
   ]
  },
  {
   "cell_type": "code",
   "execution_count": 107,
   "id": "eb7168fb",
   "metadata": {},
   "outputs": [],
   "source": [
    "name = 'Abhijeet'\n",
    "sirname = 'Bhattacharya'"
   ]
  },
  {
   "cell_type": "code",
   "execution_count": 109,
   "id": "db890548",
   "metadata": {},
   "outputs": [
    {
     "name": "stdout",
     "output_type": "stream",
     "text": [
      "Hello World! Abhijeet Bhattacharya\n"
     ]
    }
   ],
   "source": [
    "print(\"Hello World! \" + name + ' ' + sirname)"
   ]
  },
  {
   "cell_type": "code",
   "execution_count": 111,
   "id": "4d26737e",
   "metadata": {},
   "outputs": [
    {
     "name": "stdout",
     "output_type": "stream",
     "text": [
      "Hello World! Abhijeet hello Bhattacharya\n"
     ]
    }
   ],
   "source": [
    "print(\"Hello World!\", name, 'hello', sirname)"
   ]
  },
  {
   "cell_type": "code",
   "execution_count": 112,
   "id": "62e6a8e2",
   "metadata": {},
   "outputs": [
    {
     "name": "stdout",
     "output_type": "stream",
     "text": [
      "Hello World! Abhijeet hello Bhattacharya\n"
     ]
    }
   ],
   "source": [
    "print(\"Hello World! {} hello {}\".format(name, sirname))"
   ]
  },
  {
   "cell_type": "code",
   "execution_count": 113,
   "id": "ae154e75",
   "metadata": {},
   "outputs": [
    {
     "name": "stdout",
     "output_type": "stream",
     "text": [
      "Hello World! Abhijeet hello Bhattacharya\n"
     ]
    }
   ],
   "source": [
    "# F string\n",
    "print(f\"Hello World! {name} hello {sirname}\")"
   ]
  },
  {
   "cell_type": "code",
   "execution_count": 114,
   "id": "2e3cd1bd",
   "metadata": {},
   "outputs": [
    {
     "name": "stdout",
     "output_type": "stream",
     "text": [
      "Hello World! Abhijeet hello Bhattacharya\n"
     ]
    }
   ],
   "source": [
    "a = f\"Hello World! {name} hello {sirname}\"\n",
    "print(a)"
   ]
  },
  {
   "cell_type": "code",
   "execution_count": 117,
   "id": "15ce4680",
   "metadata": {},
   "outputs": [
    {
     "name": "stdout",
     "output_type": "stream",
     "text": [
      "r\n",
      "a\n",
      "n\n",
      "g\n",
      "e\n",
      "(\n",
      "5\n",
      ")\n"
     ]
    }
   ],
   "source": [
    "for i in 'range(5)':\n",
    "    print(i)"
   ]
  },
  {
   "cell_type": "code",
   "execution_count": 126,
   "id": "ac6fd077",
   "metadata": {},
   "outputs": [],
   "source": [
    "def lower_upper(string):\n",
    "    for i in string:\n",
    "        if ord(i) <= ord('z') and ord(i) >= ord('a'):\n",
    "            print(chr(ord(i) - 32), end='')\n",
    "        else:\n",
    "            print(i, end='')"
   ]
  },
  {
   "cell_type": "code",
   "execution_count": 127,
   "id": "b385cf8f",
   "metadata": {},
   "outputs": [
    {
     "name": "stdout",
     "output_type": "stream",
     "text": [
      "HELLO MY NAME IS ABHIJEET"
     ]
    }
   ],
   "source": [
    "lower_upper('Hello my name is Abhijeet')"
   ]
  },
  {
   "cell_type": "code",
   "execution_count": 130,
   "id": "ea6d341c",
   "metadata": {},
   "outputs": [
    {
     "name": "stdout",
     "output_type": "stream",
     "text": [
      "65 97\n"
     ]
    }
   ],
   "source": [
    "print(ord('A'), ord('a'))"
   ]
  },
  {
   "cell_type": "code",
   "execution_count": 131,
   "id": "2c2b6441",
   "metadata": {},
   "outputs": [],
   "source": [
    "def upper_lower(string):\n",
    "    for i in string:\n",
    "        if ord(i) <= ord('Z') and ord(i) >= ord('A'):\n",
    "            print(chr(ord(i) + 32), end='')\n",
    "        else:\n",
    "            print(i, end='')"
   ]
  },
  {
   "cell_type": "code",
   "execution_count": 132,
   "id": "190e1c73",
   "metadata": {},
   "outputs": [
    {
     "name": "stdout",
     "output_type": "stream",
     "text": [
      "hello my name is abhijeet"
     ]
    }
   ],
   "source": [
    "upper_lower('HELLO MY NAME IS ABHIJEET')"
   ]
  },
  {
   "cell_type": "code",
   "execution_count": 137,
   "id": "403801ce",
   "metadata": {},
   "outputs": [
    {
     "data": {
      "text/plain": [
       "4"
      ]
     },
     "execution_count": 137,
     "metadata": {},
     "output_type": "execute_result"
    }
   ],
   "source": [
    "name.index('j')"
   ]
  },
  {
   "cell_type": "code",
   "execution_count": 143,
   "id": "7c7c5006",
   "metadata": {},
   "outputs": [
    {
     "data": {
      "text/plain": [
       "65"
      ]
     },
     "execution_count": 143,
     "metadata": {},
     "output_type": "execute_result"
    }
   ],
   "source": [
    "ord('A')"
   ]
  },
  {
   "cell_type": "code",
   "execution_count": null,
   "id": "5e615f16",
   "metadata": {},
   "outputs": [],
   "source": []
  }
 ],
 "metadata": {
  "kernelspec": {
   "display_name": "Python 3 (ipykernel)",
   "language": "python",
   "name": "python3"
  },
  "language_info": {
   "codemirror_mode": {
    "name": "ipython",
    "version": 3
   },
   "file_extension": ".py",
   "mimetype": "text/x-python",
   "name": "python",
   "nbconvert_exporter": "python",
   "pygments_lexer": "ipython3",
   "version": "3.8.10"
  }
 },
 "nbformat": 4,
 "nbformat_minor": 5
}
