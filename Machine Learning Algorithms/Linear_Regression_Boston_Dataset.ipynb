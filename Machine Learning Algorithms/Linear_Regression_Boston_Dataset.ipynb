{
 "cells": [
  {
   "cell_type": "code",
   "execution_count": 1,
   "id": "2b7995cd",
   "metadata": {},
   "outputs": [],
   "source": [
    "import numpy\n",
    "import pandas\n",
    "from sklearn.datasets import load_boston"
   ]
  },
  {
   "cell_type": "code",
   "execution_count": 2,
   "id": "708bdf37",
   "metadata": {},
   "outputs": [
    {
     "name": "stderr",
     "output_type": "stream",
     "text": [
      "C:\\Users\\bhatt\\AppData\\Local\\Packages\\PythonSoftwareFoundation.Python.3.8_qbz5n2kfra8p0\\LocalCache\\local-packages\\Python38\\site-packages\\sklearn\\utils\\deprecation.py:87: FutureWarning: Function load_boston is deprecated; `load_boston` is deprecated in 1.0 and will be removed in 1.2.\n",
      "\n",
      "    The Boston housing prices dataset has an ethical problem. You can refer to\n",
      "    the documentation of this function for further details.\n",
      "\n",
      "    The scikit-learn maintainers therefore strongly discourage the use of this\n",
      "    dataset unless the purpose of the code is to study and educate about\n",
      "    ethical issues in data science and machine learning.\n",
      "\n",
      "    In this special case, you can fetch the dataset from the original\n",
      "    source::\n",
      "\n",
      "        import pandas as pd\n",
      "        import numpy as np\n",
      "\n",
      "\n",
      "        data_url = \"http://lib.stat.cmu.edu/datasets/boston\"\n",
      "        raw_df = pd.read_csv(data_url, sep=\"\\s+\", skiprows=22, header=None)\n",
      "        data = np.hstack([raw_df.values[::2, :], raw_df.values[1::2, :2]])\n",
      "        target = raw_df.values[1::2, 2]\n",
      "\n",
      "    Alternative datasets include the California housing dataset (i.e.\n",
      "    :func:`~sklearn.datasets.fetch_california_housing`) and the Ames housing\n",
      "    dataset. You can load the datasets as follows::\n",
      "\n",
      "        from sklearn.datasets import fetch_california_housing\n",
      "        housing = fetch_california_housing()\n",
      "\n",
      "    for the California housing dataset and::\n",
      "\n",
      "        from sklearn.datasets import fetch_openml\n",
      "        housing = fetch_openml(name=\"house_prices\", as_frame=True)\n",
      "\n",
      "    for the Ames housing dataset.\n",
      "    \n",
      "  warnings.warn(msg, category=FutureWarning)\n"
     ]
    }
   ],
   "source": [
    "raw_boston = load_boston()"
   ]
  },
  {
   "cell_type": "code",
   "execution_count": 3,
   "id": "ade448d8",
   "metadata": {},
   "outputs": [],
   "source": [
    "import pandas as pd\n",
    "import numpy as np\n",
    "\n",
    "\n",
    "data_url = \"http://lib.stat.cmu.edu/datasets/boston\"\n",
    "raw_df = pd.read_csv(data_url, sep=\"\\s+\", skiprows=22, header=None)\n",
    "data = np.hstack([raw_df.values[::2, :], raw_df.values[1::2, :2]])\n",
    "target = raw_df.values[1::2, 2]"
   ]
  },
  {
   "cell_type": "code",
   "execution_count": 4,
   "id": "b5b5e900",
   "metadata": {},
   "outputs": [
    {
     "data": {
      "text/plain": [
       "(506, 13)"
      ]
     },
     "execution_count": 4,
     "metadata": {},
     "output_type": "execute_result"
    }
   ],
   "source": [
    "data.shape"
   ]
  },
  {
   "cell_type": "code",
   "execution_count": 5,
   "id": "fb228873",
   "metadata": {},
   "outputs": [
    {
     "data": {
      "text/plain": [
       "{'data': array([[6.3200e-03, 1.8000e+01, 2.3100e+00, ..., 1.5300e+01, 3.9690e+02,\n",
       "         4.9800e+00],\n",
       "        [2.7310e-02, 0.0000e+00, 7.0700e+00, ..., 1.7800e+01, 3.9690e+02,\n",
       "         9.1400e+00],\n",
       "        [2.7290e-02, 0.0000e+00, 7.0700e+00, ..., 1.7800e+01, 3.9283e+02,\n",
       "         4.0300e+00],\n",
       "        ...,\n",
       "        [6.0760e-02, 0.0000e+00, 1.1930e+01, ..., 2.1000e+01, 3.9690e+02,\n",
       "         5.6400e+00],\n",
       "        [1.0959e-01, 0.0000e+00, 1.1930e+01, ..., 2.1000e+01, 3.9345e+02,\n",
       "         6.4800e+00],\n",
       "        [4.7410e-02, 0.0000e+00, 1.1930e+01, ..., 2.1000e+01, 3.9690e+02,\n",
       "         7.8800e+00]]),\n",
       " 'target': array([24. , 21.6, 34.7, 33.4, 36.2, 28.7, 22.9, 27.1, 16.5, 18.9, 15. ,\n",
       "        18.9, 21.7, 20.4, 18.2, 19.9, 23.1, 17.5, 20.2, 18.2, 13.6, 19.6,\n",
       "        15.2, 14.5, 15.6, 13.9, 16.6, 14.8, 18.4, 21. , 12.7, 14.5, 13.2,\n",
       "        13.1, 13.5, 18.9, 20. , 21. , 24.7, 30.8, 34.9, 26.6, 25.3, 24.7,\n",
       "        21.2, 19.3, 20. , 16.6, 14.4, 19.4, 19.7, 20.5, 25. , 23.4, 18.9,\n",
       "        35.4, 24.7, 31.6, 23.3, 19.6, 18.7, 16. , 22.2, 25. , 33. , 23.5,\n",
       "        19.4, 22. , 17.4, 20.9, 24.2, 21.7, 22.8, 23.4, 24.1, 21.4, 20. ,\n",
       "        20.8, 21.2, 20.3, 28. , 23.9, 24.8, 22.9, 23.9, 26.6, 22.5, 22.2,\n",
       "        23.6, 28.7, 22.6, 22. , 22.9, 25. , 20.6, 28.4, 21.4, 38.7, 43.8,\n",
       "        33.2, 27.5, 26.5, 18.6, 19.3, 20.1, 19.5, 19.5, 20.4, 19.8, 19.4,\n",
       "        21.7, 22.8, 18.8, 18.7, 18.5, 18.3, 21.2, 19.2, 20.4, 19.3, 22. ,\n",
       "        20.3, 20.5, 17.3, 18.8, 21.4, 15.7, 16.2, 18. , 14.3, 19.2, 19.6,\n",
       "        23. , 18.4, 15.6, 18.1, 17.4, 17.1, 13.3, 17.8, 14. , 14.4, 13.4,\n",
       "        15.6, 11.8, 13.8, 15.6, 14.6, 17.8, 15.4, 21.5, 19.6, 15.3, 19.4,\n",
       "        17. , 15.6, 13.1, 41.3, 24.3, 23.3, 27. , 50. , 50. , 50. , 22.7,\n",
       "        25. , 50. , 23.8, 23.8, 22.3, 17.4, 19.1, 23.1, 23.6, 22.6, 29.4,\n",
       "        23.2, 24.6, 29.9, 37.2, 39.8, 36.2, 37.9, 32.5, 26.4, 29.6, 50. ,\n",
       "        32. , 29.8, 34.9, 37. , 30.5, 36.4, 31.1, 29.1, 50. , 33.3, 30.3,\n",
       "        34.6, 34.9, 32.9, 24.1, 42.3, 48.5, 50. , 22.6, 24.4, 22.5, 24.4,\n",
       "        20. , 21.7, 19.3, 22.4, 28.1, 23.7, 25. , 23.3, 28.7, 21.5, 23. ,\n",
       "        26.7, 21.7, 27.5, 30.1, 44.8, 50. , 37.6, 31.6, 46.7, 31.5, 24.3,\n",
       "        31.7, 41.7, 48.3, 29. , 24. , 25.1, 31.5, 23.7, 23.3, 22. , 20.1,\n",
       "        22.2, 23.7, 17.6, 18.5, 24.3, 20.5, 24.5, 26.2, 24.4, 24.8, 29.6,\n",
       "        42.8, 21.9, 20.9, 44. , 50. , 36. , 30.1, 33.8, 43.1, 48.8, 31. ,\n",
       "        36.5, 22.8, 30.7, 50. , 43.5, 20.7, 21.1, 25.2, 24.4, 35.2, 32.4,\n",
       "        32. , 33.2, 33.1, 29.1, 35.1, 45.4, 35.4, 46. , 50. , 32.2, 22. ,\n",
       "        20.1, 23.2, 22.3, 24.8, 28.5, 37.3, 27.9, 23.9, 21.7, 28.6, 27.1,\n",
       "        20.3, 22.5, 29. , 24.8, 22. , 26.4, 33.1, 36.1, 28.4, 33.4, 28.2,\n",
       "        22.8, 20.3, 16.1, 22.1, 19.4, 21.6, 23.8, 16.2, 17.8, 19.8, 23.1,\n",
       "        21. , 23.8, 23.1, 20.4, 18.5, 25. , 24.6, 23. , 22.2, 19.3, 22.6,\n",
       "        19.8, 17.1, 19.4, 22.2, 20.7, 21.1, 19.5, 18.5, 20.6, 19. , 18.7,\n",
       "        32.7, 16.5, 23.9, 31.2, 17.5, 17.2, 23.1, 24.5, 26.6, 22.9, 24.1,\n",
       "        18.6, 30.1, 18.2, 20.6, 17.8, 21.7, 22.7, 22.6, 25. , 19.9, 20.8,\n",
       "        16.8, 21.9, 27.5, 21.9, 23.1, 50. , 50. , 50. , 50. , 50. , 13.8,\n",
       "        13.8, 15. , 13.9, 13.3, 13.1, 10.2, 10.4, 10.9, 11.3, 12.3,  8.8,\n",
       "         7.2, 10.5,  7.4, 10.2, 11.5, 15.1, 23.2,  9.7, 13.8, 12.7, 13.1,\n",
       "        12.5,  8.5,  5. ,  6.3,  5.6,  7.2, 12.1,  8.3,  8.5,  5. , 11.9,\n",
       "        27.9, 17.2, 27.5, 15. , 17.2, 17.9, 16.3,  7. ,  7.2,  7.5, 10.4,\n",
       "         8.8,  8.4, 16.7, 14.2, 20.8, 13.4, 11.7,  8.3, 10.2, 10.9, 11. ,\n",
       "         9.5, 14.5, 14.1, 16.1, 14.3, 11.7, 13.4,  9.6,  8.7,  8.4, 12.8,\n",
       "        10.5, 17.1, 18.4, 15.4, 10.8, 11.8, 14.9, 12.6, 14.1, 13. , 13.4,\n",
       "        15.2, 16.1, 17.8, 14.9, 14.1, 12.7, 13.5, 14.9, 20. , 16.4, 17.7,\n",
       "        19.5, 20.2, 21.4, 19.9, 19. , 19.1, 19.1, 20.1, 19.9, 19.6, 23.2,\n",
       "        29.8, 13.8, 13.3, 16.7, 12. , 14.6, 21.4, 23. , 23.7, 25. , 21.8,\n",
       "        20.6, 21.2, 19.1, 20.6, 15.2,  7. ,  8.1, 13.6, 20.1, 21.8, 24.5,\n",
       "        23.1, 19.7, 18.3, 21.2, 17.5, 16.8, 22.4, 20.6, 23.9, 22. , 11.9]),\n",
       " 'feature_names': array(['CRIM', 'ZN', 'INDUS', 'CHAS', 'NOX', 'RM', 'AGE', 'DIS', 'RAD',\n",
       "        'TAX', 'PTRATIO', 'B', 'LSTAT'], dtype='<U7'),\n",
       " 'DESCR': \".. _boston_dataset:\\n\\nBoston house prices dataset\\n---------------------------\\n\\n**Data Set Characteristics:**  \\n\\n    :Number of Instances: 506 \\n\\n    :Number of Attributes: 13 numeric/categorical predictive. Median Value (attribute 14) is usually the target.\\n\\n    :Attribute Information (in order):\\n        - CRIM     per capita crime rate by town\\n        - ZN       proportion of residential land zoned for lots over 25,000 sq.ft.\\n        - INDUS    proportion of non-retail business acres per town\\n        - CHAS     Charles River dummy variable (= 1 if tract bounds river; 0 otherwise)\\n        - NOX      nitric oxides concentration (parts per 10 million)\\n        - RM       average number of rooms per dwelling\\n        - AGE      proportion of owner-occupied units built prior to 1940\\n        - DIS      weighted distances to five Boston employment centres\\n        - RAD      index of accessibility to radial highways\\n        - TAX      full-value property-tax rate per $10,000\\n        - PTRATIO  pupil-teacher ratio by town\\n        - B        1000(Bk - 0.63)^2 where Bk is the proportion of black people by town\\n        - LSTAT    % lower status of the population\\n        - MEDV     Median value of owner-occupied homes in $1000's\\n\\n    :Missing Attribute Values: None\\n\\n    :Creator: Harrison, D. and Rubinfeld, D.L.\\n\\nThis is a copy of UCI ML housing dataset.\\nhttps://archive.ics.uci.edu/ml/machine-learning-databases/housing/\\n\\n\\nThis dataset was taken from the StatLib library which is maintained at Carnegie Mellon University.\\n\\nThe Boston house-price data of Harrison, D. and Rubinfeld, D.L. 'Hedonic\\nprices and the demand for clean air', J. Environ. Economics & Management,\\nvol.5, 81-102, 1978.   Used in Belsley, Kuh & Welsch, 'Regression diagnostics\\n...', Wiley, 1980.   N.B. Various transformations are used in the table on\\npages 244-261 of the latter.\\n\\nThe Boston house-price data has been used in many machine learning papers that address regression\\nproblems.   \\n     \\n.. topic:: References\\n\\n   - Belsley, Kuh & Welsch, 'Regression diagnostics: Identifying Influential Data and Sources of Collinearity', Wiley, 1980. 244-261.\\n   - Quinlan,R. (1993). Combining Instance-Based and Model-Based Learning. In Proceedings on the Tenth International Conference of Machine Learning, 236-243, University of Massachusetts, Amherst. Morgan Kaufmann.\\n\",\n",
       " 'filename': 'boston_house_prices.csv',\n",
       " 'data_module': 'sklearn.datasets.data'}"
      ]
     },
     "execution_count": 5,
     "metadata": {},
     "output_type": "execute_result"
    }
   ],
   "source": [
    "raw_boston"
   ]
  },
  {
   "cell_type": "code",
   "execution_count": 6,
   "id": "451a9238",
   "metadata": {},
   "outputs": [
    {
     "name": "stdout",
     "output_type": "stream",
     "text": [
      "['CRIM' 'ZN' 'INDUS' 'CHAS' 'NOX' 'RM' 'AGE' 'DIS' 'RAD' 'TAX' 'PTRATIO'\n",
      " 'B' 'LSTAT']\n"
     ]
    }
   ],
   "source": [
    "print(raw_boston.feature_names)"
   ]
  },
  {
   "cell_type": "code",
   "execution_count": 7,
   "id": "71fa7fe7",
   "metadata": {},
   "outputs": [
    {
     "name": "stdout",
     "output_type": "stream",
     "text": [
      ".. _boston_dataset:\n",
      "\n",
      "Boston house prices dataset\n",
      "---------------------------\n",
      "\n",
      "**Data Set Characteristics:**  \n",
      "\n",
      "    :Number of Instances: 506 \n",
      "\n",
      "    :Number of Attributes: 13 numeric/categorical predictive. Median Value (attribute 14) is usually the target.\n",
      "\n",
      "    :Attribute Information (in order):\n",
      "        - CRIM     per capita crime rate by town\n",
      "        - ZN       proportion of residential land zoned for lots over 25,000 sq.ft.\n",
      "        - INDUS    proportion of non-retail business acres per town\n",
      "        - CHAS     Charles River dummy variable (= 1 if tract bounds river; 0 otherwise)\n",
      "        - NOX      nitric oxides concentration (parts per 10 million)\n",
      "        - RM       average number of rooms per dwelling\n",
      "        - AGE      proportion of owner-occupied units built prior to 1940\n",
      "        - DIS      weighted distances to five Boston employment centres\n",
      "        - RAD      index of accessibility to radial highways\n",
      "        - TAX      full-value property-tax rate per $10,000\n",
      "        - PTRATIO  pupil-teacher ratio by town\n",
      "        - B        1000(Bk - 0.63)^2 where Bk is the proportion of black people by town\n",
      "        - LSTAT    % lower status of the population\n",
      "        - MEDV     Median value of owner-occupied homes in $1000's\n",
      "\n",
      "    :Missing Attribute Values: None\n",
      "\n",
      "    :Creator: Harrison, D. and Rubinfeld, D.L.\n",
      "\n",
      "This is a copy of UCI ML housing dataset.\n",
      "https://archive.ics.uci.edu/ml/machine-learning-databases/housing/\n",
      "\n",
      "\n",
      "This dataset was taken from the StatLib library which is maintained at Carnegie Mellon University.\n",
      "\n",
      "The Boston house-price data of Harrison, D. and Rubinfeld, D.L. 'Hedonic\n",
      "prices and the demand for clean air', J. Environ. Economics & Management,\n",
      "vol.5, 81-102, 1978.   Used in Belsley, Kuh & Welsch, 'Regression diagnostics\n",
      "...', Wiley, 1980.   N.B. Various transformations are used in the table on\n",
      "pages 244-261 of the latter.\n",
      "\n",
      "The Boston house-price data has been used in many machine learning papers that address regression\n",
      "problems.   \n",
      "     \n",
      ".. topic:: References\n",
      "\n",
      "   - Belsley, Kuh & Welsch, 'Regression diagnostics: Identifying Influential Data and Sources of Collinearity', Wiley, 1980. 244-261.\n",
      "   - Quinlan,R. (1993). Combining Instance-Based and Model-Based Learning. In Proceedings on the Tenth International Conference of Machine Learning, 236-243, University of Massachusetts, Amherst. Morgan Kaufmann.\n",
      "\n"
     ]
    }
   ],
   "source": [
    "print(raw_boston.DESCR)"
   ]
  },
  {
   "cell_type": "code",
   "execution_count": 8,
   "id": "a8dafa91",
   "metadata": {},
   "outputs": [],
   "source": [
    "boston = pd.DataFrame(raw_boston.data, columns = raw_boston.feature_names)"
   ]
  },
  {
   "cell_type": "code",
   "execution_count": 9,
   "id": "14103c6e",
   "metadata": {},
   "outputs": [
    {
     "data": {
      "text/plain": [
       "(506, 13)"
      ]
     },
     "execution_count": 9,
     "metadata": {},
     "output_type": "execute_result"
    }
   ],
   "source": [
    "boston.shape"
   ]
  },
  {
   "cell_type": "code",
   "execution_count": 10,
   "id": "86405cf8",
   "metadata": {},
   "outputs": [],
   "source": [
    "dataset = pd.DataFrame(np.c_[boston['ZN'], boston['CRIM'], boston['RM'], boston['LSTAT']])"
   ]
  },
  {
   "cell_type": "code",
   "execution_count": 11,
   "id": "d93ea5f9",
   "metadata": {},
   "outputs": [],
   "source": [
    "dataset = dataset.values"
   ]
  },
  {
   "cell_type": "code",
   "execution_count": 12,
   "id": "20d9645c",
   "metadata": {},
   "outputs": [
    {
     "data": {
      "text/plain": [
       "numpy.ndarray"
      ]
     },
     "execution_count": 12,
     "metadata": {},
     "output_type": "execute_result"
    }
   ],
   "source": [
    "type(dataset)"
   ]
  },
  {
   "cell_type": "code",
   "execution_count": 13,
   "id": "ab44ce88",
   "metadata": {},
   "outputs": [
    {
     "data": {
      "text/plain": [
       "(506, 4)"
      ]
     },
     "execution_count": 13,
     "metadata": {},
     "output_type": "execute_result"
    }
   ],
   "source": [
    "dataset.shape"
   ]
  },
  {
   "cell_type": "code",
   "execution_count": 14,
   "id": "867cc251",
   "metadata": {},
   "outputs": [
    {
     "name": "stdout",
     "output_type": "stream",
     "text": [
      "(4,)\n"
     ]
    }
   ],
   "source": [
    "u = np.mean(dataset, axis = 0)\n",
    "print(u.shape)"
   ]
  },
  {
   "cell_type": "code",
   "execution_count": 15,
   "id": "b943f8ba",
   "metadata": {},
   "outputs": [
    {
     "name": "stdout",
     "output_type": "stream",
     "text": [
      "(4,)\n"
     ]
    }
   ],
   "source": [
    "std = np.std(dataset, axis = 0)\n",
    "print(std.shape)"
   ]
  },
  {
   "cell_type": "code",
   "execution_count": 16,
   "id": "c2b5a352",
   "metadata": {},
   "outputs": [],
   "source": [
    "dataset = (dataset - u)/std"
   ]
  },
  {
   "cell_type": "code",
   "execution_count": 17,
   "id": "7899df47",
   "metadata": {},
   "outputs": [
    {
     "data": {
      "text/plain": [
       "array([[ 0.28482986, -0.41978194,  0.41367189, -1.0755623 ],\n",
       "       [-0.48772236, -0.41733926,  0.19427445, -0.49243937],\n",
       "       [-0.48772236, -0.41734159,  1.28271368, -1.2087274 ],\n",
       "       ...,\n",
       "       [-0.48772236, -0.41344658,  0.98496002, -0.98304761],\n",
       "       [-0.48772236, -0.40776407,  0.72567214, -0.86530163],\n",
       "       [-0.48772236, -0.41500016, -0.36276709, -0.66905833]])"
      ]
     },
     "execution_count": 17,
     "metadata": {},
     "output_type": "execute_result"
    }
   ],
   "source": [
    "dataset"
   ]
  },
  {
   "cell_type": "code",
   "execution_count": 18,
   "id": "be717625",
   "metadata": {},
   "outputs": [],
   "source": [
    "split = 0.8\n",
    "train_X = dataset[:int(split * dataset.shape[0]), :]\n",
    "test_X = dataset[int(split * dataset.shape[0]):, :]\n",
    "train_Y = raw_boston.target[:int(split * dataset.shape[0])]\n",
    "test_Y = raw_boston.target[int(split * dataset.shape[0]):]"
   ]
  },
  {
   "cell_type": "code",
   "execution_count": 19,
   "id": "4959595f",
   "metadata": {},
   "outputs": [
    {
     "name": "stdout",
     "output_type": "stream",
     "text": [
      "(404, 4) (102, 4) (404,) (102,)\n"
     ]
    }
   ],
   "source": [
    "print(train_X.shape, test_X.shape, train_Y.shape, test_Y.shape)"
   ]
  },
  {
   "cell_type": "code",
   "execution_count": 20,
   "id": "b06055cc",
   "metadata": {},
   "outputs": [
    {
     "name": "stdout",
     "output_type": "stream",
     "text": [
      "<class 'numpy.ndarray'> <class 'numpy.ndarray'> <class 'numpy.ndarray'> <class 'numpy.ndarray'>\n"
     ]
    }
   ],
   "source": [
    "print(type(train_X), type(test_X), type(train_Y), type(test_Y))"
   ]
  },
  {
   "cell_type": "code",
   "execution_count": 21,
   "id": "5ba5a5cf",
   "metadata": {},
   "outputs": [
    {
     "data": {
      "text/plain": [
       "(506, 4)"
      ]
     },
     "execution_count": 21,
     "metadata": {},
     "output_type": "execute_result"
    }
   ],
   "source": [
    "dataset.shape"
   ]
  },
  {
   "cell_type": "code",
   "execution_count": 22,
   "id": "cf444af0",
   "metadata": {},
   "outputs": [],
   "source": [
    "ones = np.ones((train_X.shape[0], 1))\n",
    "train_X = np.hstack((ones, train_X))"
   ]
  },
  {
   "cell_type": "code",
   "execution_count": 23,
   "id": "d8e46693",
   "metadata": {},
   "outputs": [
    {
     "data": {
      "text/plain": [
       "(404, 5)"
      ]
     },
     "execution_count": 23,
     "metadata": {},
     "output_type": "execute_result"
    }
   ],
   "source": [
    "train_X.shape"
   ]
  },
  {
   "cell_type": "code",
   "execution_count": 32,
   "id": "3eb6f953",
   "metadata": {},
   "outputs": [],
   "source": [
    "def hypothesis(X, weight):\n",
    "    y_pred = 0\n",
    "    for i in range(X.shape[0]):       # 0 because of the vector of train_X\n",
    "        y_pred += weight[i]*X[i]\n",
    "    return y_pred"
   ]
  },
  {
   "cell_type": "code",
   "execution_count": 26,
   "id": "e2876535",
   "metadata": {},
   "outputs": [],
   "source": [
    "def loss_function(X, Y, weight):\n",
    "    loss = 0\n",
    "    \n",
    "    for i in range(X.shape[0]):\n",
    "        y_pred = hypothesis(X[i], weight)\n",
    "        y_t = Y[i]\n",
    "        \n",
    "        loss += (y_pred - y_t)**2\n",
    "        \n",
    "    return loss/X.shape[0]"
   ]
  },
  {
   "cell_type": "code",
   "execution_count": 36,
   "id": "3b7a88c3",
   "metadata": {},
   "outputs": [],
   "source": [
    "def gradient(X, Y, weights):\n",
    "    \n",
    "    grad = np.zeros((X.shape[1], ))\n",
    "    \n",
    "    for j in range(X.shape[1]):\n",
    "        for i in range(X.shape[0]):\n",
    "            y_pred = hypothesis(X[i], weights)\n",
    "            y_t = Y[i]\n",
    "\n",
    "            grad[j] += (y_pred - y_t) * X[i][j]\n",
    "        \n",
    "    return grad/X.shape[0]"
   ]
  },
  {
   "cell_type": "code",
   "execution_count": 45,
   "id": "a6c77441",
   "metadata": {},
   "outputs": [],
   "source": [
    "def gradient_descent(X, Y):\n",
    "    lr_rate = 0.003\n",
    "    weight = np.zeros((X.shape[1], ))\n",
    "    \n",
    "    loss_epoch = []\n",
    "    epoch = 5000\n",
    "    \n",
    "    for i in range(epoch):\n",
    "        \n",
    "        grad = gradient(X, Y, weight)\n",
    "        \n",
    "        for j in range(X.shape[1]):\n",
    "            weight[j] = weight[j] - lr_rate * grad[j]\n",
    "            \n",
    "        loss = loss_function(X, Y, weight)\n",
    "        loss_epoch.append(loss)\n",
    "        \n",
    "    return weight, loss_epoch"
   ]
  },
  {
   "cell_type": "code",
   "execution_count": 46,
   "id": "af53b8c7",
   "metadata": {},
   "outputs": [],
   "source": [
    "weight, loss_epoch = gradient_descent(train_X, train_Y)"
   ]
  },
  {
   "cell_type": "code",
   "execution_count": 47,
   "id": "ae4c3fd0",
   "metadata": {},
   "outputs": [
    {
     "data": {
      "text/plain": [
       "[<matplotlib.lines.Line2D at 0x25d1d103fa0>]"
      ]
     },
     "execution_count": 47,
     "metadata": {},
     "output_type": "execute_result"
    },
    {
     "data": {
      "image/png": "[encoded data removed]",
      "text/plain": [
       "<Figure size 640x480 with 1 Axes>"
      ]
     },
     "metadata": {},
     "output_type": "display_data"
    }
   ],
   "source": [
    "import matplotlib.pyplot as plt\n",
    "plt.plot(loss_epoch)"
   ]
  },
  {
   "cell_type": "code",
   "execution_count": 48,
   "id": "b76ad9cd",
   "metadata": {},
   "outputs": [],
   "source": [
    "# ___________________ OPTIMIZED CODE ________________________________________"
   ]
  },
  {
   "cell_type": "code",
   "execution_count": 50,
   "id": "07d89e9d",
   "metadata": {},
   "outputs": [],
   "source": [
    "def hypothesis(X, weight):\n",
    "    return np.dot(X, weight)"
   ]
  },
  {
   "cell_type": "code",
   "execution_count": 57,
   "id": "9f1d2fd6",
   "metadata": {},
   "outputs": [],
   "source": [
    "def loss_function(X, Y, weight):\n",
    "    loss = 0\n",
    "    \n",
    "    y_pred = hypothesis(X, weight)\n",
    "\n",
    "    loss = np.mean((y_pred - Y)**2)\n",
    "        \n",
    "    return loss"
   ]
  },
  {
   "cell_type": "code",
   "execution_count": 58,
   "id": "7db6485a",
   "metadata": {},
   "outputs": [],
   "source": [
    "def gradient(X, Y, weights):\n",
    "    \n",
    "    y_pred = hypothesis(X, weights)\n",
    "\n",
    "    grad = np.dot(X.T, (y_pred - Y))\n",
    "        \n",
    "    return grad/X.shape[0]"
   ]
  },
  {
   "cell_type": "code",
   "execution_count": 59,
   "id": "264c0d65",
   "metadata": {},
   "outputs": [],
   "source": [
    "def gradient_descent(X, Y):\n",
    "    lr_rate = 0.003\n",
    "    weight = np.zeros((X.shape[1], ))\n",
    "    \n",
    "    loss_epoch = []\n",
    "    epoch = 5000\n",
    "    \n",
    "    for i in range(epoch):\n",
    "        \n",
    "        grad = gradient(X, Y, weight)\n",
    "        \n",
    "        weight = weight - lr_rate * grad\n",
    "            \n",
    "        loss = loss_function(X, Y, weight)\n",
    "        loss_epoch.append(loss)\n",
    "        \n",
    "    return weight, loss_epoch"
   ]
  },
  {
   "cell_type": "code",
   "execution_count": 60,
   "id": "58be8fba",
   "metadata": {},
   "outputs": [],
   "source": [
    "weight, loss_epoch = gradient_descent(train_X, train_Y)"
   ]
  },
  {
   "cell_type": "code",
   "execution_count": 61,
   "id": "0ac2122c",
   "metadata": {},
   "outputs": [
    {
     "data": {
      "text/plain": [
       "[<matplotlib.lines.Line2D at 0x25d19451310>]"
      ]
     },
     "execution_count": 61,
     "metadata": {},
     "output_type": "execute_result"
    },
    {
     "data": {
      "image/png": "[encoded data removed]",
      "text/plain": [
       "<Figure size 640x480 with 1 Axes>"
      ]
     },
     "metadata": {},
     "output_type": "display_data"
    }
   ],
   "source": [
    "plt.plot(loss_epoch)"
   ]
  },
  {
   "cell_type": "code",
   "execution_count": 62,
   "id": "7f2bd05f",
   "metadata": {},
   "outputs": [],
   "source": [
    "ones = np.ones((test_X.shape[0], 1))\n",
    "test_X = np.hstack((ones, test_X))"
   ]
  },
  {
   "cell_type": "code",
   "execution_count": 63,
   "id": "1d318ba9",
   "metadata": {},
   "outputs": [],
   "source": [
    "y_pred = hypothesis(test_X, weight)"
   ]
  },
  {
   "cell_type": "code",
   "execution_count": 64,
   "id": "870638ff",
   "metadata": {},
   "outputs": [],
   "source": [
    "from sklearn import metrics"
   ]
  },
  {
   "cell_type": "code",
   "execution_count": 66,
   "id": "f3407b7b",
   "metadata": {},
   "outputs": [
    {
     "name": "stdout",
     "output_type": "stream",
     "text": [
      "MSE: 33.41459052230842\n",
      "MAE: 4.69568152186628\n",
      "RMSE: 5.7805354875053245\n"
     ]
    }
   ],
   "source": [
    "print(f'MSE: {metrics.mean_squared_error(y_pred, test_Y)}')\n",
    "print(f'MAE: {metrics.mean_absolute_error(y_pred, test_Y)}')\n",
    "print(f'RMSE: {(metrics.mean_squared_error(y_pred, test_Y))**0.5}')"
   ]
  },
  {
   "cell_type": "code",
   "execution_count": 67,
   "id": "1e25a31a",
   "metadata": {},
   "outputs": [
    {
     "name": "stdout",
     "output_type": "stream",
     "text": [
      "7.475219594474156 8.5\n",
      "7.99387120366686 5.0\n",
      "2.5138944237426224 11.9\n",
      "18.14533405243841 27.9\n",
      "11.808283252672652 17.2\n",
      "22.202598194411145 27.5\n",
      "16.26260914584417 15.0\n",
      "20.30208765756021 17.2\n",
      "0.5516255619933805 17.9\n",
      "9.815165191223066 16.3\n",
      "-4.011473236526104 7.0\n",
      "14.731904131229875 7.2\n",
      "19.225267469412305 7.5\n",
      "7.8899915445182085 10.4\n",
      "10.333497664551915 8.8\n",
      "20.8602943246859 8.4\n",
      "21.985149213058527 16.7\n",
      "19.461400354237153 14.2\n",
      "17.448228088314806 20.8\n",
      "16.44361182321839 13.4\n",
      "15.76710535055731 11.7\n",
      "13.736224374708138 8.3\n",
      "17.877099634612346 10.2\n",
      "18.306769964185605 10.9\n",
      "17.83693368899182 11.0\n",
      "17.61620735551531 9.5\n",
      "20.578687168155337 14.5\n",
      "22.54892807141174 14.1\n",
      "23.95794822653596 16.1\n",
      "22.10490249541154 14.3\n",
      "20.339416326844898 11.7\n",
      "19.421384414094792 13.4\n",
      "20.530062906272754 9.6\n",
      "14.454481290545957 8.7\n",
      "9.584432996137249 8.4\n",
      "13.365693428099082 12.8\n",
      "13.72811839058289 10.5\n",
      "19.929737292799302 17.1\n",
      "20.5302366498367 18.4\n",
      "20.732896855375373 15.4\n",
      "14.051679435719903 10.8\n",
      "18.040428869507767 11.8\n",
      "20.67599919650362 14.9\n",
      "20.39350966289216 12.6\n",
      "19.21924271283857 14.1\n",
      "20.314165371173996 13.0\n",
      "23.413783736736235 13.4\n",
      "22.79704969442393 15.2\n",
      "20.759738847088055 16.1\n",
      "27.72313744574178 17.8\n",
      "22.399509207753848 14.9\n",
      "21.840096568730935 14.1\n",
      "17.912193346011257 12.7\n",
      "18.30489794492826 13.5\n",
      "21.025117198942848 14.9\n",
      "20.44206837030979 20.0\n",
      "23.780151385927553 16.4\n",
      "22.65622093799487 17.7\n",
      "22.307159844514075 19.5\n",
      "25.41531544743505 20.2\n",
      "21.869679448972335 21.4\n",
      "19.006988688123197 19.9\n",
      "18.73638023563258 19.0\n",
      "17.002351580130124 19.1\n",
      "16.954792126228625 19.1\n",
      "17.44845441840493 20.1\n",
      "20.468990788998806 19.9\n",
      "22.534391268887493 19.6\n",
      "23.197721312251538 23.2\n",
      "27.862529861029103 29.8\n",
      "14.485704744037434 13.8\n",
      "16.497081100983035 13.3\n",
      "21.302595654418266 16.7\n",
      "9.778655188847951 12.0\n",
      "19.179392202679786 14.6\n",
      "21.41989936571628 21.4\n",
      "23.464645753388915 23.0\n",
      "28.16504070303176 23.7\n",
      "30.503398947402474 25.0\n",
      "20.83700714163439 21.8\n",
      "20.178629914482947 20.6\n",
      "24.198168188891515 21.2\n",
      "20.62689147636476 19.1\n",
      "21.063150639623558 20.6\n",
      "15.464321046032564 15.2\n",
      "12.373881714487835 7.0\n",
      "7.5812388966032955 8.1\n",
      "18.85032453519698 13.6\n",
      "21.110927615662433 20.1\n",
      "19.98002002230966 21.8\n",
      "20.614731932850322 24.5\n",
      "17.064688049250773 23.1\n",
      "13.565660238771065 19.7\n",
      "19.526496691716634 18.3\n",
      "21.53496964126156 21.2\n",
      "17.615885597318925 17.5\n",
      "20.912143870203508 16.8\n",
      "26.783519298962894 22.4\n",
      "24.039920347720763 20.6\n",
      "31.16608598428461 23.9\n",
      "29.593858288273758 22.0\n",
      "24.038441496340727 11.9\n"
     ]
    }
   ],
   "source": [
    "for i in range(y_pred.shape[0]):\n",
    "    print(y_pred[i], test_Y[i])"
   ]
  },
  {
   "cell_type": "code",
   "execution_count": 68,
   "id": "1b7eee26",
   "metadata": {},
   "outputs": [
    {
     "data": {
      "text/plain": [
       "(506, 13)"
      ]
     },
     "execution_count": 68,
     "metadata": {},
     "output_type": "execute_result"
    }
   ],
   "source": [
    "data.shape"
   ]
  },
  {
   "cell_type": "code",
   "execution_count": 73,
   "id": "abc35ccc",
   "metadata": {},
   "outputs": [],
   "source": [
    "df = np.hstack((data[:, 0].reshape(-1, 1), data[:, 2].reshape(-1, 1), data[:, -1].reshape(-1, 1)))"
   ]
  },
  {
   "cell_type": "code",
   "execution_count": 74,
   "id": "282be8be",
   "metadata": {},
   "outputs": [
    {
     "data": {
      "text/plain": [
       "(506, 3)"
      ]
     },
     "execution_count": 74,
     "metadata": {},
     "output_type": "execute_result"
    }
   ],
   "source": [
    "df.shape"
   ]
  },
  {
   "cell_type": "code",
   "execution_count": 75,
   "id": "54ce1943",
   "metadata": {},
   "outputs": [],
   "source": [
    "a = np.array([1,2,3,4,5,6,7,8,9,0])"
   ]
  },
  {
   "cell_type": "code",
   "execution_count": 80,
   "id": "8a596cb1",
   "metadata": {},
   "outputs": [
    {
     "data": {
      "text/plain": [
       "(2, 5)"
      ]
     },
     "execution_count": 80,
     "metadata": {},
     "output_type": "execute_result"
    }
   ],
   "source": [
    "a.reshape(-1, 5).shape"
   ]
  },
  {
   "cell_type": "code",
   "execution_count": null,
   "id": "014bc93d",
   "metadata": {},
   "outputs": [],
   "source": []
  }
 ],
 "metadata": {
  "kernelspec": {
   "display_name": "Python 3 (ipykernel)",
   "language": "python",
   "name": "python3"
  },
  "language_info": {
   "codemirror_mode": {
    "name": "ipython",
    "version": 3
   },
   "file_extension": ".py",
   "mimetype": "text/x-python",
   "name": "python",
   "nbconvert_exporter": "python",
   "pygments_lexer": "ipython3",
   "version": "3.8.10"
  }
 },
 "nbformat": 4,
 "nbformat_minor": 5
}
